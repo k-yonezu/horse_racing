{
 "cells": [
  {
   "cell_type": "code",
   "execution_count": null,
   "metadata": {
    "scrolled": false
   },
   "outputs": [],
   "source": [
    "!ls -a"
   ]
  },
  {
   "cell_type": "code",
   "execution_count": null,
   "metadata": {
    "scrolled": false
   },
   "outputs": [],
   "source": [
    "import pandas as pd\n",
    "import tensorflow as tf\n",
    "import numpy as np\n",
    "from sklearn.model_selection import train_test_split\n",
    "\n",
    "import utils.read_data as rd\n",
    "import utils.io_model as io_m"
   ]
  },
  {
   "cell_type": "code",
   "execution_count": null,
   "metadata": {
    "scrolled": false
   },
   "outputs": [],
   "source": [
    "import os\n",
    "from os.path import join, dirname\n",
    "from dotenv import load_dotenv\n",
    "from pathlib import Path"
   ]
  },
  {
   "cell_type": "code",
   "execution_count": null,
   "metadata": {
    "scrolled": false
   },
   "outputs": [],
   "source": [
    "load_dotenv(verbose=True)\n",
    "dotenv_path = join(Path().resolve(), '.env')\n",
    "load_dotenv(dotenv_path)"
   ]
  },
  {
   "cell_type": "code",
   "execution_count": null,
   "metadata": {
    "scrolled": false
   },
   "outputs": [],
   "source": [
    "GOOGLE_DRIVE_PATH = os.environ.get(\"GOOGLE_DRIVE_PATH\") + '/horse_racing'\n",
    "DATA_PATH = GOOGLE_DRIVE_PATH + '/csv/'"
   ]
  },
  {
   "cell_type": "code",
   "execution_count": null,
   "metadata": {
    "scrolled": false
   },
   "outputs": [],
   "source": [
    "print(GOOGLE_DRIVE_PATH)"
   ]
  },
  {
   "cell_type": "code",
   "execution_count": null,
   "metadata": {
    "scrolled": false
   },
   "outputs": [],
   "source": [
    "df = rd.read_horse_csv(DATA_PATH)"
   ]
  },
  {
   "cell_type": "code",
   "execution_count": null,
   "metadata": {
    "scrolled": false
   },
   "outputs": [],
   "source": [
    "df.info()"
   ]
  },
  {
   "cell_type": "markdown",
   "metadata": {},
   "source": [
    "すぐに使えそうな特徴量\n",
    "* frame_number, burden_weight, odds, popular\n",
    "\n",
    "加工が必要な特徴量\n",
    "* horse_id, sex_and_age, rider_id, half_way_rank, horse_weight, tamer_id"
   ]
  },
  {
   "cell_type": "markdown",
   "metadata": {},
   "source": [
    "## 前処理"
   ]
  },
  {
   "cell_type": "code",
   "execution_count": null,
   "metadata": {
    "scrolled": false
   },
   "outputs": [],
   "source": [
    "# 3レース前までのデータがない行は削除\n",
    "df = df.dropna(subset=['rank_3'])\n",
    "df = df.dropna(how=\"any\", axis=1)"
   ]
  },
  {
   "cell_type": "code",
   "execution_count": null,
   "metadata": {
    "scrolled": false
   },
   "outputs": [],
   "source": [
    "# 欠損値？\n",
    "df = df.replace('---', 0)\n",
    "df = df.sample(frac=1, random_state=10)"
   ]
  },
  {
   "cell_type": "code",
   "execution_count": null,
   "metadata": {
    "scrolled": false
   },
   "outputs": [],
   "source": [
    "# 欠損値の確認\n",
    "df.isnull().sum()"
   ]
  },
  {
   "cell_type": "markdown",
   "metadata": {},
   "source": [
    "### ラベルの作成\n"
   ]
  },
  {
   "cell_type": "code",
   "execution_count": null,
   "metadata": {
    "scrolled": false
   },
   "outputs": [],
   "source": [
    "def make_label(rank_values, horse_number_values):\n",
    "    labels = []\n",
    "    high = 1 / 3\n",
    "    mid = 2 / 3\n",
    "    for rank, horse_number in zip(rank_values, horse_number_values):\n",
    "        # 順位が付かないデータに関しては最低レベルのラベルを付与\n",
    "        if rank in [\"中\", \"取\", \"除\"]:\n",
    "            labels.append(\"low\")\n",
    "            continue\n",
    "        relative_rank = int(rank) / horse_number\n",
    "    \n",
    "        if relative_rank < high:\n",
    "            labels.append(\"high\")\n",
    "        elif relative_rank < mid:\n",
    "            labels.append(\"middle\")\n",
    "        else:\n",
    "            labels.append(\"low\")\n",
    "            \n",
    "    return labels"
   ]
  },
  {
   "cell_type": "code",
   "execution_count": null,
   "metadata": {
    "scrolled": false
   },
   "outputs": [],
   "source": [
    "df[\"label\"] = make_label(df[\"rank\"].values, df[\"total_horse_number_x\"].values)\n",
    "df[\"rank_1\"] = make_label(df[\"rank_1\"].values, df[\"total_horse_number_x_1\"].values)\n",
    "df[\"rank_2\"] = make_label(df[\"rank_2\"].values, df[\"total_horse_number_x_2\"].values)\n",
    "df[\"rank_3\"] = make_label(df[\"rank_3\"].values, df[\"total_horse_number_x_3\"].values)"
   ]
  },
  {
   "cell_type": "code",
   "execution_count": null,
   "metadata": {
    "scrolled": false
   },
   "outputs": [],
   "source": [
    "df.head()"
   ]
  },
  {
   "cell_type": "code",
   "execution_count": null,
   "metadata": {
    "scrolled": false
   },
   "outputs": [],
   "source": [
    "df[\"label\"].value_counts()"
   ]
  },
  {
   "cell_type": "code",
   "execution_count": null,
   "metadata": {
    "scrolled": false
   },
   "outputs": [],
   "source": [
    "# 本番データが無いのでダミーデータを作成\n",
    "dummy = df.copy()\n",
    "for _ in range(100):\n",
    "    df = df.append(dummy)\n",
    "\n",
    "dummy[\"label\"] = \"middle\"\n",
    "for _ in range(100):\n",
    "    df = df.append(dummy)\n",
    "\n",
    "dummy[\"label\"] = \"low\"\n",
    "for _ in range(100):\n",
    "    df = df.append(dummy)\n",
    "    "
   ]
  },
  {
   "cell_type": "code",
   "execution_count": null,
   "metadata": {
    "scrolled": false
   },
   "outputs": [],
   "source": [
    "# 学習に用いるデータセットの作成\n",
    "columns = [\"frame_number\", \"burden_weight\", \"sex_and_age\", \"race_title\", \n",
    "           \"race_course\", \"weather\", \"ground_status\", \"race_class\", \n",
    "           \"rank_1\", \"rank_2\", \"rank_3\", \"odds_1\", \"odds_2\", \"odds_3\",\n",
    "           \"label\"]\n",
    "df = pd.get_dummies(df[columns])\n",
    "x = np.array(df).astype(np.float32)\n",
    "y = np.array(df[[\"label_high\", \"label_middle\", \"label_low\"]]).astype(np.float32)\n",
    "del df\n",
    "x_train, x_test, y_train, y_test = train_test_split(x, y, test_size=0.3, random_state=11)\n",
    "del x, y"
   ]
  },
  {
   "cell_type": "code",
   "execution_count": null,
   "metadata": {
    "scrolled": false
   },
   "outputs": [],
   "source": [
    "# データセットのシャッフルとバッチ化\n",
    "train_ds = tf.data.Dataset.from_tensor_slices(\n",
    "    (x_train, y_train)).shuffle(10000).batch(1024)\n",
    "\n",
    "test_ds = tf.data.Dataset.from_tensor_slices((x_test, y_test)).batch(1024)"
   ]
  },
  {
   "cell_type": "code",
   "execution_count": null,
   "metadata": {
    "scrolled": false
   },
   "outputs": [],
   "source": [
    "x_train.shape[1]"
   ]
  },
  {
   "cell_type": "code",
   "execution_count": null,
   "metadata": {
    "scrolled": false
   },
   "outputs": [],
   "source": [
    "import tensorflow as tf\n",
    "import utils.sample_model as model\n",
    "    \n",
    "# モデルのインスタンスを作成\n",
    "model = model.HorseModel(x_train.shape[1], 3)"
   ]
  },
  {
   "cell_type": "code",
   "execution_count": null,
   "metadata": {
    "scrolled": false
   },
   "outputs": [],
   "source": [
    "metrics = [\n",
    "      tf.keras.metrics.TruePositives(name='tp'),\n",
    "      tf.keras.metrics.FalsePositives(name='fp'),\n",
    "      tf.keras.metrics.TrueNegatives(name='tn'),\n",
    "      tf.keras.metrics.FalseNegatives(name='fn'), \n",
    "      tf.keras.metrics.BinaryAccuracy(name='accuracy'),\n",
    "      tf.keras.metrics.Precision(name='precision'),\n",
    "      tf.keras.metrics.Recall(name='recall'),\n",
    "      tf.keras.metrics.AUC(name='auc'),\n",
    "]\n",
    "model.compile(optimizer='adam', \n",
    "              loss='categorical_crossentropy',\n",
    "              metrics=metrics)"
   ]
  },
  {
   "cell_type": "markdown",
   "metadata": {},
   "source": [
    "## 評価指標のメモ\n",
    "(陽性: 1~3着, 陰性: 4着~最下位)\n",
    "\n",
    "* tp: 真陽性の数\n",
    "* fp: 偽陽性の数\n",
    "* tn: 真陰性の数\n",
    "* fn: 偽陰性の数\n",
    "以下の指標は1に近いほど、モデルが良い性能を持っていることを示す。\n",
    "* accuracy: 正解率\n",
    "* precision: 適合率 <br>\n",
    "  3着以内と予測してどれだけ当たっているか？(陽性だった予測値の正解率 $\\frac{tp}{tp + fp}$)<br>\n",
    "* recall: 再現率 <br>\n",
    "  3着以内のデータをどれだけ当てられているか?(正解が陽性であるデータの正解率 $\\frac{tp}{tp + np}$)\n",
    "* auc: AUC<br>\n",
    "  0.5に近いと予測がランダムであることを示している"
   ]
  },
  {
   "cell_type": "code",
   "execution_count": null,
   "metadata": {
    "scrolled": true
   },
   "outputs": [],
   "source": [
    "model.fit(train_ds, epochs=100) "
   ]
  },
  {
   "cell_type": "code",
   "execution_count": null,
   "metadata": {
    "scrolled": false
   },
   "outputs": [],
   "source": [
    "model.evaluate(test_ds, verbose=2)"
   ]
  },
  {
   "cell_type": "code",
   "execution_count": null,
   "metadata": {
    "scrolled": true
   },
   "outputs": [],
   "source": [
    "# テストデータの予測値と正解ラベルの確認\n",
    "for pred, y in zip(model.predict(x_test), y_test):\n",
    "    print(f\"pred: {pred}, label: {y}\")"
   ]
  },
  {
   "cell_type": "code",
   "execution_count": null,
   "metadata": {
    "scrolled": false
   },
   "outputs": [],
   "source": [
    "# モデルの保存\n",
    "io_m.save_model(model, model_name=\"first_model\")"
   ]
  },
  {
   "cell_type": "code",
   "execution_count": null,
   "metadata": {
    "scrolled": false
   },
   "outputs": [],
   "source": [
    "# 保存したモデルに不具合がないか確認\n",
    "model = io_m.read_model(\"first_model\")\n",
    "model.evaluate(test_ds, verbose=2)"
   ]
  },
  {
   "cell_type": "code",
   "execution_count": null,
   "metadata": {
    "scrolled": false
   },
   "outputs": [],
   "source": []
  }
 ],
 "metadata": {
  "kernelspec": {
   "display_name": "Python 3",
   "language": "python",
   "name": "python3"
  },
  "language_info": {
   "codemirror_mode": {
    "name": "ipython",
    "version": 3
   },
   "file_extension": ".py",
   "mimetype": "text/x-python",
   "name": "python",
   "nbconvert_exporter": "python",
   "pygments_lexer": "ipython3",
   "version": "3.7.9"
  }
 },
 "nbformat": 4,
 "nbformat_minor": 4
}
