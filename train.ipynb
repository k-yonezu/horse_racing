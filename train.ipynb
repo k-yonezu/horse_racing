{
 "cells": [
  {
   "cell_type": "code",
   "execution_count": 1,
   "metadata": {
    "scrolled": false
   },
   "outputs": [],
   "source": [
    "!ls -a"
   ]
  },
  {
   "cell_type": "code",
   "execution_count": 2,
   "metadata": {
    "scrolled": false
   },
   "outputs": [],
   "source": [
    "import pandas as pd\n",
    "import tensorflow as tf\n",
    "import numpy as np\n",
    "from sklearn.model_selection import train_test_split\n",
    "\n",
    "import utils.read_data as rd\n",
    "import utils.io_model as io_m\n",
    "import utils.preprocessing as pp"
   ]
  },
  {
   "cell_type": "code",
   "execution_count": 3,
   "metadata": {
    "scrolled": false
   },
   "outputs": [],
   "source": [
    "import os\n",
    "from os.path import join, dirname\n",
    "from dotenv import load_dotenv\n",
    "from pathlib import Path"
   ]
  },
  {
   "cell_type": "code",
   "execution_count": 4,
   "metadata": {
    "scrolled": false
   },
   "outputs": [
    {
     "data": {
      "text/plain": [
       "True"
      ]
     },
     "execution_count": 4,
     "metadata": {},
     "output_type": "execute_result"
    }
   ],
   "source": [
    "load_dotenv(verbose=True)\n",
    "dotenv_path = join(Path().resolve(), '.env')\n",
    "load_dotenv(dotenv_path)"
   ]
  },
  {
   "cell_type": "code",
   "execution_count": 5,
   "metadata": {
    "scrolled": false
   },
   "outputs": [],
   "source": [
    "GOOGLE_DRIVE_PATH = os.environ.get(\"GOOGLE_DRIVE_PATH\") + '/horse_racing'\n",
    "DATA_PATH = GOOGLE_DRIVE_PATH + '/csv/'"
   ]
  },
  {
   "cell_type": "code",
   "execution_count": 6,
   "metadata": {
    "scrolled": false
   },
   "outputs": [
    {
     "name": "stdout",
     "output_type": "stream",
     "text": [
      "C:\\Users\\endo_\\Dropbox\\workspace\\HorseRacing/horse_racing\n"
     ]
    }
   ],
   "source": [
    "print(GOOGLE_DRIVE_PATH)"
   ]
  },
  {
   "cell_type": "code",
   "execution_count": 7,
   "metadata": {
    "scrolled": false
   },
   "outputs": [
    {
     "name": "stderr",
     "output_type": "stream",
     "text": [
      "c:\\users\\endo_\\anaconda3\\envs\\py37\\lib\\site-packages\\IPython\\core\\interactiveshell.py:3338: DtypeWarning: Columns (13,61,98,109,146,157,182,194,205,230,242,253,258,278,279,280,290,301,306,326,327,328,338,349,354,373,374,375,376,377,378,379,380,381,382,383,386,390,393,394,395,397,399,402,404,405,406,407,408,409,410,411,412,413,421,422,423,424,425,426,427,428,429,430,431,432,434,438,441,442,443,445,447,450,452,453,454,455,456,457,458,459,460,461,469,472,473,474,475,476,477,478,479,480,486,489,490,491,495,500,501,502,503,504,505,506,507,508,509,517,520,521,522,523,524,525,526,527,528,534,537,538,539,543,548,549,550,551,552,553,554,555,556,557,565,568,569,570,571,572,573,574,575,576,582,585,586,587,591,596,597,598,599,600,601,602,603,604,605,617,618,620,621,622,623,624) have mixed types.Specify dtype option on import or set low_memory=False.\n",
      "  if (await self.run_code(code, result,  async_=asy)):\n"
     ]
    }
   ],
   "source": [
    "df = rd.read_horse_csv(DATA_PATH)"
   ]
  },
  {
   "cell_type": "code",
   "execution_count": 8,
   "metadata": {
    "scrolled": false
   },
   "outputs": [
    {
     "name": "stdout",
     "output_type": "stream",
     "text": [
      "<class 'pandas.core.frame.DataFrame'>\n",
      "RangeIndex: 21327 entries, 0 to 21326\n",
      "Columns: 769 entries, Unnamed: 0 to rentan3_15\n",
      "dtypes: float64(384), int64(15), object(370)\n",
      "memory usage: 125.1+ MB\n"
     ]
    }
   ],
   "source": [
    "df.info()"
   ]
  },
  {
   "cell_type": "code",
   "execution_count": 9,
   "metadata": {},
   "outputs": [
    {
     "data": {
      "text/html": [
       "<div>\n",
       "<style scoped>\n",
       "    .dataframe tbody tr th:only-of-type {\n",
       "        vertical-align: middle;\n",
       "    }\n",
       "\n",
       "    .dataframe tbody tr th {\n",
       "        vertical-align: top;\n",
       "    }\n",
       "\n",
       "    .dataframe thead th {\n",
       "        text-align: right;\n",
       "    }\n",
       "</style>\n",
       "<table border=\"1\" class=\"dataframe\">\n",
       "  <thead>\n",
       "    <tr style=\"text-align: right;\">\n",
       "      <th></th>\n",
       "      <th>Unnamed: 0</th>\n",
       "      <th>race_id</th>\n",
       "      <th>rank</th>\n",
       "      <th>frame_number</th>\n",
       "      <th>horse_number</th>\n",
       "      <th>horse_id</th>\n",
       "      <th>sex_and_age</th>\n",
       "      <th>burden_weight</th>\n",
       "      <th>rider_id</th>\n",
       "      <th>goal_time</th>\n",
       "      <th>...</th>\n",
       "      <th>hukusyo_second_15</th>\n",
       "      <th>hukusyo_third_15</th>\n",
       "      <th>wakuren_15</th>\n",
       "      <th>umaren_15</th>\n",
       "      <th>wide_1_2_15</th>\n",
       "      <th>wide_1_3_15</th>\n",
       "      <th>wide_2_3_15</th>\n",
       "      <th>umatan_15</th>\n",
       "      <th>renhuku3_15</th>\n",
       "      <th>rentan3_15</th>\n",
       "    </tr>\n",
       "  </thead>\n",
       "  <tbody>\n",
       "    <tr>\n",
       "      <th>0</th>\n",
       "      <td>0</td>\n",
       "      <td>2.020070e+11</td>\n",
       "      <td>6</td>\n",
       "      <td>7</td>\n",
       "      <td>8</td>\n",
       "      <td>2015100929</td>\n",
       "      <td>牝5</td>\n",
       "      <td>55.0</td>\n",
       "      <td>1117</td>\n",
       "      <td>1:52.0</td>\n",
       "      <td>...</td>\n",
       "      <td>NaN</td>\n",
       "      <td>NaN</td>\n",
       "      <td>NaN</td>\n",
       "      <td>NaN</td>\n",
       "      <td>NaN</td>\n",
       "      <td>NaN</td>\n",
       "      <td>NaN</td>\n",
       "      <td>NaN</td>\n",
       "      <td>NaN</td>\n",
       "      <td>NaN</td>\n",
       "    </tr>\n",
       "    <tr>\n",
       "      <th>1</th>\n",
       "      <td>1</td>\n",
       "      <td>2.020060e+11</td>\n",
       "      <td>7</td>\n",
       "      <td>1</td>\n",
       "      <td>1</td>\n",
       "      <td>2015100929</td>\n",
       "      <td>牝5</td>\n",
       "      <td>52.0</td>\n",
       "      <td>1181</td>\n",
       "      <td>1:56.0</td>\n",
       "      <td>...</td>\n",
       "      <td>NaN</td>\n",
       "      <td>NaN</td>\n",
       "      <td>NaN</td>\n",
       "      <td>NaN</td>\n",
       "      <td>NaN</td>\n",
       "      <td>NaN</td>\n",
       "      <td>NaN</td>\n",
       "      <td>NaN</td>\n",
       "      <td>NaN</td>\n",
       "      <td>NaN</td>\n",
       "    </tr>\n",
       "    <tr>\n",
       "      <th>2</th>\n",
       "      <td>2</td>\n",
       "      <td>2.020060e+11</td>\n",
       "      <td>9</td>\n",
       "      <td>5</td>\n",
       "      <td>5</td>\n",
       "      <td>2015100933</td>\n",
       "      <td>牝5</td>\n",
       "      <td>55.0</td>\n",
       "      <td>1170</td>\n",
       "      <td>1:56.7</td>\n",
       "      <td>...</td>\n",
       "      <td>NaN</td>\n",
       "      <td>NaN</td>\n",
       "      <td>NaN</td>\n",
       "      <td>NaN</td>\n",
       "      <td>NaN</td>\n",
       "      <td>NaN</td>\n",
       "      <td>NaN</td>\n",
       "      <td>NaN</td>\n",
       "      <td>NaN</td>\n",
       "      <td>NaN</td>\n",
       "    </tr>\n",
       "    <tr>\n",
       "      <th>3</th>\n",
       "      <td>3</td>\n",
       "      <td>2.020060e+11</td>\n",
       "      <td>14</td>\n",
       "      <td>1</td>\n",
       "      <td>1</td>\n",
       "      <td>2015100933</td>\n",
       "      <td>牝5</td>\n",
       "      <td>52.0</td>\n",
       "      <td>1177</td>\n",
       "      <td>1:56.6</td>\n",
       "      <td>...</td>\n",
       "      <td>NaN</td>\n",
       "      <td>NaN</td>\n",
       "      <td>NaN</td>\n",
       "      <td>NaN</td>\n",
       "      <td>NaN</td>\n",
       "      <td>NaN</td>\n",
       "      <td>NaN</td>\n",
       "      <td>NaN</td>\n",
       "      <td>NaN</td>\n",
       "      <td>NaN</td>\n",
       "    </tr>\n",
       "    <tr>\n",
       "      <th>4</th>\n",
       "      <td>4</td>\n",
       "      <td>2.020060e+11</td>\n",
       "      <td>3</td>\n",
       "      <td>1</td>\n",
       "      <td>1</td>\n",
       "      <td>2015100942</td>\n",
       "      <td>牡5</td>\n",
       "      <td>57.0</td>\n",
       "      <td>1127</td>\n",
       "      <td>1:11.2</td>\n",
       "      <td>...</td>\n",
       "      <td>NaN</td>\n",
       "      <td>NaN</td>\n",
       "      <td>NaN</td>\n",
       "      <td>NaN</td>\n",
       "      <td>NaN</td>\n",
       "      <td>NaN</td>\n",
       "      <td>NaN</td>\n",
       "      <td>NaN</td>\n",
       "      <td>NaN</td>\n",
       "      <td>NaN</td>\n",
       "    </tr>\n",
       "  </tbody>\n",
       "</table>\n",
       "<p>5 rows × 769 columns</p>\n",
       "</div>"
      ],
      "text/plain": [
       "   Unnamed: 0       race_id rank  frame_number  horse_number    horse_id  \\\n",
       "0           0  2.020070e+11    6             7             8  2015100929   \n",
       "1           1  2.020060e+11    7             1             1  2015100929   \n",
       "2           2  2.020060e+11    9             5             5  2015100933   \n",
       "3           3  2.020060e+11   14             1             1  2015100933   \n",
       "4           4  2.020060e+11    3             1             1  2015100942   \n",
       "\n",
       "  sex_and_age  burden_weight  rider_id goal_time  ... hukusyo_second_15  \\\n",
       "0          牝5           55.0      1117    1:52.0  ...               NaN   \n",
       "1          牝5           52.0      1181    1:56.0  ...               NaN   \n",
       "2          牝5           55.0      1170    1:56.7  ...               NaN   \n",
       "3          牝5           52.0      1177    1:56.6  ...               NaN   \n",
       "4          牡5           57.0      1127    1:11.2  ...               NaN   \n",
       "\n",
       "  hukusyo_third_15  wakuren_15 umaren_15  wide_1_2_15 wide_1_3_15  \\\n",
       "0              NaN         NaN       NaN          NaN         NaN   \n",
       "1              NaN         NaN       NaN          NaN         NaN   \n",
       "2              NaN         NaN       NaN          NaN         NaN   \n",
       "3              NaN         NaN       NaN          NaN         NaN   \n",
       "4              NaN         NaN       NaN          NaN         NaN   \n",
       "\n",
       "   wide_2_3_15  umatan_15 renhuku3_15  rentan3_15  \n",
       "0          NaN        NaN         NaN         NaN  \n",
       "1          NaN        NaN         NaN         NaN  \n",
       "2          NaN        NaN         NaN         NaN  \n",
       "3          NaN        NaN         NaN         NaN  \n",
       "4          NaN        NaN         NaN         NaN  \n",
       "\n",
       "[5 rows x 769 columns]"
      ]
     },
     "execution_count": 9,
     "metadata": {},
     "output_type": "execute_result"
    }
   ],
   "source": [
    "df.head()"
   ]
  },
  {
   "cell_type": "markdown",
   "metadata": {},
   "source": [
    "## 前処理"
   ]
  },
  {
   "cell_type": "code",
   "execution_count": 10,
   "metadata": {},
   "outputs": [
    {
     "data": {
      "text/html": [
       "<div>\n",
       "<style scoped>\n",
       "    .dataframe tbody tr th:only-of-type {\n",
       "        vertical-align: middle;\n",
       "    }\n",
       "\n",
       "    .dataframe tbody tr th {\n",
       "        vertical-align: top;\n",
       "    }\n",
       "\n",
       "    .dataframe thead th {\n",
       "        text-align: right;\n",
       "    }\n",
       "</style>\n",
       "<table border=\"1\" class=\"dataframe\">\n",
       "  <thead>\n",
       "    <tr style=\"text-align: right;\">\n",
       "      <th></th>\n",
       "      <th>race_course</th>\n",
       "      <th>weather</th>\n",
       "      <th>ground_status</th>\n",
       "      <th>where_racecourse</th>\n",
       "      <th>race_class</th>\n",
       "      <th>running_condition</th>\n",
       "      <th>frame_number</th>\n",
       "      <th>horse_number</th>\n",
       "      <th>sex_and_age</th>\n",
       "      <th>burden_weight</th>\n",
       "      <th>...</th>\n",
       "      <th>goal_time_3</th>\n",
       "      <th>last_time_1</th>\n",
       "      <th>last_time_2</th>\n",
       "      <th>last_time_3</th>\n",
       "      <th>half_way_rank_1</th>\n",
       "      <th>half_way_rank_2</th>\n",
       "      <th>half_way_rank_3</th>\n",
       "      <th>prize_1</th>\n",
       "      <th>prize_2</th>\n",
       "      <th>prize_3</th>\n",
       "    </tr>\n",
       "  </thead>\n",
       "  <tbody>\n",
       "    <tr>\n",
       "      <th>0</th>\n",
       "      <td>ダ左1800m</td>\n",
       "      <td>天候 : 晴</td>\n",
       "      <td>ダート : 不良</td>\n",
       "      <td>1回中京8日目</td>\n",
       "      <td>4歳以上1勝クラス</td>\n",
       "      <td>牝[指](定量)</td>\n",
       "      <td>7</td>\n",
       "      <td>8</td>\n",
       "      <td>牝5</td>\n",
       "      <td>55.0</td>\n",
       "      <td>...</td>\n",
       "      <td>NaN</td>\n",
       "      <td>40.3</td>\n",
       "      <td>NaN</td>\n",
       "      <td>NaN</td>\n",
       "      <td>10-9-5-6</td>\n",
       "      <td>NaN</td>\n",
       "      <td>NaN</td>\n",
       "      <td>NaN</td>\n",
       "      <td>NaN</td>\n",
       "      <td>NaN</td>\n",
       "    </tr>\n",
       "    <tr>\n",
       "      <th>1</th>\n",
       "      <td>ダ右1800m</td>\n",
       "      <td>天候 : 曇</td>\n",
       "      <td>ダート : 良</td>\n",
       "      <td>4回中山2日目</td>\n",
       "      <td>3歳以上1勝クラス</td>\n",
       "      <td>(混)[指](定量)</td>\n",
       "      <td>1</td>\n",
       "      <td>1</td>\n",
       "      <td>牝5</td>\n",
       "      <td>52.0</td>\n",
       "      <td>...</td>\n",
       "      <td>NaN</td>\n",
       "      <td>NaN</td>\n",
       "      <td>NaN</td>\n",
       "      <td>NaN</td>\n",
       "      <td>NaN</td>\n",
       "      <td>NaN</td>\n",
       "      <td>NaN</td>\n",
       "      <td>NaN</td>\n",
       "      <td>NaN</td>\n",
       "      <td>NaN</td>\n",
       "    </tr>\n",
       "    <tr>\n",
       "      <th>2</th>\n",
       "      <td>ダ右1800m</td>\n",
       "      <td>天候 : 曇</td>\n",
       "      <td>ダート : 稍重</td>\n",
       "      <td>4回中山1日目</td>\n",
       "      <td>3歳以上1勝クラス</td>\n",
       "      <td>[指](定量)</td>\n",
       "      <td>5</td>\n",
       "      <td>5</td>\n",
       "      <td>牝5</td>\n",
       "      <td>55.0</td>\n",
       "      <td>...</td>\n",
       "      <td>NaN</td>\n",
       "      <td>NaN</td>\n",
       "      <td>NaN</td>\n",
       "      <td>NaN</td>\n",
       "      <td>NaN</td>\n",
       "      <td>NaN</td>\n",
       "      <td>NaN</td>\n",
       "      <td>NaN</td>\n",
       "      <td>NaN</td>\n",
       "      <td>NaN</td>\n",
       "    </tr>\n",
       "    <tr>\n",
       "      <th>3</th>\n",
       "      <td>ダ右1800m</td>\n",
       "      <td>天候 : 曇</td>\n",
       "      <td>ダート : 重</td>\n",
       "      <td>4回中山6日目</td>\n",
       "      <td>3歳以上1勝クラス</td>\n",
       "      <td>(混)[指](定量)</td>\n",
       "      <td>1</td>\n",
       "      <td>1</td>\n",
       "      <td>牝5</td>\n",
       "      <td>52.0</td>\n",
       "      <td>...</td>\n",
       "      <td>NaN</td>\n",
       "      <td>41.2</td>\n",
       "      <td>NaN</td>\n",
       "      <td>NaN</td>\n",
       "      <td>9-9-8-8</td>\n",
       "      <td>NaN</td>\n",
       "      <td>NaN</td>\n",
       "      <td>NaN</td>\n",
       "      <td>NaN</td>\n",
       "      <td>NaN</td>\n",
       "    </tr>\n",
       "    <tr>\n",
       "      <th>4</th>\n",
       "      <td>ダ右1200m</td>\n",
       "      <td>天候 : 曇</td>\n",
       "      <td>ダート : 稍重</td>\n",
       "      <td>4回中山7日目</td>\n",
       "      <td>3歳以上2勝クラス</td>\n",
       "      <td>(混)[指](定量)</td>\n",
       "      <td>1</td>\n",
       "      <td>1</td>\n",
       "      <td>牡5</td>\n",
       "      <td>57.0</td>\n",
       "      <td>...</td>\n",
       "      <td>NaN</td>\n",
       "      <td>NaN</td>\n",
       "      <td>NaN</td>\n",
       "      <td>NaN</td>\n",
       "      <td>NaN</td>\n",
       "      <td>NaN</td>\n",
       "      <td>NaN</td>\n",
       "      <td>NaN</td>\n",
       "      <td>NaN</td>\n",
       "      <td>NaN</td>\n",
       "    </tr>\n",
       "  </tbody>\n",
       "</table>\n",
       "<p>5 rows × 35 columns</p>\n",
       "</div>"
      ],
      "text/plain": [
       "  race_course weather ground_status where_racecourse race_class  \\\n",
       "0     ダ左1800m  天候 : 晴      ダート : 不良          1回中京8日目  4歳以上1勝クラス   \n",
       "1     ダ右1800m  天候 : 曇       ダート : 良          4回中山2日目  3歳以上1勝クラス   \n",
       "2     ダ右1800m  天候 : 曇      ダート : 稍重          4回中山1日目  3歳以上1勝クラス   \n",
       "3     ダ右1800m  天候 : 曇       ダート : 重          4回中山6日目  3歳以上1勝クラス   \n",
       "4     ダ右1200m  天候 : 曇      ダート : 稍重          4回中山7日目  3歳以上2勝クラス   \n",
       "\n",
       "  running_condition  frame_number  horse_number sex_and_age  burden_weight  \\\n",
       "0          牝[指](定量)             7             8          牝5           55.0   \n",
       "1        (混)[指](定量)             1             1          牝5           52.0   \n",
       "2           [指](定量)             5             5          牝5           55.0   \n",
       "3        (混)[指](定量)             1             1          牝5           52.0   \n",
       "4        (混)[指](定量)             1             1          牡5           57.0   \n",
       "\n",
       "   ...  goal_time_3  last_time_1 last_time_2 last_time_3  half_way_rank_1  \\\n",
       "0  ...          NaN         40.3         NaN         NaN         10-9-5-6   \n",
       "1  ...          NaN          NaN         NaN         NaN              NaN   \n",
       "2  ...          NaN          NaN         NaN         NaN              NaN   \n",
       "3  ...          NaN         41.2         NaN         NaN          9-9-8-8   \n",
       "4  ...          NaN          NaN         NaN         NaN              NaN   \n",
       "\n",
       "  half_way_rank_2  half_way_rank_3 prize_1 prize_2 prize_3  \n",
       "0             NaN              NaN     NaN     NaN     NaN  \n",
       "1             NaN              NaN     NaN     NaN     NaN  \n",
       "2             NaN              NaN     NaN     NaN     NaN  \n",
       "3             NaN              NaN     NaN     NaN     NaN  \n",
       "4             NaN              NaN     NaN     NaN     NaN  \n",
       "\n",
       "[5 rows x 35 columns]"
      ]
     },
     "execution_count": 10,
     "metadata": {},
     "output_type": "execute_result"
    }
   ],
   "source": [
    "# 学習に使用するカラム、過去データは3レース前までのデータを用いる\n",
    "# これらのカラムに対して加工を行う為、新たなカラムが加わる。\n",
    "# その為、最終的に用いる特徴量のカラムは別なセルで定義する(input_columns)\n",
    "columns = [\"race_course\", \"weather\", \"ground_status\", \n",
    "           \"where_racecourse\", \"race_class\", \"running_condition\", \n",
    "           \"frame_number\", \"horse_number\",\n",
    "           \"sex_and_age\", \"burden_weight\", \"rider_id\", \n",
    "           \"tamer_id\", \"horse_weight\", \"odds\", \"popular\",\n",
    "           \"rank\", \"total_horse_number_x\", \n",
    "           \"rank_1\", \"rank_2\", \"rank_3\",\n",
    "           \"total_horse_number_x_1\", \"total_horse_number_x_2\",\"total_horse_number_x_3\",\n",
    "           \"goal_time_1\", \"goal_time_2\", \"goal_time_3\",\n",
    "           \"last_time_1\", \"last_time_2\", \"last_time_3\", \n",
    "           \"half_way_rank_1\", \"half_way_rank_2\", \"half_way_rank_3\", \n",
    "           \"prize_1\", \"prize_2\", \"prize_3\"]\n",
    "\n",
    "df = df[columns]\n",
    "df.head()"
   ]
  },
  {
   "cell_type": "code",
   "execution_count": 11,
   "metadata": {},
   "outputs": [
    {
     "ename": "NameError",
     "evalue": "name 'nm' is not defined",
     "output_type": "error",
     "traceback": [
      "\u001b[1;31m---------------------------------------------------------------------------\u001b[0m",
      "\u001b[1;31mNameError\u001b[0m                                 Traceback (most recent call last)",
      "\u001b[1;32m<ipython-input-11-b52124c34f4a>\u001b[0m in \u001b[0;36m<module>\u001b[1;34m\u001b[0m\n\u001b[1;32m----> 1\u001b[1;33m \u001b[0mdf\u001b[0m\u001b[1;33m[\u001b[0m\u001b[1;34m\"kyakusitu_1\"\u001b[0m\u001b[1;33m]\u001b[0m \u001b[1;33m=\u001b[0m \u001b[1;33m[\u001b[0m\u001b[0mnm\u001b[0m\u001b[1;33m.\u001b[0m\u001b[0mkyakusitu_code_c\u001b[0m\u001b[1;33m(\u001b[0m\u001b[0mn\u001b[0m\u001b[1;33m,\u001b[0m \u001b[0mr\u001b[0m\u001b[1;33m)\u001b[0m \u001b[1;32mfor\u001b[0m \u001b[0mn\u001b[0m\u001b[1;33m,\u001b[0m \u001b[0mr\u001b[0m \u001b[1;32min\u001b[0m \u001b[0mzip\u001b[0m\u001b[1;33m(\u001b[0m\u001b[0mdf\u001b[0m\u001b[1;33m[\u001b[0m\u001b[1;34m\"total_horse_number_x_1\"\u001b[0m\u001b[1;33m]\u001b[0m\u001b[1;33m.\u001b[0m\u001b[0mvalues\u001b[0m\u001b[1;33m,\u001b[0m \u001b[0mdf\u001b[0m\u001b[1;33m[\u001b[0m\u001b[1;34m\"half_way_rank_1\"\u001b[0m\u001b[1;33m]\u001b[0m\u001b[1;33m)\u001b[0m\u001b[1;33m]\u001b[0m\u001b[1;33m\u001b[0m\u001b[1;33m\u001b[0m\u001b[0m\n\u001b[0m",
      "\u001b[1;32m<ipython-input-11-b52124c34f4a>\u001b[0m in \u001b[0;36m<listcomp>\u001b[1;34m(.0)\u001b[0m\n\u001b[1;32m----> 1\u001b[1;33m \u001b[0mdf\u001b[0m\u001b[1;33m[\u001b[0m\u001b[1;34m\"kyakusitu_1\"\u001b[0m\u001b[1;33m]\u001b[0m \u001b[1;33m=\u001b[0m \u001b[1;33m[\u001b[0m\u001b[0mnm\u001b[0m\u001b[1;33m.\u001b[0m\u001b[0mkyakusitu_code_c\u001b[0m\u001b[1;33m(\u001b[0m\u001b[0mn\u001b[0m\u001b[1;33m,\u001b[0m \u001b[0mr\u001b[0m\u001b[1;33m)\u001b[0m \u001b[1;32mfor\u001b[0m \u001b[0mn\u001b[0m\u001b[1;33m,\u001b[0m \u001b[0mr\u001b[0m \u001b[1;32min\u001b[0m \u001b[0mzip\u001b[0m\u001b[1;33m(\u001b[0m\u001b[0mdf\u001b[0m\u001b[1;33m[\u001b[0m\u001b[1;34m\"total_horse_number_x_1\"\u001b[0m\u001b[1;33m]\u001b[0m\u001b[1;33m.\u001b[0m\u001b[0mvalues\u001b[0m\u001b[1;33m,\u001b[0m \u001b[0mdf\u001b[0m\u001b[1;33m[\u001b[0m\u001b[1;34m\"half_way_rank_1\"\u001b[0m\u001b[1;33m]\u001b[0m\u001b[1;33m)\u001b[0m\u001b[1;33m]\u001b[0m\u001b[1;33m\u001b[0m\u001b[1;33m\u001b[0m\u001b[0m\n\u001b[0m",
      "\u001b[1;31mNameError\u001b[0m: name 'nm' is not defined"
     ]
    }
   ],
   "source": [
    "df[\"kyakusitu_1\"] = [nm.kyakusitu_code_c(n, r) for n, r in zip(df[\"total_horse_number_x_1\"].values, df[\"half_way_rank_1\"])]"
   ]
  },
  {
   "cell_type": "code",
   "execution_count": null,
   "metadata": {},
   "outputs": [],
   "source": [
    "df[\"where_racecourse\"] = df[\"where_racecourse\"].map(pp.extract_place)\n",
    "\n",
    "df[\"sex\"] = df[\"sex_and_age\"].map(lambda sex_and_age: sex_and_age[0])\n",
    "df[\"age\"] = df[\"sex_and_age\"].map(lambda sex_and_age: sex_and_age[1:])\n",
    "\n",
    "df[\"goal_time_1\"] = df[\"goal_time_1\"].map(pp.to_seconds)\n",
    "df[\"goal_time_2\"] = df[\"goal_time_1\"].map(pp.to_seconds)\n",
    "df[\"goal_time_3\"] = df[\"goal_time_1\"].map(pp.to_seconds)\n",
    "\n",
    "df[\"horse_weight\"] = df[\"horse_weight\"].map(pp.extract_weight)\n",
    "\n",
    "df[\"prize_1\"] = df[\"prize_1\"].map(lambda prize: prize.replace(\",\", \"\") if type(prize) == str else prize).astype(np.float64)\n",
    "df[\"prize_2\"] = df[\"prize_2\"].map(lambda prize: prize.replace(\",\", \"\") if type(prize) == str else prize).astype(np.float64)\n",
    "df[\"prize_3\"] = df[\"prize_3\"].map(lambda prize: prize.replace(\",\", \"\") if type(prize) == str else prize).astype(np.float64)\n",
    "\n",
    "df[\"kyakusitu_1\"] = [nm.kyakusitu_code_c(n, r) for n, r in zip(df[\"total_horse_number_x_1\"].values, df[\"half_way_rank_1\"])]\n",
    "df[\"kyakusitu_2\"] = [nm.kyakusitu_code_c(n, r) for n, r in zip(df[\"total_horse_number_x_2\"].values, df[\"half_way_rank_2\"])]\n",
    "df[\"kyakusitu_3\"] = [nm.kyakusitu_code_c(n, r) for n, r in zip(df[\"total_horse_number_x_3\"].values, df[\"half_way_rank_3\"])]\n",
    "\n",
    "# 欠損値処理\n",
    "df = df.replace('---', -1)\n",
    "df = df.fillna(-1)\n",
    "\n",
    "df[\"odds\"] = df[\"odds\"].astype(np.float64)"
   ]
  },
  {
   "cell_type": "code",
   "execution_count": null,
   "metadata": {
    "scrolled": false
   },
   "outputs": [],
   "source": [
    "# 欠損値の確認\n",
    "df.isnull().sum().sum()"
   ]
  },
  {
   "cell_type": "markdown",
   "metadata": {},
   "source": [
    "### ラベルの作成\n"
   ]
  },
  {
   "cell_type": "code",
   "execution_count": null,
   "metadata": {
    "scrolled": false
   },
   "outputs": [],
   "source": [
    "def make_label(rank_values, horse_number_values):\n",
    "    labels = []\n",
    "    high = 1 / 3\n",
    "    mid = 2 / 3\n",
    "    for rank, horse_number in zip(rank_values, horse_number_values):\n",
    "        # 欠損値の場合\n",
    "        if rank == -1:\n",
    "            labels.append(rank)\n",
    "            continue\n",
    "        # 順位が付かないデータに関しては最低レベルのラベルを付与\n",
    "        not_rank = False\n",
    "        for c in [\"中\", \"取\", \"除\", \"降\"]:\n",
    "            if c in str(rank):\n",
    "                labels.append(\"low\")\n",
    "                not_rank = True\n",
    "                break\n",
    "        if not_rank:\n",
    "            continue\n",
    "            \n",
    "        relative_rank = int(rank) / horse_number\n",
    "    \n",
    "        if relative_rank < high:\n",
    "            labels.append(\"high\")\n",
    "        elif relative_rank < mid:\n",
    "            labels.append(\"middle\")\n",
    "        else:\n",
    "            labels.append(\"low\")\n",
    "            \n",
    "    return labels"
   ]
  },
  {
   "cell_type": "code",
   "execution_count": null,
   "metadata": {
    "scrolled": false
   },
   "outputs": [],
   "source": [
    "df[\"label\"] = make_label(df[\"rank\"].values, df[\"total_horse_number_x\"].values)\n",
    "df[\"rank_1\"] = make_label(df[\"rank_1\"].values, df[\"total_horse_number_x_1\"].values)\n",
    "df[\"rank_2\"] = make_label(df[\"rank_2\"].values, df[\"total_horse_number_x_2\"].values)\n",
    "df[\"rank_3\"] = make_label(df[\"rank_3\"].values, df[\"total_horse_number_x_3\"].values)"
   ]
  },
  {
   "cell_type": "code",
   "execution_count": null,
   "metadata": {},
   "outputs": [],
   "source": [
    "input_columns = [\"race_course\", \"weather\", \"ground_status\", \n",
    "                 \"where_racecourse\", \"race_class\", \"running_condition\", \n",
    "                 \"frame_number\", \"horse_number\",\n",
    "                 \"sex\", \"age\", \"burden_weight\", \"rider_id\", \n",
    "                 \"tamer_id\", \"horse_weight\", \"odds\", \"popular\",\n",
    "                 \"rank_1\", \"rank_2\", \"rank_3\", \n",
    "                 \"goal_time_1\", \"goal_time_2\", \"goal_time_3\",\n",
    "                 \"last_time_1\", \"last_time_2\", \"last_time_3\", \n",
    "                 \"kyakusitu_1\", \"kyakusitu_2\", \"kyakusitu_3\", \n",
    "                 \"prize_1\", \"prize_2\", \"prize_3\", \"label\"]"
   ]
  },
  {
   "cell_type": "code",
   "execution_count": null,
   "metadata": {
    "scrolled": true
   },
   "outputs": [],
   "source": [
    "# one-hot\n",
    "df = pd.get_dummies(df[input_columns])"
   ]
  },
  {
   "cell_type": "markdown",
   "metadata": {},
   "source": [
    "## 学習"
   ]
  },
  {
   "cell_type": "code",
   "execution_count": null,
   "metadata": {
    "scrolled": false
   },
   "outputs": [],
   "source": [
    "# 学習に用いるデータセットの作成\n",
    "x = np.array(df)\n",
    "y = np.array(df[[\"label_high\", \"label_middle\", \"label_low\"]])\n",
    "#del df\n",
    "x_train, x_test, y_train, y_test = train_test_split(x, y, test_size=0.3, random_state=11)\n",
    "del x, y\n",
    "print(x_train.shape)\n",
    "print(x_test.shape)"
   ]
  },
  {
   "cell_type": "code",
   "execution_count": null,
   "metadata": {},
   "outputs": [],
   "source": [
    "df.head()"
   ]
  },
  {
   "cell_type": "code",
   "execution_count": null,
   "metadata": {
    "scrolled": false
   },
   "outputs": [],
   "source": [
    "# データセットのシャッフルとバッチ化\n",
    "train_ds = tf.data.Dataset.from_tensor_slices(\n",
    "    (x_train, y_train)).shuffle(10000).batch(1024)\n",
    "\n",
    "test_ds = tf.data.Dataset.from_tensor_slices((x_test, y_test)).batch(1024)"
   ]
  },
  {
   "cell_type": "code",
   "execution_count": null,
   "metadata": {
    "scrolled": false
   },
   "outputs": [],
   "source": [
    "import utils.sample_model as model\n",
    "    \n",
    "# モデルのインスタンスを作成\n",
    "model = model.HorseModel(x_train.shape[1], 3)"
   ]
  },
  {
   "cell_type": "code",
   "execution_count": null,
   "metadata": {
    "scrolled": false
   },
   "outputs": [],
   "source": [
    "metrics = [\n",
    "      tf.keras.metrics.BinaryAccuracy(name='accuracy'),\n",
    "      tf.keras.metrics.AUC(name='auc'),\n",
    "]\n",
    "model.compile(optimizer='adam', \n",
    "              loss='categorical_crossentropy',\n",
    "              metrics=metrics)"
   ]
  },
  {
   "cell_type": "code",
   "execution_count": null,
   "metadata": {},
   "outputs": [],
   "source": [
    "model.fit(train_ds, epochs=1) "
   ]
  },
  {
   "cell_type": "code",
   "execution_count": null,
   "metadata": {
    "scrolled": false
   },
   "outputs": [],
   "source": [
    "model.evaluate(test_ds, verbose=2)"
   ]
  },
  {
   "cell_type": "code",
   "execution_count": null,
   "metadata": {},
   "outputs": [],
   "source": [
    "# テストデータの予測値と正解ラベルの確認\n",
    "#for x, y in zip(x_test, y_test):\n",
    "#    print(f\"pred: {model.predict(x.reshape(1, -1))}, label: {y}\")"
   ]
  },
  {
   "cell_type": "code",
   "execution_count": null,
   "metadata": {
    "scrolled": false
   },
   "outputs": [],
   "source": [
    "# モデルの保存\n",
    "# io_m.save_model(model, model_name=\"first_model\")"
   ]
  },
  {
   "cell_type": "code",
   "execution_count": null,
   "metadata": {
    "scrolled": false
   },
   "outputs": [],
   "source": [
    "# 保存したモデルに不具合がないか確認\n",
    "# model = io_m.read_model(\"first_model\")\n",
    "# model.evaluate(test_ds, verbose=2)"
   ]
  },
  {
   "cell_type": "code",
   "execution_count": null,
   "metadata": {
    "scrolled": false
   },
   "outputs": [],
   "source": []
  }
 ],
 "metadata": {
  "kernelspec": {
   "display_name": "Python 3",
   "language": "python",
   "name": "python3"
  },
  "language_info": {
   "codemirror_mode": {
    "name": "ipython",
    "version": 3
   },
   "file_extension": ".py",
   "mimetype": "text/x-python",
   "name": "python",
   "nbconvert_exporter": "python",
   "pygments_lexer": "ipython3",
   "version": "3.7.9"
  }
 },
 "nbformat": 4,
 "nbformat_minor": 4
}
