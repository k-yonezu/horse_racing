{
 "cells": [
  {
   "cell_type": "code",
   "execution_count": null,
   "metadata": {},
   "outputs": [],
   "source": [
    "!ls -a"
   ]
  },
  {
   "cell_type": "code",
   "execution_count": null,
   "metadata": {},
   "outputs": [],
   "source": [
    "import pandas as pd\n",
    "import tensorflow as tf\n",
    "import numpy as np\n",
    "from sklearn.model_selection import train_test_split\n",
    "\n",
    "import utils.read_data as rd\n",
    "import utils.io_model as io_m\n",
    "import utils.preprocessing as pp\n",
    "import utils.prepare_data as prepare_data"
   ]
  },
  {
   "cell_type": "code",
   "execution_count": null,
   "metadata": {},
   "outputs": [],
   "source": [
    "import os\n",
    "from os.path import join, dirname\n",
    "from dotenv import load_dotenv\n",
    "from pathlib import Path"
   ]
  },
  {
   "cell_type": "code",
   "execution_count": null,
   "metadata": {},
   "outputs": [],
   "source": [
    "load_dotenv(verbose=True)\n",
    "dotenv_path = join(Path().resolve(), '.env')\n",
    "load_dotenv(dotenv_path)"
   ]
  },
  {
   "cell_type": "code",
   "execution_count": null,
   "metadata": {},
   "outputs": [],
   "source": [
    "GOOGLE_DRIVE_PATH = os.environ.get(\"GOOGLE_DRIVE_PATH\") + '/horse_racing'\n",
    "DATA_PATH = GOOGLE_DRIVE_PATH + '/csv/train_data'"
   ]
  },
  {
   "cell_type": "code",
   "execution_count": null,
   "metadata": {},
   "outputs": [],
   "source": [
    "print(GOOGLE_DRIVE_PATH)"
   ]
  },
  {
   "cell_type": "code",
   "execution_count": null,
   "metadata": {},
   "outputs": [],
   "source": [
    "df = rd.read_horse_race_csv(DATA_PATH)"
   ]
  },
  {
   "cell_type": "code",
   "execution_count": null,
   "metadata": {},
   "outputs": [],
   "source": [
    "df.info()"
   ]
  },
  {
   "cell_type": "code",
   "execution_count": null,
   "metadata": {},
   "outputs": [],
   "source": [
    "df.head()"
   ]
  },
  {
   "cell_type": "markdown",
   "metadata": {},
   "source": [
    "## 前処理"
   ]
  },
  {
   "cell_type": "markdown",
   "metadata": {},
   "source": [
    "# 学習に使用するカラム、過去データは3レース前までのデータを用いる\n",
    "# これらのカラムに対して加工を行う為、新たなカラムが加わる。\n",
    "# その為、最終的に用いる特徴量のカラムは別なセルで定義する(input_columns)\n",
    "columns = [\"race_course\", \"weather\", \"ground_status\", \n",
    "           \"where_racecourse\", \"race_class\", \"running_condition\", \n",
    "           \"frame_number\", \"horse_number\",\n",
    "           \"sex_and_age\", \"burden_weight\", \"rider_id\", \n",
    "           \"tamer_id\", \"horse_weight\", \"odds\", \"popular\",\n",
    "           \"rank\", \"total_horse_number_x\", \n",
    "           \"rank-1\", \"rank-2\", \"rank-3\",\n",
    "           \"total_horse_number_x-1\", \"total_horse_number_x-2\",\"total_horse_number_x-3\",\n",
    "           \"goal_time-1\", \"goal_time-2\", \"goal_time-3\",\n",
    "           \"last_time-1\", \"last_time-2\", \"last_time-3\", \n",
    "           \"half_way_rank-1\", \"half_way_rank-2\", \"half_way_rank-3\", \n",
    "           \"prize-1\", \"prize-2\", \"prize-3\"]\n",
    "\n",
    "df = df[columns]\n",
    "df.head()"
   ]
  },
  {
   "cell_type": "markdown",
   "metadata": {},
   "source": [
    "df[\"where_racecourse\"] = df[\"where_racecourse\"].map(pp.extract_place)\n",
    "\n",
    "df[\"sex\"] = df[\"sex_and_age\"].map(lambda sex_and_age: sex_and_age[0])\n",
    "df[\"age\"] = df[\"sex_and_age\"].map(lambda sex_and_age: sex_and_age[1:])\n",
    "\n",
    "df[\"goal_time-1\"] = df[\"goal_time-1\"].map(pp.to_seconds)\n",
    "df[\"goal_time-2\"] = df[\"goal_time-2\"].map(pp.to_seconds)\n",
    "df[\"goal_time-3\"] = df[\"goal_time-3\"].map(pp.to_seconds)\n",
    "\n",
    "df[\"horse_weight\"] = df[\"horse_weight\"].map(pp.extract_weight).astype(np.int64)\n",
    "\n",
    "df[\"prize-1\"] = df[\"prize-1\"].map(lambda prize: prize.replace(\",\", \"\") if type(prize) == str else prize).astype(np.float64)\n",
    "df[\"prize-2\"] = df[\"prize-2\"].map(lambda prize: prize.replace(\",\", \"\") if type(prize) == str else prize).astype(np.float64)\n",
    "df[\"prize-3\"] = df[\"prize-3\"].map(lambda prize: prize.replace(\",\", \"\") if type(prize) == str else prize).astype(np.float64)\n",
    "\n",
    "df[\"kyakusitu-1\"] = [pp.kyakusitu_code_c(n, r) for n, r in zip(df[\"total_horse_number_x-1\"].values, df[\"half_way_rank-1\"])]\n",
    "df[\"kyakusitu-2\"] = [pp.kyakusitu_code_c(n, r) for n, r in zip(df[\"total_horse_number_x-2\"].values, df[\"half_way_rank-2\"])]\n",
    "df[\"kyakusitu-3\"] = [pp.kyakusitu_code_c(n, r) for n, r in zip(df[\"total_horse_number_x-3\"].values, df[\"half_way_rank-3\"])]\n",
    "\n",
    "# 欠損値処理\n",
    "df = df.replace('---', -1)\n",
    "df = df.fillna(-1)\n",
    "\n",
    "df[\"odds\"] = df[\"odds\"].astype(np.float64)"
   ]
  },
  {
   "cell_type": "code",
   "execution_count": null,
   "metadata": {},
   "outputs": [],
   "source": [
    "df_for_learning = prepare_data.prepare_train_data(df)"
   ]
  },
  {
   "cell_type": "code",
   "execution_count": null,
   "metadata": {},
   "outputs": [],
   "source": [
    "# 欠損値の確認\n",
    "df.isnull().sum().sum()"
   ]
  },
  {
   "cell_type": "markdown",
   "metadata": {},
   "source": [
    "### ラベルの作成\n"
   ]
  },
  {
   "cell_type": "code",
   "execution_count": null,
   "metadata": {},
   "outputs": [],
   "source": [
    "df[\"label\"] = pp.make_label(df[\"rank\"].values, df[\"total_horse_number_x\"].values)\n",
    "df[\"rank-1\"] = pp.make_label(df[\"rank-1\"].values, df[\"total_horse_number_x-1\"].values)\n",
    "df[\"rank-2\"] = pp.make_label(df[\"rank-2\"].values, df[\"total_horse_number_x-2\"].values)\n",
    "df[\"rank-3\"] = pp.make_label(df[\"rank-3\"].values, df[\"total_horse_number_x-3\"].values)"
   ]
  },
  {
   "cell_type": "code",
   "execution_count": null,
   "metadata": {},
   "outputs": [],
   "source": [
    "input_columns = [\"race_course\", \"weather\", \"ground_status\", \n",
    "                 \"where_racecourse\", \"race_class\", \"running_condition\", \n",
    "                 \"frame_number\", \"horse_number\",\n",
    "                 \"sex\", \"age\", \"burden_weight\", \"rider_id\", \n",
    "                 \"tamer_id\", \"horse_weight\", \"popular\",\n",
    "                 \"rank-1\", \"rank-2\", \"rank-3\", \"odds\", \n",
    "                 \"goal_time-1\", \"goal_time-2\", \"goal_time-3\",\n",
    "                 \"last_time-1\", \"last_time-2\", \"last_time-3\", \n",
    "                 \"kyakusitu-1\", \"kyakusitu-2\", \"kyakusitu-3\", \n",
    "                 \"prize-1\", \"prize-2\", \"prize-3\", \"label\"]"
   ]
  },
  {
   "cell_type": "code",
   "execution_count": null,
   "metadata": {},
   "outputs": [],
   "source": [
    "# one-hot\n",
    "df_one_hot_encoded = pp.one_hot_encoding(df[input_columns])"
   ]
  },
  {
   "cell_type": "code",
   "execution_count": null,
   "metadata": {},
   "outputs": [],
   "source": [
    "# 学習に使う特徴量名リスト\n",
    "features = df_one_hot_encoded.columns.values.tolist()\n",
    "features.remove(\"label_high\")\n",
    "features.remove(\"label_middle\")\n",
    "features.remove(\"label_low\")"
   ]
  },
  {
   "cell_type": "markdown",
   "metadata": {},
   "source": [
    "## 学習"
   ]
  },
  {
   "cell_type": "code",
   "execution_count": null,
   "metadata": {},
   "outputs": [],
   "source": [
    "# 学習に用いるデータセットの作成\n",
    "x = np.array(df_one_hot_encoded[features])\n",
    "y = np.array(df_one_hot_encoded[[\"label_high\", \"label_middle\", \"label_low\"]])\n",
    "#del df\n",
    "x_train, x_test, y_train, y_test = train_test_split(x, y, test_size=0.3, random_state=11)\n",
    "#del x, y\n",
    "print(x_train.shape)\n",
    "print(x_test.shape)"
   ]
  },
  {
   "cell_type": "code",
   "execution_count": null,
   "metadata": {},
   "outputs": [],
   "source": [
    "# データセットのシャッフルとバッチ化\n",
    "train_ds = tf.data.Dataset.from_tensor_slices(\n",
    "    (x_train, y_train)).shuffle(10000).batch(1024)\n",
    "\n",
    "test_ds = tf.data.Dataset.from_tensor_slices((x_test, y_test)).batch(1024)"
   ]
  },
  {
   "cell_type": "code",
   "execution_count": null,
   "metadata": {},
   "outputs": [],
   "source": [
    "import utils.sample_model as model\n",
    "    \n",
    "# モデルのインスタンスを作成\n",
    "model = model.HorseModel(x_train.shape[1], 3)"
   ]
  },
  {
   "cell_type": "code",
   "execution_count": null,
   "metadata": {},
   "outputs": [],
   "source": [
    "metrics = [\n",
    "      tf.keras.metrics.BinaryAccuracy(name='accuracy'),\n",
    "      tf.keras.metrics.AUC(name='auc'),\n",
    "]\n",
    "model.compile(optimizer='adam', \n",
    "              loss='categorical_crossentropy',\n",
    "              metrics=metrics)"
   ]
  },
  {
   "cell_type": "code",
   "execution_count": null,
   "metadata": {},
   "outputs": [],
   "source": [
    "model.fit(train_ds, epochs=100)"
   ]
  },
  {
   "cell_type": "code",
   "execution_count": null,
   "metadata": {},
   "outputs": [],
   "source": [
    "model.evaluate(test_ds, verbose=2)"
   ]
  },
  {
   "cell_type": "code",
   "execution_count": null,
   "metadata": {},
   "outputs": [],
   "source": [
    "#テストデータの予測値と正解ラベルの確認\n",
    "for x, y in zip(x_test, y_test):\n",
    "    print(f\"pred: {model.predict(x.reshape(1, -1))}, label: {y}\")"
   ]
  },
  {
   "cell_type": "code",
   "execution_count": null,
   "metadata": {},
   "outputs": [],
   "source": [
    "# モデルの保存\n",
    "# io_m.save_model(model, model_name=\"first_model\")"
   ]
  },
  {
   "cell_type": "code",
   "execution_count": null,
   "metadata": {},
   "outputs": [],
   "source": [
    "# 保存したモデルに不具合がないか確認\n",
    "# model = io_m.read_model(\"first_model\")\n",
    "# model.evaluate(test_ds, verbose=2)"
   ]
  },
  {
   "cell_type": "code",
   "execution_count": null,
   "metadata": {},
   "outputs": [],
   "source": []
  }
 ],
 "metadata": {
  "kernelspec": {
   "display_name": "Python 3",
   "language": "python",
   "name": "python3"
  },
  "language_info": {
   "codemirror_mode": {
    "name": "ipython",
    "version": 3
   },
   "file_extension": ".py",
   "mimetype": "text/x-python",
   "name": "python",
   "nbconvert_exporter": "python",
   "pygments_lexer": "ipython3",
   "version": "3.7.9"
  }
 },
 "nbformat": 4,
 "nbformat_minor": 4
}
