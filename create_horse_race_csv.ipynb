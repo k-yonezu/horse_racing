{
 "cells": [
  {
   "cell_type": "code",
   "execution_count": 1,
   "metadata": {},
   "outputs": [],
   "source": [
    "import pandas as pd\n",
    "import numpy as np\n",
    "from tqdm import tqdm\n",
    "from joblib import Parallel, delayed\n",
    "\n",
    "import utils.read_data as rd\n",
    "import utils.preprocessing as pre\n",
    "import utils.join_race_data as jrd"
   ]
  },
  {
   "cell_type": "code",
   "execution_count": 2,
   "metadata": {},
   "outputs": [],
   "source": [
    "import os\n",
    "from os.path import join, dirname\n",
    "from dotenv import load_dotenv\n",
    "from pathlib import Path"
   ]
  },
  {
   "cell_type": "code",
   "execution_count": 3,
   "metadata": {},
   "outputs": [],
   "source": [
    "load_dotenv(verbose=True)\n",
    "dotenv_path = join(Path().resolve(), '.env')\n",
    "load_dotenv(dotenv_path)\n",
    "GOOGLE_DRIVE_PATH = os.environ.get(\"GOOGLE_DRIVE_PATH\")\n",
    "DATA_PATH = GOOGLE_DRIVE_PATH + '/scraping/'"
   ]
  },
  {
   "cell_type": "code",
   "execution_count": 4,
   "metadata": {},
   "outputs": [],
   "source": [
    "TARGET = '20201128'"
   ]
  },
  {
   "cell_type": "code",
   "execution_count": 5,
   "metadata": {},
   "outputs": [
    {
     "name": "stderr",
     "output_type": "stream",
     "text": [
      "/home/websci/.pyenv/versions/3.7.0/lib/python3.7/site-packages/IPython/core/interactiveshell.py:3338: DtypeWarning: Columns (16) have mixed types.Specify dtype option on import or set low_memory=False.\n",
      "  if (await self.run_code(code, result,  async_=asy)):\n",
      "/home/websci/.pyenv/versions/3.7.0/lib/python3.7/site-packages/IPython/core/interactiveshell.py:3338: DtypeWarning: Columns (0) have mixed types.Specify dtype option on import or set low_memory=False.\n",
      "  if (await self.run_code(code, result,  async_=asy)):\n",
      "/home/websci/.pyenv/versions/3.7.0/lib/python3.7/site-packages/IPython/core/interactiveshell.py:3338: DtypeWarning: Columns (0,16) have mixed types.Specify dtype option on import or set low_memory=False.\n",
      "  if (await self.run_code(code, result,  async_=asy)):\n"
     ]
    }
   ],
   "source": [
    "df_target_horse = rd.read_horse_csv(DATA_PATH + TARGET + '/')\n",
    "df_target_race = rd.read_race_csv(DATA_PATH + TARGET + '/')"
   ]
  },
  {
   "cell_type": "code",
   "execution_count": 6,
   "metadata": {},
   "outputs": [
    {
     "name": "stdout",
     "output_type": "stream",
     "text": [
      "<class 'pandas.core.frame.DataFrame'>\n",
      "RangeIndex: 639818 entries, 0 to 639817\n",
      "Data columns (total 19 columns):\n",
      " #   Column              Non-Null Count   Dtype  \n",
      "---  ------              --------------   -----  \n",
      " 0   race_id             639818 non-null  float64\n",
      " 1   rank                639818 non-null  object \n",
      " 2   frame_number        639818 non-null  int8   \n",
      " 3   horse_number        639818 non-null  int8   \n",
      " 4   horse_id            639818 non-null  int64  \n",
      " 5   sex_and_age         639818 non-null  object \n",
      " 6   burden_weight       639818 non-null  float16\n",
      " 7   rider_id            639818 non-null  int32  \n",
      " 8   goal_time           634285 non-null  object \n",
      " 9   goal_time_dif       589557 non-null  object \n",
      " 10  half_way_rank       636449 non-null  object \n",
      " 11  last_time           634280 non-null  float16\n",
      " 12  odds                639818 non-null  object \n",
      " 13  popular             637487 non-null  float16\n",
      " 14  horse_weight        639818 non-null  object \n",
      " 15  tamer_id            639818 non-null  int32  \n",
      " 16  owner_id            639818 non-null  object \n",
      " 17  prize               223039 non-null  object \n",
      " 18  total_horse_number  639818 non-null  int8   \n",
      "dtypes: float16(3), float64(1), int32(2), int64(1), int8(3), object(9)\n",
      "memory usage: 64.1+ MB\n"
     ]
    }
   ],
   "source": [
    "df_target_horse.info()"
   ]
  },
  {
   "cell_type": "code",
   "execution_count": null,
   "metadata": {},
   "outputs": [],
   "source": []
  },
  {
   "cell_type": "code",
   "execution_count": 7,
   "metadata": {},
   "outputs": [
    {
     "name": "stdout",
     "output_type": "stream",
     "text": [
      "['20201128']\n"
     ]
    }
   ],
   "source": [
    "arr_dir = []\n",
    "for f in os.listdir(DATA_PATH):\n",
    "  if os.path.isdir(os.path.join(DATA_PATH, f)):\n",
    "    arr_dir.append(f)\n",
    "    \n",
    "print(arr_dir)\n"
   ]
  },
  {
   "cell_type": "code",
   "execution_count": 8,
   "metadata": {},
   "outputs": [],
   "source": [
    "df_horse = pd.DataFrame()\n",
    "df_race = pd.DataFrame()\n",
    "for dir in arr_dir:\n",
    "    df_horse = df_horse.append(rd.read_horse_csv(DATA_PATH + dir + '/'))\n",
    "    df_race = df_race.append(rd.read_race_csv(DATA_PATH + dir + '/'))"
   ]
  },
  {
   "cell_type": "code",
   "execution_count": 9,
   "metadata": {},
   "outputs": [
    {
     "name": "stdout",
     "output_type": "stream",
     "text": [
      "<class 'pandas.core.frame.DataFrame'>\n",
      "RangeIndex: 639818 entries, 0 to 639817\n",
      "Data columns (total 19 columns):\n",
      " #   Column              Non-Null Count   Dtype  \n",
      "---  ------              --------------   -----  \n",
      " 0   race_id             639818 non-null  float64\n",
      " 1   rank                639818 non-null  object \n",
      " 2   frame_number        639818 non-null  int8   \n",
      " 3   horse_number        639818 non-null  int8   \n",
      " 4   horse_id            639818 non-null  int64  \n",
      " 5   sex_and_age         639818 non-null  object \n",
      " 6   burden_weight       639818 non-null  float16\n",
      " 7   rider_id            639818 non-null  int32  \n",
      " 8   goal_time           634285 non-null  object \n",
      " 9   goal_time_dif       589557 non-null  object \n",
      " 10  half_way_rank       636449 non-null  object \n",
      " 11  last_time           634280 non-null  float16\n",
      " 12  odds                639818 non-null  object \n",
      " 13  popular             637487 non-null  float16\n",
      " 14  horse_weight        639818 non-null  object \n",
      " 15  tamer_id            639818 non-null  int32  \n",
      " 16  owner_id            639818 non-null  object \n",
      " 17  prize               223039 non-null  object \n",
      " 18  total_horse_number  639818 non-null  int8   \n",
      "dtypes: float16(3), float64(1), int32(2), int64(1), int8(3), object(9)\n",
      "memory usage: 64.1+ MB\n"
     ]
    }
   ],
   "source": [
    "df_horse.info()"
   ]
  },
  {
   "cell_type": "code",
   "execution_count": 10,
   "metadata": {},
   "outputs": [
    {
     "name": "stdout",
     "output_type": "stream",
     "text": [
      "<class 'pandas.core.frame.DataFrame'>\n",
      "RangeIndex: 44584 entries, 0 to 44583\n",
      "Data columns (total 30 columns):\n",
      " #   Column               Non-Null Count  Dtype  \n",
      "---  ------               --------------  -----  \n",
      " 0   race_id              44584 non-null  float64\n",
      " 1   race_round           44584 non-null  object \n",
      " 2   race_title           44584 non-null  object \n",
      " 3   race_course          44584 non-null  object \n",
      " 4   weather              44584 non-null  object \n",
      " 5   ground_status        44584 non-null  object \n",
      " 6   time                 44584 non-null  object \n",
      " 7   date                 44584 non-null  object \n",
      " 8   where_racecourse     44584 non-null  object \n",
      " 9   race_class           44584 non-null  object \n",
      " 10  running_condition    42838 non-null  object \n",
      " 11  total_horse_number   44584 non-null  int8   \n",
      " 12  frame_number_first   44584 non-null  int8   \n",
      " 13  horse_number_first   44584 non-null  int8   \n",
      " 14  frame_number_second  44584 non-null  int8   \n",
      " 15  horse_number_second  44584 non-null  int8   \n",
      " 16  frame_number_third   44584 non-null  int8   \n",
      " 17  horse_number_third   44584 non-null  int8   \n",
      " 18  tansyo               44584 non-null  object \n",
      " 19  hukusyo_first        44584 non-null  object \n",
      " 20  hukusyo_second       44584 non-null  object \n",
      " 21  hukusyo_third        44584 non-null  object \n",
      " 22  wakuren              44584 non-null  object \n",
      " 23  umaren               44584 non-null  object \n",
      " 24  wide_1_2             44584 non-null  object \n",
      " 25  wide_1_3             44584 non-null  object \n",
      " 26  wide_2_3             44584 non-null  object \n",
      " 27  umatan               44584 non-null  object \n",
      " 28  renhuku3             44584 non-null  object \n",
      " 29  rentan3              44584 non-null  object \n",
      "dtypes: float64(1), int8(7), object(22)\n",
      "memory usage: 8.1+ MB\n"
     ]
    }
   ],
   "source": [
    "df_race.info()"
   ]
  },
  {
   "cell_type": "code",
   "execution_count": null,
   "metadata": {},
   "outputs": [],
   "source": []
  },
  {
   "cell_type": "code",
   "execution_count": 11,
   "metadata": {},
   "outputs": [
    {
     "name": "stdout",
     "output_type": "stream",
     "text": [
      "<class 'pandas.core.frame.DataFrame'>\n",
      "Int64Index: 639818 entries, 0 to 639817\n",
      "Data columns (total 48 columns):\n",
      " #   Column                Non-Null Count   Dtype  \n",
      "---  ------                --------------   -----  \n",
      " 0   race_id               639818 non-null  float64\n",
      " 1   rank                  639818 non-null  object \n",
      " 2   frame_number          639818 non-null  int8   \n",
      " 3   horse_number          639818 non-null  int8   \n",
      " 4   horse_id              639818 non-null  int64  \n",
      " 5   sex_and_age           639818 non-null  object \n",
      " 6   burden_weight         639818 non-null  float16\n",
      " 7   rider_id              639818 non-null  int32  \n",
      " 8   goal_time             634285 non-null  object \n",
      " 9   goal_time_dif         589557 non-null  object \n",
      " 10  half_way_rank         636449 non-null  object \n",
      " 11  last_time             634280 non-null  float16\n",
      " 12  odds                  639818 non-null  object \n",
      " 13  popular               637487 non-null  float16\n",
      " 14  horse_weight          639818 non-null  object \n",
      " 15  tamer_id              639818 non-null  int32  \n",
      " 16  owner_id              639818 non-null  object \n",
      " 17  prize                 223039 non-null  object \n",
      " 18  total_horse_number_x  639818 non-null  int8   \n",
      " 19  race_round            639818 non-null  object \n",
      " 20  race_title            639818 non-null  object \n",
      " 21  race_course           639818 non-null  object \n",
      " 22  weather               639818 non-null  object \n",
      " 23  ground_status         639818 non-null  object \n",
      " 24  time                  639818 non-null  object \n",
      " 25  date                  639818 non-null  object \n",
      " 26  where_racecourse      639818 non-null  object \n",
      " 27  race_class            639818 non-null  object \n",
      " 28  running_condition     614373 non-null  object \n",
      " 29  total_horse_number_y  639818 non-null  int8   \n",
      " 30  frame_number_first    639818 non-null  int8   \n",
      " 31  horse_number_first    639818 non-null  int8   \n",
      " 32  frame_number_second   639818 non-null  int8   \n",
      " 33  horse_number_second   639818 non-null  int8   \n",
      " 34  frame_number_third    639818 non-null  int8   \n",
      " 35  horse_number_third    639818 non-null  int8   \n",
      " 36  tansyo                639818 non-null  object \n",
      " 37  hukusyo_first         639818 non-null  object \n",
      " 38  hukusyo_second        639818 non-null  object \n",
      " 39  hukusyo_third         639818 non-null  object \n",
      " 40  wakuren               639818 non-null  object \n",
      " 41  umaren                639818 non-null  object \n",
      " 42  wide_1_2              639818 non-null  object \n",
      " 43  wide_1_3              639818 non-null  object \n",
      " 44  wide_2_3              639818 non-null  object \n",
      " 45  umatan                639818 non-null  object \n",
      " 46  renhuku3              639818 non-null  object \n",
      " 47  rentan3               639818 non-null  object \n",
      "dtypes: float16(3), float64(1), int32(2), int64(1), int8(10), object(31)\n",
      "memory usage: 180.6+ MB\n"
     ]
    }
   ],
   "source": [
    "df = pd.merge(df_horse, df_race, on='race_id', how='left')\n",
    "df.info()"
   ]
  },
  {
   "cell_type": "code",
   "execution_count": 12,
   "metadata": {
    "scrolled": true
   },
   "outputs": [
    {
     "data": {
      "text/html": [
       "<div>\n",
       "<style scoped>\n",
       "    .dataframe tbody tr th:only-of-type {\n",
       "        vertical-align: middle;\n",
       "    }\n",
       "\n",
       "    .dataframe tbody tr th {\n",
       "        vertical-align: top;\n",
       "    }\n",
       "\n",
       "    .dataframe thead th {\n",
       "        text-align: right;\n",
       "    }\n",
       "</style>\n",
       "<table border=\"1\" class=\"dataframe\">\n",
       "  <thead>\n",
       "    <tr style=\"text-align: right;\">\n",
       "      <th></th>\n",
       "      <th>race_id</th>\n",
       "      <th>rank</th>\n",
       "      <th>frame_number</th>\n",
       "      <th>horse_number</th>\n",
       "      <th>horse_id</th>\n",
       "      <th>sex_and_age</th>\n",
       "      <th>burden_weight</th>\n",
       "      <th>rider_id</th>\n",
       "      <th>goal_time</th>\n",
       "      <th>goal_time_dif</th>\n",
       "      <th>...</th>\n",
       "      <th>hukusyo_second</th>\n",
       "      <th>hukusyo_third</th>\n",
       "      <th>wakuren</th>\n",
       "      <th>umaren</th>\n",
       "      <th>wide_1_2</th>\n",
       "      <th>wide_1_3</th>\n",
       "      <th>wide_2_3</th>\n",
       "      <th>umatan</th>\n",
       "      <th>renhuku3</th>\n",
       "      <th>rentan3</th>\n",
       "    </tr>\n",
       "  </thead>\n",
       "  <tbody>\n",
       "    <tr>\n",
       "      <th>0</th>\n",
       "      <td>2.013050e+11</td>\n",
       "      <td>1</td>\n",
       "      <td>5</td>\n",
       "      <td>10</td>\n",
       "      <td>2010103744</td>\n",
       "      <td>牝3</td>\n",
       "      <td>54.0</td>\n",
       "      <td>422</td>\n",
       "      <td>1:20.9</td>\n",
       "      <td>NaN</td>\n",
       "      <td>...</td>\n",
       "      <td>150</td>\n",
       "      <td>120</td>\n",
       "      <td>660</td>\n",
       "      <td>700</td>\n",
       "      <td>290</td>\n",
       "      <td>180</td>\n",
       "      <td>340</td>\n",
       "      <td>1,380</td>\n",
       "      <td>730</td>\n",
       "      <td>3,720</td>\n",
       "    </tr>\n",
       "    <tr>\n",
       "      <th>1</th>\n",
       "      <td>2.013050e+11</td>\n",
       "      <td>2</td>\n",
       "      <td>2</td>\n",
       "      <td>3</td>\n",
       "      <td>2010104843</td>\n",
       "      <td>牝3</td>\n",
       "      <td>54.0</td>\n",
       "      <td>1043</td>\n",
       "      <td>1:21.2</td>\n",
       "      <td>1.3/4</td>\n",
       "      <td>...</td>\n",
       "      <td>150</td>\n",
       "      <td>120</td>\n",
       "      <td>660</td>\n",
       "      <td>700</td>\n",
       "      <td>290</td>\n",
       "      <td>180</td>\n",
       "      <td>340</td>\n",
       "      <td>1,380</td>\n",
       "      <td>730</td>\n",
       "      <td>3,720</td>\n",
       "    </tr>\n",
       "    <tr>\n",
       "      <th>2</th>\n",
       "      <td>2.013050e+11</td>\n",
       "      <td>3</td>\n",
       "      <td>6</td>\n",
       "      <td>11</td>\n",
       "      <td>2010105413</td>\n",
       "      <td>牡3</td>\n",
       "      <td>56.0</td>\n",
       "      <td>660</td>\n",
       "      <td>1:21.3</td>\n",
       "      <td>1/2</td>\n",
       "      <td>...</td>\n",
       "      <td>150</td>\n",
       "      <td>120</td>\n",
       "      <td>660</td>\n",
       "      <td>700</td>\n",
       "      <td>290</td>\n",
       "      <td>180</td>\n",
       "      <td>340</td>\n",
       "      <td>1,380</td>\n",
       "      <td>730</td>\n",
       "      <td>3,720</td>\n",
       "    </tr>\n",
       "    <tr>\n",
       "      <th>3</th>\n",
       "      <td>2.013050e+11</td>\n",
       "      <td>4</td>\n",
       "      <td>4</td>\n",
       "      <td>8</td>\n",
       "      <td>2010103463</td>\n",
       "      <td>牝3</td>\n",
       "      <td>54.0</td>\n",
       "      <td>1122</td>\n",
       "      <td>1:21.3</td>\n",
       "      <td>アタマ</td>\n",
       "      <td>...</td>\n",
       "      <td>150</td>\n",
       "      <td>120</td>\n",
       "      <td>660</td>\n",
       "      <td>700</td>\n",
       "      <td>290</td>\n",
       "      <td>180</td>\n",
       "      <td>340</td>\n",
       "      <td>1,380</td>\n",
       "      <td>730</td>\n",
       "      <td>3,720</td>\n",
       "    </tr>\n",
       "    <tr>\n",
       "      <th>4</th>\n",
       "      <td>2.013050e+11</td>\n",
       "      <td>5</td>\n",
       "      <td>8</td>\n",
       "      <td>15</td>\n",
       "      <td>2010103480</td>\n",
       "      <td>牡3</td>\n",
       "      <td>56.0</td>\n",
       "      <td>684</td>\n",
       "      <td>1:21.4</td>\n",
       "      <td>3/4</td>\n",
       "      <td>...</td>\n",
       "      <td>150</td>\n",
       "      <td>120</td>\n",
       "      <td>660</td>\n",
       "      <td>700</td>\n",
       "      <td>290</td>\n",
       "      <td>180</td>\n",
       "      <td>340</td>\n",
       "      <td>1,380</td>\n",
       "      <td>730</td>\n",
       "      <td>3,720</td>\n",
       "    </tr>\n",
       "  </tbody>\n",
       "</table>\n",
       "<p>5 rows × 48 columns</p>\n",
       "</div>"
      ],
      "text/plain": [
       "        race_id rank  frame_number  horse_number    horse_id sex_and_age  \\\n",
       "0  2.013050e+11    1             5            10  2010103744          牝3   \n",
       "1  2.013050e+11    2             2             3  2010104843          牝3   \n",
       "2  2.013050e+11    3             6            11  2010105413          牡3   \n",
       "3  2.013050e+11    4             4             8  2010103463          牝3   \n",
       "4  2.013050e+11    5             8            15  2010103480          牡3   \n",
       "\n",
       "   burden_weight  rider_id goal_time goal_time_dif  ... hukusyo_second  \\\n",
       "0           54.0       422    1:20.9           NaN  ...            150   \n",
       "1           54.0      1043    1:21.2         1.3/4  ...            150   \n",
       "2           56.0       660    1:21.3           1/2  ...            150   \n",
       "3           54.0      1122    1:21.3           アタマ  ...            150   \n",
       "4           56.0       684    1:21.4           3/4  ...            150   \n",
       "\n",
       "   hukusyo_third wakuren  umaren wide_1_2  wide_1_3 wide_2_3 umatan  renhuku3  \\\n",
       "0            120     660     700      290       180      340  1,380       730   \n",
       "1            120     660     700      290       180      340  1,380       730   \n",
       "2            120     660     700      290       180      340  1,380       730   \n",
       "3            120     660     700      290       180      340  1,380       730   \n",
       "4            120     660     700      290       180      340  1,380       730   \n",
       "\n",
       "  rentan3  \n",
       "0   3,720  \n",
       "1   3,720  \n",
       "2   3,720  \n",
       "3   3,720  \n",
       "4   3,720  \n",
       "\n",
       "[5 rows x 48 columns]"
      ]
     },
     "execution_count": 12,
     "metadata": {},
     "output_type": "execute_result"
    }
   ],
   "source": [
    "df.head()"
   ]
  },
  {
   "cell_type": "code",
   "execution_count": 13,
   "metadata": {},
   "outputs": [
    {
     "data": {
      "text/plain": [
       "639818"
      ]
     },
     "execution_count": 13,
     "metadata": {},
     "output_type": "execute_result"
    }
   ],
   "source": [
    "len(df_horse)"
   ]
  },
  {
   "cell_type": "code",
   "execution_count": 14,
   "metadata": {},
   "outputs": [
    {
     "data": {
      "text/plain": [
       "1000"
      ]
     },
     "execution_count": 14,
     "metadata": {},
     "output_type": "execute_result"
    }
   ],
   "source": [
    "arr_horse_id = list(set(df_target_horse['horse_id']))\n",
    "# mini size\n",
    "# arr_horse_id = arr_horse_id[:1000]\n",
    "len(arr_horse_id)"
   ]
  },
  {
   "cell_type": "code",
   "execution_count": 15,
   "metadata": {},
   "outputs": [
    {
     "name": "stderr",
     "output_type": "stream",
     "text": [
      "100%|██████████| 1000/1000 [00:05<00:00, 173.59it/s]\n"
     ]
    }
   ],
   "source": [
    "arr_horse_df = []\n",
    "arr_horse_race_id = []\n",
    "for horse_id in tqdm(arr_horse_id):\n",
    "    arr_horse_df.append(df.query('horse_id == @horse_id'))\n",
    "    arr_horse_race_id.append(list(df_target_horse.query('horse_id == @horse_id').race_id))"
   ]
  },
  {
   "cell_type": "code",
   "execution_count": 16,
   "metadata": {},
   "outputs": [
    {
     "name": "stderr",
     "output_type": "stream",
     "text": [
      "[Parallel(n_jobs=-1)]: Using backend LokyBackend with 12 concurrent workers.\n",
      "[Parallel(n_jobs=-1)]: Done  48 tasks      | elapsed:    5.9s\n",
      "[Parallel(n_jobs=-1)]: Done 138 tasks      | elapsed:   17.3s\n",
      "[Parallel(n_jobs=-1)]: Done 264 tasks      | elapsed:   31.0s\n",
      "[Parallel(n_jobs=-1)]: Done 426 tasks      | elapsed:   49.7s\n"
     ]
    },
    {
     "ename": "KeyboardInterrupt",
     "evalue": "",
     "output_type": "error",
     "traceback": [
      "\u001b[0;31m---------------------------------------------------------------------------\u001b[0m",
      "\u001b[0;31mKeyboardInterrupt\u001b[0m                         Traceback (most recent call last)",
      "\u001b[0;32m<ipython-input-16-1386cdd9afcf>\u001b[0m in \u001b[0;36m<module>\u001b[0;34m\u001b[0m\n\u001b[1;32m      1\u001b[0m arr_res = Parallel(n_jobs=-1, verbose=5)([delayed(jrd.join_n_race_for_train_data)(df, arr_race_id, n_race=5)\n\u001b[0;32m----> 2\u001b[0;31m                                           for df, arr_race_id in zip(arr_horse_df, arr_horse_race_id)])\n\u001b[0m",
      "\u001b[0;32m~/.pyenv/versions/3.7.0/lib/python3.7/site-packages/joblib/parallel.py\u001b[0m in \u001b[0;36m__call__\u001b[0;34m(self, iterable)\u001b[0m\n\u001b[1;32m   1059\u001b[0m \u001b[0;34m\u001b[0m\u001b[0m\n\u001b[1;32m   1060\u001b[0m             \u001b[0;32mwith\u001b[0m \u001b[0mself\u001b[0m\u001b[0;34m.\u001b[0m\u001b[0m_backend\u001b[0m\u001b[0;34m.\u001b[0m\u001b[0mretrieval_context\u001b[0m\u001b[0;34m(\u001b[0m\u001b[0;34m)\u001b[0m\u001b[0;34m:\u001b[0m\u001b[0;34m\u001b[0m\u001b[0m\n\u001b[0;32m-> 1061\u001b[0;31m                 \u001b[0mself\u001b[0m\u001b[0;34m.\u001b[0m\u001b[0mretrieve\u001b[0m\u001b[0;34m(\u001b[0m\u001b[0;34m)\u001b[0m\u001b[0;34m\u001b[0m\u001b[0m\n\u001b[0m\u001b[1;32m   1062\u001b[0m             \u001b[0;31m# Make sure that we get a last message telling us we are done\u001b[0m\u001b[0;34m\u001b[0m\u001b[0;34m\u001b[0m\u001b[0m\n\u001b[1;32m   1063\u001b[0m             \u001b[0melapsed_time\u001b[0m \u001b[0;34m=\u001b[0m \u001b[0mtime\u001b[0m\u001b[0;34m.\u001b[0m\u001b[0mtime\u001b[0m\u001b[0;34m(\u001b[0m\u001b[0;34m)\u001b[0m \u001b[0;34m-\u001b[0m \u001b[0mself\u001b[0m\u001b[0;34m.\u001b[0m\u001b[0m_start_time\u001b[0m\u001b[0;34m\u001b[0m\u001b[0m\n",
      "\u001b[0;32m~/.pyenv/versions/3.7.0/lib/python3.7/site-packages/joblib/parallel.py\u001b[0m in \u001b[0;36mretrieve\u001b[0;34m(self)\u001b[0m\n\u001b[1;32m    938\u001b[0m             \u001b[0;32mtry\u001b[0m\u001b[0;34m:\u001b[0m\u001b[0;34m\u001b[0m\u001b[0m\n\u001b[1;32m    939\u001b[0m                 \u001b[0;32mif\u001b[0m \u001b[0mgetattr\u001b[0m\u001b[0;34m(\u001b[0m\u001b[0mself\u001b[0m\u001b[0;34m.\u001b[0m\u001b[0m_backend\u001b[0m\u001b[0;34m,\u001b[0m \u001b[0;34m'supports_timeout'\u001b[0m\u001b[0;34m,\u001b[0m \u001b[0;32mFalse\u001b[0m\u001b[0;34m)\u001b[0m\u001b[0;34m:\u001b[0m\u001b[0;34m\u001b[0m\u001b[0m\n\u001b[0;32m--> 940\u001b[0;31m                     \u001b[0mself\u001b[0m\u001b[0;34m.\u001b[0m\u001b[0m_output\u001b[0m\u001b[0;34m.\u001b[0m\u001b[0mextend\u001b[0m\u001b[0;34m(\u001b[0m\u001b[0mjob\u001b[0m\u001b[0;34m.\u001b[0m\u001b[0mget\u001b[0m\u001b[0;34m(\u001b[0m\u001b[0mtimeout\u001b[0m\u001b[0;34m=\u001b[0m\u001b[0mself\u001b[0m\u001b[0;34m.\u001b[0m\u001b[0mtimeout\u001b[0m\u001b[0;34m)\u001b[0m\u001b[0;34m)\u001b[0m\u001b[0;34m\u001b[0m\u001b[0m\n\u001b[0m\u001b[1;32m    941\u001b[0m                 \u001b[0;32melse\u001b[0m\u001b[0;34m:\u001b[0m\u001b[0;34m\u001b[0m\u001b[0m\n\u001b[1;32m    942\u001b[0m                     \u001b[0mself\u001b[0m\u001b[0;34m.\u001b[0m\u001b[0m_output\u001b[0m\u001b[0;34m.\u001b[0m\u001b[0mextend\u001b[0m\u001b[0;34m(\u001b[0m\u001b[0mjob\u001b[0m\u001b[0;34m.\u001b[0m\u001b[0mget\u001b[0m\u001b[0;34m(\u001b[0m\u001b[0;34m)\u001b[0m\u001b[0;34m)\u001b[0m\u001b[0;34m\u001b[0m\u001b[0m\n",
      "\u001b[0;32m~/.pyenv/versions/3.7.0/lib/python3.7/site-packages/joblib/_parallel_backends.py\u001b[0m in \u001b[0;36mwrap_future_result\u001b[0;34m(future, timeout)\u001b[0m\n\u001b[1;32m    540\u001b[0m         AsyncResults.get from multiprocessing.\"\"\"\n\u001b[1;32m    541\u001b[0m         \u001b[0;32mtry\u001b[0m\u001b[0;34m:\u001b[0m\u001b[0;34m\u001b[0m\u001b[0m\n\u001b[0;32m--> 542\u001b[0;31m             \u001b[0;32mreturn\u001b[0m \u001b[0mfuture\u001b[0m\u001b[0;34m.\u001b[0m\u001b[0mresult\u001b[0m\u001b[0;34m(\u001b[0m\u001b[0mtimeout\u001b[0m\u001b[0;34m=\u001b[0m\u001b[0mtimeout\u001b[0m\u001b[0;34m)\u001b[0m\u001b[0;34m\u001b[0m\u001b[0m\n\u001b[0m\u001b[1;32m    543\u001b[0m         \u001b[0;32mexcept\u001b[0m \u001b[0mCfTimeoutError\u001b[0m \u001b[0;32mas\u001b[0m \u001b[0me\u001b[0m\u001b[0;34m:\u001b[0m\u001b[0;34m\u001b[0m\u001b[0m\n\u001b[1;32m    544\u001b[0m             \u001b[0;32mraise\u001b[0m \u001b[0mTimeoutError\u001b[0m \u001b[0;32mfrom\u001b[0m \u001b[0me\u001b[0m\u001b[0;34m\u001b[0m\u001b[0m\n",
      "\u001b[0;32m~/.pyenv/versions/3.7.0/lib/python3.7/concurrent/futures/_base.py\u001b[0m in \u001b[0;36mresult\u001b[0;34m(self, timeout)\u001b[0m\n\u001b[1;32m    425\u001b[0m                 \u001b[0;32mreturn\u001b[0m \u001b[0mself\u001b[0m\u001b[0;34m.\u001b[0m\u001b[0m__get_result\u001b[0m\u001b[0;34m(\u001b[0m\u001b[0;34m)\u001b[0m\u001b[0;34m\u001b[0m\u001b[0m\n\u001b[1;32m    426\u001b[0m \u001b[0;34m\u001b[0m\u001b[0m\n\u001b[0;32m--> 427\u001b[0;31m             \u001b[0mself\u001b[0m\u001b[0;34m.\u001b[0m\u001b[0m_condition\u001b[0m\u001b[0;34m.\u001b[0m\u001b[0mwait\u001b[0m\u001b[0;34m(\u001b[0m\u001b[0mtimeout\u001b[0m\u001b[0;34m)\u001b[0m\u001b[0;34m\u001b[0m\u001b[0m\n\u001b[0m\u001b[1;32m    428\u001b[0m \u001b[0;34m\u001b[0m\u001b[0m\n\u001b[1;32m    429\u001b[0m             \u001b[0;32mif\u001b[0m \u001b[0mself\u001b[0m\u001b[0;34m.\u001b[0m\u001b[0m_state\u001b[0m \u001b[0;32min\u001b[0m \u001b[0;34m[\u001b[0m\u001b[0mCANCELLED\u001b[0m\u001b[0;34m,\u001b[0m \u001b[0mCANCELLED_AND_NOTIFIED\u001b[0m\u001b[0;34m]\u001b[0m\u001b[0;34m:\u001b[0m\u001b[0;34m\u001b[0m\u001b[0m\n",
      "\u001b[0;32m~/.pyenv/versions/3.7.0/lib/python3.7/threading.py\u001b[0m in \u001b[0;36mwait\u001b[0;34m(self, timeout)\u001b[0m\n\u001b[1;32m    294\u001b[0m         \u001b[0;32mtry\u001b[0m\u001b[0;34m:\u001b[0m    \u001b[0;31m# restore state no matter what (e.g., KeyboardInterrupt)\u001b[0m\u001b[0;34m\u001b[0m\u001b[0m\n\u001b[1;32m    295\u001b[0m             \u001b[0;32mif\u001b[0m \u001b[0mtimeout\u001b[0m \u001b[0;32mis\u001b[0m \u001b[0;32mNone\u001b[0m\u001b[0;34m:\u001b[0m\u001b[0;34m\u001b[0m\u001b[0m\n\u001b[0;32m--> 296\u001b[0;31m                 \u001b[0mwaiter\u001b[0m\u001b[0;34m.\u001b[0m\u001b[0macquire\u001b[0m\u001b[0;34m(\u001b[0m\u001b[0;34m)\u001b[0m\u001b[0;34m\u001b[0m\u001b[0m\n\u001b[0m\u001b[1;32m    297\u001b[0m                 \u001b[0mgotit\u001b[0m \u001b[0;34m=\u001b[0m \u001b[0;32mTrue\u001b[0m\u001b[0;34m\u001b[0m\u001b[0m\n\u001b[1;32m    298\u001b[0m             \u001b[0;32melse\u001b[0m\u001b[0;34m:\u001b[0m\u001b[0;34m\u001b[0m\u001b[0m\n",
      "\u001b[0;31mKeyboardInterrupt\u001b[0m: "
     ]
    }
   ],
   "source": [
    "arr_res = Parallel(n_jobs=-1, verbose=5)([delayed(jrd.join_n_race_for_train_data)(df, arr_race_id, n_race=5)\n",
    "                                          for df, arr_race_id in zip(arr_horse_df, arr_horse_race_id)])"
   ]
  },
  {
   "cell_type": "code",
   "execution_count": null,
   "metadata": {},
   "outputs": [],
   "source": [
    "result = pd.concat((df.T for df in tqdm(arr_res)), axis=1).T\n",
    "\n",
    "#result = pd.DataFrame()\n",
    "#for df in tqdm(arr_res):\n",
    "#    result = pd.concat([result, df])"
   ]
  },
  {
   "cell_type": "code",
   "execution_count": null,
   "metadata": {},
   "outputs": [],
   "source": [
    "result.reset_index(inplace=True, drop=True)"
   ]
  },
  {
   "cell_type": "code",
   "execution_count": null,
   "metadata": {},
   "outputs": [],
   "source": [
    "result.info()"
   ]
  },
  {
   "cell_type": "code",
   "execution_count": null,
   "metadata": {},
   "outputs": [],
   "source": [
    "result.columns[30:60]"
   ]
  },
  {
   "cell_type": "code",
   "execution_count": null,
   "metadata": {},
   "outputs": [],
   "source": [
    "result.sort_values('race_id', ascending=False)"
   ]
  },
  {
   "cell_type": "code",
   "execution_count": null,
   "metadata": {},
   "outputs": [],
   "source": []
  },
  {
   "cell_type": "code",
   "execution_count": null,
   "metadata": {},
   "outputs": [],
   "source": []
  },
  {
   "cell_type": "code",
   "execution_count": null,
   "metadata": {},
   "outputs": [],
   "source": [
    "result.to_csv(GOOGLE_DRIVE_PATH + '/train_data/horse_race_' + TARGET + '.csv')"
   ]
  },
  {
   "cell_type": "code",
   "execution_count": null,
   "metadata": {},
   "outputs": [],
   "source": []
  },
  {
   "cell_type": "code",
   "execution_count": null,
   "metadata": {},
   "outputs": [],
   "source": []
  },
  {
   "cell_type": "code",
   "execution_count": null,
   "metadata": {},
   "outputs": [],
   "source": []
  },
  {
   "cell_type": "code",
   "execution_count": null,
   "metadata": {},
   "outputs": [],
   "source": []
  },
  {
   "cell_type": "code",
   "execution_count": null,
   "metadata": {},
   "outputs": [],
   "source": []
  },
  {
   "cell_type": "markdown",
   "metadata": {
    "heading_collapsed": true
   },
   "source": [
    "# テスト"
   ]
  },
  {
   "cell_type": "code",
   "execution_count": null,
   "metadata": {
    "hidden": true
   },
   "outputs": [],
   "source": [
    "len(df_horse)"
   ]
  },
  {
   "cell_type": "code",
   "execution_count": null,
   "metadata": {
    "hidden": true
   },
   "outputs": [],
   "source": [
    "df_horse.groupby('horse_id')['race_id'].count().max()"
   ]
  },
  {
   "cell_type": "code",
   "execution_count": null,
   "metadata": {
    "hidden": true
   },
   "outputs": [],
   "source": [
    "df_horse_min = df_horse.iloc[0:10000:10, :]"
   ]
  },
  {
   "cell_type": "code",
   "execution_count": null,
   "metadata": {
    "hidden": true
   },
   "outputs": [],
   "source": [
    "df_horse_min"
   ]
  },
  {
   "cell_type": "code",
   "execution_count": null,
   "metadata": {
    "hidden": true
   },
   "outputs": [],
   "source": [
    "def add_n_race_data(df_race, df_horse, n_race=1):\n",
    "    res = pd.DataFrame()\n",
    "    horse_ids = list(set(df_horse['horse_id']))\n",
    "    df = pd.merge(df_horse, df_race, on='race_id', how='left')\n",
    "    for horse_id in tqdm(horse_ids):\n",
    "        df_horse_tmp = df.query('horse_id == @horse_id')\n",
    "        df_horse_tmp = df_horse_tmp.sort_values(\"race_id\")\n",
    "        race_ids = list(set(df_horse_tmp['race_id']))\n",
    "        for race_id in race_ids:\n",
    "            df_race_tmp = df_horse_tmp.query('race_id == @race_id').reset_index(drop=True)\n",
    "            df_horse_low_race_id = df_horse_tmp.query('race_id <= @race_id')\n",
    "            columns = df_horse_low_race_id.columns\n",
    "            for n in range(1, n_race+1):\n",
    "                add_columns = list(map(lambda c: c+f\"_{n}\", columns))\n",
    "                add_race = df_horse_low_race_id.iloc[-1-n:-n, :].reset_index(drop=True)\n",
    "                add_race.columns = add_columns\n",
    "                df_race_tmp = pd.concat([df_race_tmp, add_race], axis=1)\n",
    "                    \n",
    "            res = pd.concat([res, df_race_tmp])\n",
    "\n",
    "    return res"
   ]
  },
  {
   "cell_type": "code",
   "execution_count": null,
   "metadata": {
    "hidden": true
   },
   "outputs": [],
   "source": [
    "result = add_n_race_data(df_race, df_horse_min, n_race=15)\n",
    "#result = add_n_race_data(df_race, df_horse_min, n_race=5)"
   ]
  },
  {
   "cell_type": "code",
   "execution_count": null,
   "metadata": {
    "hidden": true
   },
   "outputs": [],
   "source": [
    "result"
   ]
  },
  {
   "cell_type": "code",
   "execution_count": null,
   "metadata": {
    "hidden": true
   },
   "outputs": [],
   "source": [
    "result.to_csv(GOOGLE_DRIVE_PATH + '/data/horse_race.csv')"
   ]
  },
  {
   "cell_type": "code",
   "execution_count": null,
   "metadata": {
    "hidden": true
   },
   "outputs": [],
   "source": [
    "result.info()"
   ]
  },
  {
   "cell_type": "code",
   "execution_count": null,
   "metadata": {
    "hidden": true
   },
   "outputs": [],
   "source": [
    "for column in result.columns:\n",
    "    print(column)"
   ]
  },
  {
   "cell_type": "code",
   "execution_count": null,
   "metadata": {
    "hidden": true
   },
   "outputs": [],
   "source": []
  },
  {
   "cell_type": "code",
   "execution_count": null,
   "metadata": {
    "hidden": true
   },
   "outputs": [],
   "source": []
  },
  {
   "cell_type": "code",
   "execution_count": null,
   "metadata": {
    "hidden": true
   },
   "outputs": [],
   "source": []
  },
  {
   "cell_type": "code",
   "execution_count": null,
   "metadata": {
    "hidden": true
   },
   "outputs": [],
   "source": [
    "def add_n_race_data_para(df):\n",
    "    res = pd.DataFrame()\n",
    "    n_race = 15\n",
    "    df = df.sort_values(\"race_id\")\n",
    "    race_ids = list(set(df['race_id']))\n",
    "    for race_id in race_ids:\n",
    "        df_race_tmp = df.query('race_id == @race_id').reset_index(drop=True)\n",
    "        df_horse_low_race_id = df.query('race_id <= @race_id')\n",
    "        columns = df_horse_low_race_id.columns\n",
    "        for n in range(1, n_race+1):\n",
    "            add_columns = list(map(lambda c: c+f\"_{n}\", columns))\n",
    "            add_race = df_horse_low_race_id.iloc[-1-n:-n, :].reset_index(drop=True)\n",
    "            add_race.columns = add_columns\n",
    "            df_race_tmp = pd.concat([df_race_tmp, add_race], axis=1)\n",
    "\n",
    "        res = pd.concat([res, df_race_tmp])\n",
    "\n",
    "    return res"
   ]
  },
  {
   "cell_type": "code",
   "execution_count": null,
   "metadata": {
    "hidden": true
   },
   "outputs": [],
   "source": []
  },
  {
   "cell_type": "code",
   "execution_count": null,
   "metadata": {
    "hidden": true
   },
   "outputs": [],
   "source": []
  },
  {
   "cell_type": "code",
   "execution_count": null,
   "metadata": {
    "hidden": true
   },
   "outputs": [],
   "source": []
  },
  {
   "cell_type": "code",
   "execution_count": null,
   "metadata": {
    "hidden": true
   },
   "outputs": [],
   "source": [
    "def create_horse_data(n_race, df_race, df_horse):\n",
    "    df_race = df_race.reset_index(drop=True)\n",
    "    race_id = df_race.iloc[0, 0]\n",
    "    df_horse.sort_values(\"race_id\", inplace=True)\n",
    "    df_hourse = df_horse.query('race_id < @race_id')\n",
    "    columns = df_horse.columns\n",
    "    for n in range(1, n_race+1):\n",
    "        add_columns = list(map(lambda c: c+f\"_{n}\", columns))\n",
    "        add_race = df_horse.iloc[-1-n:-n, :].reset_index(drop=True)\n",
    "        add_race.columns = add_columns\n",
    "        df_race = pd.concat([df_race, add_race], axis=1)\n",
    "    return df_race"
   ]
  },
  {
   "cell_type": "code",
   "execution_count": null,
   "metadata": {
    "hidden": true
   },
   "outputs": [],
   "source": [
    "def extract_previous_race(n, df):\n",
    "    return df.loc[:, f\"race_year_{n}\": f\"horse_ranking_index_{n}\"]"
   ]
  },
  {
   "cell_type": "code",
   "execution_count": null,
   "metadata": {
    "hidden": true
   },
   "outputs": [],
   "source": [
    "df_horse_test = df_horse.query('horse_id == 2010103480')\n",
    "df_horse_test"
   ]
  },
  {
   "cell_type": "code",
   "execution_count": null,
   "metadata": {
    "hidden": true
   },
   "outputs": [],
   "source": []
  },
  {
   "cell_type": "code",
   "execution_count": null,
   "metadata": {
    "hidden": true
   },
   "outputs": [],
   "source": [
    "# 3レース前までのデータを列に追加\n",
    "result = create_horse_data(3, df_race_test, df_horse_test)\n",
    "result"
   ]
  },
  {
   "cell_type": "code",
   "execution_count": null,
   "metadata": {
    "hidden": true
   },
   "outputs": [],
   "source": [
    "extract_previous_race(1, result)"
   ]
  },
  {
   "cell_type": "code",
   "execution_count": null,
   "metadata": {
    "hidden": true
   },
   "outputs": [],
   "source": []
  },
  {
   "cell_type": "code",
   "execution_count": null,
   "metadata": {
    "hidden": true
   },
   "outputs": [],
   "source": []
  },
  {
   "cell_type": "code",
   "execution_count": null,
   "metadata": {
    "hidden": true
   },
   "outputs": [],
   "source": []
  },
  {
   "cell_type": "code",
   "execution_count": null,
   "metadata": {
    "hidden": true
   },
   "outputs": [],
   "source": []
  },
  {
   "cell_type": "markdown",
   "metadata": {},
   "source": [
    "# 古いコード"
   ]
  },
  {
   "cell_type": "code",
   "execution_count": null,
   "metadata": {},
   "outputs": [],
   "source": [
    "df = pd.read_csv(\"data/data_2400.csv\")\n",
    "df.head()"
   ]
  },
  {
   "cell_type": "code",
   "execution_count": null,
   "metadata": {},
   "outputs": [],
   "source": [
    "df.columns"
   ]
  },
  {
   "cell_type": "code",
   "execution_count": null,
   "metadata": {},
   "outputs": [],
   "source": [
    "df[\"horse_name\"].value_counts()"
   ]
  },
  {
   "cell_type": "markdown",
   "metadata": {},
   "source": [
    "## 指定した馬のnレース前までのデータを列に追加する"
   ]
  },
  {
   "cell_type": "code",
   "execution_count": null,
   "metadata": {},
   "outputs": [],
   "source": [
    "test_df = df[df[\"horse_name\"] == \"ステイブラビッシモ\"].loc[:, :\"horse_ranking_index\"]\n",
    "test_df"
   ]
  },
  {
   "cell_type": "markdown",
   "metadata": {},
   "source": [
    "## 日時情報を整形\n",
    "日時情報を使ってデータフレームをソートしたデータから、nレース前までのデータを取得するために行う。"
   ]
  },
  {
   "cell_type": "code",
   "execution_count": null,
   "metadata": {},
   "outputs": [],
   "source": [
    "def add_date_data(df, year_column_name, month_column_name,  day_column_name):\n",
    "    df[\"date\"] = df.apply(lambda row: f\"{row[year_column_name]}-{row[month_column_name]}-{row[day_column_name]}\", axis=1)\n",
    "    df[\"date\"] = pd.to_datetime(df[\"date\"])"
   ]
  },
  {
   "cell_type": "code",
   "execution_count": null,
   "metadata": {},
   "outputs": [],
   "source": [
    "add_date_data(test_df, \"race_year\", \"race_month\", \"race_day\")\n",
    "test_df.info()"
   ]
  },
  {
   "cell_type": "markdown",
   "metadata": {},
   "source": [
    "## nレース前までのデータを列に追加する"
   ]
  },
  {
   "cell_type": "code",
   "execution_count": null,
   "metadata": {},
   "outputs": [],
   "source": [
    "def create_horse_data(n_race, df):\n",
    "    df.sort_values(\"date\", inplace=True)\n",
    "    race_df = df.iloc[-1:, :].reset_index(drop=True)\n",
    "    columns = race_df.columns\n",
    "    for n in range(1, n_race+1):\n",
    "        add_columns = list(map(lambda c: c+f\"_{n}\", columns))\n",
    "        add_race = df.iloc[-1-n:-n, :].reset_index(drop=True)\n",
    "        add_race.columns = add_columns\n",
    "        race_df = pd.concat([race_df, add_race], axis=1)\n",
    "    return race_df"
   ]
  },
  {
   "cell_type": "code",
   "execution_count": null,
   "metadata": {},
   "outputs": [],
   "source": [
    "# 3レース前までのデータを列に追加\n",
    "result = create_horse_data(3, test_df)\n",
    "result"
   ]
  },
  {
   "cell_type": "code",
   "execution_count": null,
   "metadata": {},
   "outputs": [],
   "source": [
    "def extract_previous_race(n, df):\n",
    "    return df.loc[:, f\"race_year_{n}\": f\"horse_ranking_index_{n}\"]"
   ]
  },
  {
   "cell_type": "code",
   "execution_count": null,
   "metadata": {},
   "outputs": [],
   "source": [
    "extract_previous_race(1, result)"
   ]
  },
  {
   "cell_type": "code",
   "execution_count": null,
   "metadata": {},
   "outputs": [],
   "source": [
    "extract_previous_race(2, result)"
   ]
  },
  {
   "cell_type": "code",
   "execution_count": null,
   "metadata": {},
   "outputs": [],
   "source": [
    "extract_previous_race(3, result)"
   ]
  },
  {
   "cell_type": "code",
   "execution_count": null,
   "metadata": {},
   "outputs": [],
   "source": []
  }
 ],
 "metadata": {
  "kernelspec": {
   "display_name": "Python 3",
   "language": "python",
   "name": "python3"
  },
  "language_info": {
   "codemirror_mode": {
    "name": "ipython",
    "version": 3
   },
   "file_extension": ".py",
   "mimetype": "text/x-python",
   "name": "python",
   "nbconvert_exporter": "python",
   "pygments_lexer": "ipython3",
   "version": "3.7.0"
  }
 },
 "nbformat": 4,
 "nbformat_minor": 4
}
