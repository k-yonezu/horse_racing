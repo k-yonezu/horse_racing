{
 "cells": [
  {
   "cell_type": "code",
   "execution_count": null,
   "metadata": {},
   "outputs": [],
   "source": [
    "import pandas as pd\n",
    "import tensorflow as tf\n",
    "import numpy as np\n",
    "from tqdm import tqdm\n",
    "from joblib import Parallel, delayed\n",
    "\n",
    "import utils.read_data as rd\n",
    "import utils.preprocessing as pre"
   ]
  },
  {
   "cell_type": "code",
   "execution_count": null,
   "metadata": {},
   "outputs": [],
   "source": [
    "import os\n",
    "from os.path import join, dirname\n",
    "from dotenv import load_dotenv\n",
    "from pathlib import Path"
   ]
  },
  {
   "cell_type": "code",
   "execution_count": null,
   "metadata": {},
   "outputs": [],
   "source": [
    "load_dotenv(verbose=True)\n",
    "dotenv_path = join(Path().resolve(), '.env')\n",
    "load_dotenv(dotenv_path)\n",
    "GOOGLE_DRIVE_PATH = os.environ.get(\"GOOGLE_DRIVE_PATH\") + '/horse_racing'\n",
    "DATA_PATH = GOOGLE_DRIVE_PATH + '/csv/'"
   ]
  },
  {
   "cell_type": "code",
   "execution_count": null,
   "metadata": {},
   "outputs": [],
   "source": [
    "df_horse = rd.read_horse_csv(DATA_PATH)"
   ]
  },
  {
   "cell_type": "code",
   "execution_count": null,
   "metadata": {},
   "outputs": [],
   "source": [
    "df_race = rd.read_race_csv(DATA_PATH)"
   ]
  },
  {
   "cell_type": "code",
   "execution_count": null,
   "metadata": {},
   "outputs": [],
   "source": [
    "df_horse = df_horse.sort_values(\"race_id\")"
   ]
  },
  {
   "cell_type": "code",
   "execution_count": null,
   "metadata": {},
   "outputs": [],
   "source": [
    "len(df_horse)"
   ]
  },
  {
   "cell_type": "code",
   "execution_count": null,
   "metadata": {},
   "outputs": [],
   "source": [
    "df_horse = df_horse.iloc[int(29 * len(df_horse)/30):-1, :].reset_index(drop=True)\n",
    "# df_horse = df_horse.iloc[:100, :].reset_index(drop=True)\n",
    "#df_horse_half"
   ]
  },
  {
   "cell_type": "code",
   "execution_count": null,
   "metadata": {},
   "outputs": [],
   "source": [
    "horse_ids = list(set(df_horse['horse_id']))\n",
    "horse_ids"
   ]
  },
  {
   "cell_type": "code",
   "execution_count": null,
   "metadata": {},
   "outputs": [],
   "source": [
    "\n",
    "df = pd.merge(df_horse, df_race, on='race_id', how='left')\n",
    "arr_df = []\n",
    "for horse_id in tqdm(horse_ids):\n",
    "    df_horse_tmp = df.query('horse_id == @horse_id')\n",
    "    df_horse_tmp = df_horse_tmp.sort_values(\"race_id\")\n",
    "    arr_df.append(df_horse_tmp)"
   ]
  },
  {
   "cell_type": "code",
   "execution_count": null,
   "metadata": {},
   "outputs": [],
   "source": []
  },
  {
   "cell_type": "code",
   "execution_count": null,
   "metadata": {},
   "outputs": [],
   "source": [
    "arr_res = Parallel(n_jobs=-1, verbose=8)([delayed(pre.add_n_race_data_para)(df) for df in arr_df])"
   ]
  },
  {
   "cell_type": "code",
   "execution_count": null,
   "metadata": {},
   "outputs": [],
   "source": [
    "result = pd.concat((df.T for df in tqdm(arr_res)), axis=1).T\n",
    "\n",
    "#result = pd.DataFrame()\n",
    "#for df in tqdm(arr_res):\n",
    "#    result = pd.concat([result, df])"
   ]
  },
  {
   "cell_type": "code",
   "execution_count": null,
   "metadata": {},
   "outputs": [],
   "source": [
    "result"
   ]
  },
  {
   "cell_type": "code",
   "execution_count": null,
   "metadata": {},
   "outputs": [],
   "source": [
    "result.reset_index(inplace=True, drop=True)"
   ]
  },
  {
   "cell_type": "code",
   "execution_count": null,
   "metadata": {},
   "outputs": [],
   "source": []
  },
  {
   "cell_type": "code",
   "execution_count": null,
   "metadata": {},
   "outputs": [],
   "source": [
    "result.to_csv(GOOGLE_DRIVE_PATH + '/data/small_horse_race.csv')"
   ]
  },
  {
   "cell_type": "code",
   "execution_count": null,
   "metadata": {},
   "outputs": [],
   "source": []
  },
  {
   "cell_type": "code",
   "execution_count": null,
   "metadata": {},
   "outputs": [],
   "source": []
  },
  {
   "cell_type": "code",
   "execution_count": null,
   "metadata": {},
   "outputs": [],
   "source": []
  },
  {
   "cell_type": "code",
   "execution_count": null,
   "metadata": {},
   "outputs": [],
   "source": []
  },
  {
   "cell_type": "code",
   "execution_count": null,
   "metadata": {},
   "outputs": [],
   "source": []
  },
  {
   "cell_type": "markdown",
   "metadata": {},
   "source": [
    "# テスト"
   ]
  },
  {
   "cell_type": "code",
   "execution_count": null,
   "metadata": {},
   "outputs": [],
   "source": [
    "len(df_horse)"
   ]
  },
  {
   "cell_type": "code",
   "execution_count": null,
   "metadata": {},
   "outputs": [],
   "source": [
    "df_horse.groupby('horse_id')['race_id'].count().max()"
   ]
  },
  {
   "cell_type": "code",
   "execution_count": null,
   "metadata": {},
   "outputs": [],
   "source": [
    "df_horse_min = df_horse.iloc[0:10000:10, :]"
   ]
  },
  {
   "cell_type": "code",
   "execution_count": null,
   "metadata": {},
   "outputs": [],
   "source": [
    "df_horse_min"
   ]
  },
  {
   "cell_type": "code",
   "execution_count": null,
   "metadata": {},
   "outputs": [],
   "source": [
    "def add_n_race_data(df_race, df_horse, n_race=1):\n",
    "    res = pd.DataFrame()\n",
    "    horse_ids = list(set(df_horse['horse_id']))\n",
    "    df = pd.merge(df_horse, df_race, on='race_id', how='left')\n",
    "    for horse_id in tqdm(horse_ids):\n",
    "        df_horse_tmp = df.query('horse_id == @horse_id')\n",
    "        df_horse_tmp = df_horse_tmp.sort_values(\"race_id\")\n",
    "        race_ids = list(set(df_horse_tmp['race_id']))\n",
    "        for race_id in race_ids:\n",
    "            df_race_tmp = df_horse_tmp.query('race_id == @race_id').reset_index(drop=True)\n",
    "            df_horse_low_race_id = df_horse_tmp.query('race_id <= @race_id')\n",
    "            columns = df_horse_low_race_id.columns\n",
    "            for n in range(1, n_race+1):\n",
    "                add_columns = list(map(lambda c: c+f\"_{n}\", columns))\n",
    "                add_race = df_horse_low_race_id.iloc[-1-n:-n, :].reset_index(drop=True)\n",
    "                add_race.columns = add_columns\n",
    "                df_race_tmp = pd.concat([df_race_tmp, add_race], axis=1)\n",
    "                    \n",
    "            res = pd.concat([res, df_race_tmp])\n",
    "\n",
    "    return res"
   ]
  },
  {
   "cell_type": "code",
   "execution_count": null,
   "metadata": {},
   "outputs": [],
   "source": [
    "result = add_n_race_data(df_race, df_horse_min, n_race=15)\n",
    "#result = add_n_race_data(df_race, df_horse_min, n_race=5)"
   ]
  },
  {
   "cell_type": "code",
   "execution_count": null,
   "metadata": {},
   "outputs": [],
   "source": [
    "result"
   ]
  },
  {
   "cell_type": "code",
   "execution_count": null,
   "metadata": {},
   "outputs": [],
   "source": [
    "result.to_csv(GOOGLE_DRIVE_PATH + '/data/horse_race.csv')"
   ]
  },
  {
   "cell_type": "code",
   "execution_count": null,
   "metadata": {},
   "outputs": [],
   "source": [
    "result.info()"
   ]
  },
  {
   "cell_type": "code",
   "execution_count": null,
   "metadata": {},
   "outputs": [],
   "source": [
    "for column in result.columns:\n",
    "    print(column)"
   ]
  },
  {
   "cell_type": "code",
   "execution_count": null,
   "metadata": {},
   "outputs": [],
   "source": []
  },
  {
   "cell_type": "code",
   "execution_count": null,
   "metadata": {},
   "outputs": [],
   "source": []
  },
  {
   "cell_type": "code",
   "execution_count": null,
   "metadata": {},
   "outputs": [],
   "source": []
  },
  {
   "cell_type": "code",
   "execution_count": null,
   "metadata": {},
   "outputs": [],
   "source": [
    "def add_n_race_data_para(df):\n",
    "    res = pd.DataFrame()\n",
    "    n_race = 15\n",
    "    df = df.sort_values(\"race_id\")\n",
    "    race_ids = list(set(df['race_id']))\n",
    "    for race_id in race_ids:\n",
    "        df_race_tmp = df.query('race_id == @race_id').reset_index(drop=True)\n",
    "        df_horse_low_race_id = df.query('race_id <= @race_id')\n",
    "        columns = df_horse_low_race_id.columns\n",
    "        for n in range(1, n_race+1):\n",
    "            add_columns = list(map(lambda c: c+f\"_{n}\", columns))\n",
    "            add_race = df_horse_low_race_id.iloc[-1-n:-n, :].reset_index(drop=True)\n",
    "            add_race.columns = add_columns\n",
    "            df_race_tmp = pd.concat([df_race_tmp, add_race], axis=1)\n",
    "\n",
    "        res = pd.concat([res, df_race_tmp])\n",
    "\n",
    "    return res"
   ]
  },
  {
   "cell_type": "code",
   "execution_count": null,
   "metadata": {},
   "outputs": [],
   "source": []
  },
  {
   "cell_type": "code",
   "execution_count": null,
   "metadata": {},
   "outputs": [],
   "source": []
  },
  {
   "cell_type": "code",
   "execution_count": null,
   "metadata": {},
   "outputs": [],
   "source": []
  },
  {
   "cell_type": "code",
   "execution_count": null,
   "metadata": {},
   "outputs": [],
   "source": [
    "def create_horse_data(n_race, df_race, df_horse):\n",
    "    df_race = df_race.reset_index(drop=True)\n",
    "    race_id = df_race.iloc[0, 0]\n",
    "    df_horse.sort_values(\"race_id\", inplace=True)\n",
    "    df_hourse = df_horse.query('race_id < @race_id')\n",
    "    columns = df_horse.columns\n",
    "    for n in range(1, n_race+1):\n",
    "        add_columns = list(map(lambda c: c+f\"_{n}\", columns))\n",
    "        add_race = df_horse.iloc[-1-n:-n, :].reset_index(drop=True)\n",
    "        add_race.columns = add_columns\n",
    "        df_race = pd.concat([df_race, add_race], axis=1)\n",
    "    return df_race"
   ]
  },
  {
   "cell_type": "code",
   "execution_count": null,
   "metadata": {},
   "outputs": [],
   "source": [
    "def extract_previous_race(n, df):\n",
    "    return df.loc[:, f\"race_year_{n}\": f\"horse_ranking_index_{n}\"]"
   ]
  },
  {
   "cell_type": "code",
   "execution_count": null,
   "metadata": {},
   "outputs": [],
   "source": [
    "df_horse_test = df_horse.query('horse_id == 2010103480')\n",
    "df_horse_test"
   ]
  },
  {
   "cell_type": "code",
   "execution_count": null,
   "metadata": {},
   "outputs": [],
   "source": []
  },
  {
   "cell_type": "code",
   "execution_count": null,
   "metadata": {},
   "outputs": [],
   "source": [
    "# 3レース前までのデータを列に追加\n",
    "result = create_horse_data(3, df_race_test, df_horse_test)\n",
    "result"
   ]
  },
  {
   "cell_type": "code",
   "execution_count": null,
   "metadata": {},
   "outputs": [],
   "source": [
    "extract_previous_race(1, result)"
   ]
  },
  {
   "cell_type": "code",
   "execution_count": null,
   "metadata": {},
   "outputs": [],
   "source": []
  },
  {
   "cell_type": "code",
   "execution_count": null,
   "metadata": {},
   "outputs": [],
   "source": []
  },
  {
   "cell_type": "code",
   "execution_count": null,
   "metadata": {},
   "outputs": [],
   "source": []
  },
  {
   "cell_type": "code",
   "execution_count": null,
   "metadata": {},
   "outputs": [],
   "source": []
  },
  {
   "cell_type": "markdown",
   "metadata": {},
   "source": [
    "# 古いコード"
   ]
  },
  {
   "cell_type": "code",
   "execution_count": null,
   "metadata": {},
   "outputs": [],
   "source": [
    "df = pd.read_csv(\"data/data_2400.csv\")\n",
    "df.head()"
   ]
  },
  {
   "cell_type": "code",
   "execution_count": null,
   "metadata": {},
   "outputs": [],
   "source": [
    "df.columns"
   ]
  },
  {
   "cell_type": "code",
   "execution_count": null,
   "metadata": {},
   "outputs": [],
   "source": [
    "df[\"horse_name\"].value_counts()"
   ]
  },
  {
   "cell_type": "markdown",
   "metadata": {},
   "source": [
    "## 指定した馬のnレース前までのデータを列に追加する"
   ]
  },
  {
   "cell_type": "code",
   "execution_count": null,
   "metadata": {},
   "outputs": [],
   "source": [
    "test_df = df[df[\"horse_name\"] == \"ステイブラビッシモ\"].loc[:, :\"horse_ranking_index\"]\n",
    "test_df"
   ]
  },
  {
   "cell_type": "markdown",
   "metadata": {},
   "source": [
    "## 日時情報を整形\n",
    "日時情報を使ってデータフレームをソートしたデータから、nレース前までのデータを取得するために行う。"
   ]
  },
  {
   "cell_type": "code",
   "execution_count": null,
   "metadata": {},
   "outputs": [],
   "source": [
    "def add_date_data(df, year_column_name, month_column_name,  day_column_name):\n",
    "    df[\"date\"] = df.apply(lambda row: f\"{row[year_column_name]}-{row[month_column_name]}-{row[day_column_name]}\", axis=1)\n",
    "    df[\"date\"] = pd.to_datetime(df[\"date\"])"
   ]
  },
  {
   "cell_type": "code",
   "execution_count": null,
   "metadata": {},
   "outputs": [],
   "source": [
    "add_date_data(test_df, \"race_year\", \"race_month\", \"race_day\")\n",
    "test_df.info()"
   ]
  },
  {
   "cell_type": "markdown",
   "metadata": {},
   "source": [
    "## nレース前までのデータを列に追加する"
   ]
  },
  {
   "cell_type": "code",
   "execution_count": null,
   "metadata": {},
   "outputs": [],
   "source": [
    "def create_horse_data(n_race, df):\n",
    "    df.sort_values(\"date\", inplace=True)\n",
    "    race_df = df.iloc[-1:, :].reset_index(drop=True)\n",
    "    columns = race_df.columns\n",
    "    for n in range(1, n_race+1):\n",
    "        add_columns = list(map(lambda c: c+f\"_{n}\", columns))\n",
    "        add_race = df.iloc[-1-n:-n, :].reset_index(drop=True)\n",
    "        add_race.columns = add_columns\n",
    "        race_df = pd.concat([race_df, add_race], axis=1)\n",
    "    return race_df"
   ]
  },
  {
   "cell_type": "code",
   "execution_count": null,
   "metadata": {},
   "outputs": [],
   "source": [
    "# 3レース前までのデータを列に追加\n",
    "result = create_horse_data(3, test_df)\n",
    "result"
   ]
  },
  {
   "cell_type": "code",
   "execution_count": null,
   "metadata": {},
   "outputs": [],
   "source": [
    "def extract_previous_race(n, df):\n",
    "    return df.loc[:, f\"race_year_{n}\": f\"horse_ranking_index_{n}\"]"
   ]
  },
  {
   "cell_type": "code",
   "execution_count": null,
   "metadata": {},
   "outputs": [],
   "source": [
    "extract_previous_race(1, result)"
   ]
  },
  {
   "cell_type": "code",
   "execution_count": null,
   "metadata": {},
   "outputs": [],
   "source": [
    "extract_previous_race(2, result)"
   ]
  },
  {
   "cell_type": "code",
   "execution_count": null,
   "metadata": {},
   "outputs": [],
   "source": [
    "extract_previous_race(3, result)"
   ]
  },
  {
   "cell_type": "code",
   "execution_count": null,
   "metadata": {},
   "outputs": [],
   "source": []
  }
 ],
 "metadata": {
  "kernelspec": {
   "display_name": "Python 3",
   "language": "python",
   "name": "python3"
  },
  "language_info": {
   "codemirror_mode": {
    "name": "ipython",
    "version": 3
   },
   "file_extension": ".py",
   "mimetype": "text/x-python",
   "name": "python",
   "nbconvert_exporter": "python",
   "pygments_lexer": "ipython3",
   "version": "3.7.0"
  }
 },
 "nbformat": 4,
 "nbformat_minor": 4
}
