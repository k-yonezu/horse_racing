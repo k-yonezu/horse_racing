{
 "cells": [
  {
   "cell_type": "code",
   "execution_count": null,
   "metadata": {},
   "outputs": [],
   "source": [
    "import pandas as pd\n",
    "import tensorflow as tf\n",
    "import numpy as np\n",
    "from sklearn.model_selection import train_test_split\n",
    "\n",
    "import utils.read_data as rd\n",
    "import utils.preprocessing as pp\n",
    "import utils.io_model as im\n",
    "import utils.join_race_data as join_race_data\n",
    "import utils.prepare_data as prepare_data\n",
    "import os\n",
    "from os.path import join, dirname\n",
    "from dotenv import load_dotenv\n",
    "from pathlib import Path\n",
    "import tensorflow as tf"
   ]
  },
  {
   "cell_type": "code",
   "execution_count": null,
   "metadata": {},
   "outputs": [],
   "source": [
    "load_dotenv(verbose=True)\n",
    "dotenv_path = join(Path().resolve(), '.env')\n",
    "load_dotenv(dotenv_path)"
   ]
  },
  {
   "cell_type": "code",
   "execution_count": null,
   "metadata": {},
   "outputs": [],
   "source": [
    "GOOGLE_DRIVE_PATH = os.environ.get(\"GOOGLE_DRIVE_PATH\") + '/horse_racing'\n",
    "TARGET_DATA_PATH = GOOGLE_DRIVE_PATH + '/csv/test_data/arima'\n",
    "TRAIN_DATA_PATH = GOOGLE_DRIVE_PATH + '/csv/train_data'"
   ]
  },
  {
   "cell_type": "markdown",
   "metadata": {},
   "source": [
    "# データ読み込み・前処理"
   ]
  },
  {
   "cell_type": "code",
   "execution_count": null,
   "metadata": {},
   "outputs": [],
   "source": [
    "target_horse_df = rd.read_target_horse_csv(TARGET_DATA_PATH)\n",
    "target_race_df  = rd.read_target_race_csv(TARGET_DATA_PATH)\n",
    "target_df = pd.merge(target_horse_df, target_race_df, on='race_id', how='left')"
   ]
  },
  {
   "cell_type": "code",
   "execution_count": null,
   "metadata": {},
   "outputs": [],
   "source": [
    "# ターゲットデータに過去3レース分の情報を追加\n",
    "past_data_df = rd.read_horse_race_csv(TRAIN_DATA_PATH)\n",
    "columns_past_data = [c for c in past_data_df.columns if \"-\" not in c]\n",
    "df_for_prediction = join_race_data.join_n_race_for_test_data(past_data_df[columns_past_data], target_df, 3)"
   ]
  },
  {
   "cell_type": "code",
   "execution_count": null,
   "metadata": {},
   "outputs": [],
   "source": [
    "df_for_prediction.head()"
   ]
  },
  {
   "cell_type": "code",
   "execution_count": null,
   "metadata": {},
   "outputs": [],
   "source": [
    "df_for_prediction = prepare_data.prepare_data_for_prediction(df_for_prediction, past_data_df)"
   ]
  },
  {
   "cell_type": "code",
   "execution_count": null,
   "metadata": {},
   "outputs": [],
   "source": [
    "df_for_prediction.head()"
   ]
  },
  {
   "cell_type": "markdown",
   "metadata": {},
   "source": [
    "# 予測"
   ]
  },
  {
   "cell_type": "code",
   "execution_count": null,
   "metadata": {},
   "outputs": [],
   "source": [
    "model = im.read_model(\"second_model\")"
   ]
  },
  {
   "cell_type": "code",
   "execution_count": null,
   "metadata": {},
   "outputs": [],
   "source": [
    "x = np.array(df_for_prediction)"
   ]
  },
  {
   "cell_type": "code",
   "execution_count": null,
   "metadata": {},
   "outputs": [],
   "source": [
    "test = []\n",
    "for x_input, umaban, horse_id in zip(x, list(range(len(target_df[\"horse_id\"]))), list(target_df[\"horse_id\"])):\n",
    "    pred = model.predict(x_input.reshape(1, -1))\n",
    "    if umaban == 1 or umaban == 2 or umaban == 4 or umaban == 5:\n",
    "        test.append(x_input)\n",
    "    prediction_class = np.argmax([pred[0][0], pred[0][1], pred[0][2]])\n",
    "    print(\"class: %d, (%f, %f, %f), %d (%d)\" % (prediction_class, pred[0][0], pred[0][1], pred[0][2], umaban + 1, horse_id))"
   ]
  },
  {
   "cell_type": "code",
   "execution_count": null,
   "metadata": {},
   "outputs": [],
   "source": []
  }
 ],
 "metadata": {
  "kernelspec": {
   "display_name": "Python 3",
   "language": "python",
   "name": "python3"
  },
  "language_info": {
   "codemirror_mode": {
    "name": "ipython",
    "version": 3
   },
   "file_extension": ".py",
   "mimetype": "text/x-python",
   "name": "python",
   "nbconvert_exporter": "python",
   "pygments_lexer": "ipython3",
   "version": "3.7.9"
  }
 },
 "nbformat": 4,
 "nbformat_minor": 4
}
