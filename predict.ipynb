{
 "cells": [
  {
   "cell_type": "code",
   "execution_count": 1,
   "metadata": {},
   "outputs": [],
   "source": [
    "import pandas as pd\n",
    "import tensorflow as tf\n",
    "import numpy as np\n",
    "from sklearn.model_selection import train_test_split\n",
    "\n",
    "import utils.read_data as rd\n",
    "import utils.preprocessing as pp\n",
    "import utils.io_model as im\n",
    "import os\n",
    "from os.path import join, dirname\n",
    "from dotenv import load_dotenv\n",
    "from pathlib import Path\n",
    "import tensorflow as tf"
   ]
  },
  {
   "cell_type": "code",
   "execution_count": 2,
   "metadata": {},
   "outputs": [],
   "source": [
    "load_dotenv(verbose=True)\n",
    "dotenv_path = join(Path().resolve(), '.env')\n",
    "load_dotenv(dotenv_path)\n",
    "GOOGLE_DRIVE_PATH = os.environ.get(\"GOOGLE_DRIVE_PATH\") + '/horse_racing'\n",
    "DATA_PATH = GOOGLE_DRIVE_PATH + '/csv/'"
   ]
  },
  {
   "cell_type": "markdown",
   "metadata": {},
   "source": [
    "# ジャパンカップ当日の別レースデータをこのノートブックで使えるようにディレクトリに配置\n",
    "import shutil\n",
    "\n",
    "target_file_names = [name for name in os.listdir(DATA_PATH+\"test_data\") if not \"japan\" in name and  not \"arima\" in name]\n",
    "race_files = sorted([name for name in target_file_names if \"race\" in name])\n",
    "horse_files = sorted([name for name in target_file_names if \"horse\" in name])\n",
    "race_names = [race_name.split(\"-\")[1] for race_name in race_files]\n",
    "race_names = [race_name.split(\".\")[0] for race_name in race_files]\n",
    "for race_name, race_file, horse_file in zip(race_names, race_files, horse_files):\n",
    "    target_data_path = DATA_PATH+\"test_data/target_\"+race_name\n",
    "    os.makedirs(target_data_path, exist_ok=True)\n",
    "    shutil.move(DATA_PATH+\"test_data/\"+race_file, target_data_path+\"/\")\n",
    "    shutil.move(DATA_PATH+\"test_data/\"+horse_file, target_data_path+\"/\")"
   ]
  },
  {
   "cell_type": "code",
   "execution_count": 3,
   "metadata": {},
   "outputs": [
    {
     "data": {
      "text/plain": [
       "['.ipynb_checkpoints',\n",
       " 'arima_horse.csv',\n",
       " 'arima_race.csv',\n",
       " 'japancup_horse.csv',\n",
       " 'japancup_race.csv',\n",
       " 'target_race-202005050901',\n",
       " 'target_race-202005050902',\n",
       " 'target_race-202005050903',\n",
       " 'target_race-202005050904',\n",
       " 'target_race-202005050905',\n",
       " 'target_race-202005050906',\n",
       " 'target_race-202005050907',\n",
       " 'target_race-202005050908',\n",
       " 'target_race-202005050909',\n",
       " 'target_race-202005050910',\n",
       " 'target_race-202005050911',\n",
       " 'target_race-202009050901',\n",
       " 'target_race-202009050902',\n",
       " 'target_race-202009050903',\n",
       " 'target_race-202009050904',\n",
       " 'target_race-202009050905',\n",
       " 'target_race-202009050906',\n",
       " 'target_race-202009050907',\n",
       " 'target_race-202009050908',\n",
       " 'target_race-202009050909',\n",
       " 'target_race-202009050910',\n",
       " 'target_race-202009050911',\n",
       " 'target_race-202009050912']"
      ]
     },
     "execution_count": 3,
     "metadata": {},
     "output_type": "execute_result"
    }
   ],
   "source": [
    "os.listdir(DATA_PATH+\"test_data\")"
   ]
  },
  {
   "cell_type": "code",
   "execution_count": 17,
   "metadata": {},
   "outputs": [],
   "source": [
    "TARGET_DATA_PATH = GOOGLE_DRIVE_PATH + '/csv/test_data/target_race-202005050902/'"
   ]
  },
  {
   "cell_type": "markdown",
   "metadata": {},
   "source": [
    "# 前処理"
   ]
  },
  {
   "cell_type": "code",
   "execution_count": 18,
   "metadata": {},
   "outputs": [],
   "source": [
    "df_target_horse = rd.read_target_horse_csv(TARGET_DATA_PATH)\n",
    "df_target_race  = rd.read_target_race_csv(TARGET_DATA_PATH)\n",
    "df_target = pd.merge(df_target_horse, df_target_race, on='race_id', how='left')"
   ]
  },
  {
   "cell_type": "code",
   "execution_count": 19,
   "metadata": {},
   "outputs": [
    {
     "name": "stderr",
     "output_type": "stream",
     "text": [
      "c:\\users\\endo_\\anaconda3\\envs\\py37\\lib\\site-packages\\IPython\\core\\interactiveshell.py:3338: DtypeWarning: Columns (0) have mixed types.Specify dtype option on import or set low_memory=False.\n",
      "  if (await self.run_code(code, result,  async_=asy)):\n",
      "c:\\users\\endo_\\anaconda3\\envs\\py37\\lib\\site-packages\\IPython\\core\\interactiveshell.py:3338: DtypeWarning: Columns (0,16) have mixed types.Specify dtype option on import or set low_memory=False.\n",
      "  if (await self.run_code(code, result,  async_=asy)):\n",
      "c:\\users\\endo_\\anaconda3\\envs\\py37\\lib\\site-packages\\IPython\\core\\interactiveshell.py:3338: DtypeWarning: Columns (16) have mixed types.Specify dtype option on import or set low_memory=False.\n",
      "  if (await self.run_code(code, result,  async_=asy)):\n"
     ]
    }
   ],
   "source": [
    "df_horse = rd.read_horse_csv(DATA_PATH)\n",
    "df_race = rd.read_race_csv(DATA_PATH)\n",
    "#df = pd.read_csv(DATA_PATH+\"/learning/horse_race.csv\")\n",
    "df = pd.merge(df_horse, df_race, on='race_id', how='left')"
   ]
  },
  {
   "cell_type": "code",
   "execution_count": 20,
   "metadata": {},
   "outputs": [],
   "source": [
    "df = pp.join_n_race_for_prediction(df_target, df, 3)"
   ]
  },
  {
   "cell_type": "code",
   "execution_count": 21,
   "metadata": {},
   "outputs": [
    {
     "data": {
      "text/html": [
       "<div>\n",
       "<style scoped>\n",
       "    .dataframe tbody tr th:only-of-type {\n",
       "        vertical-align: middle;\n",
       "    }\n",
       "\n",
       "    .dataframe tbody tr th {\n",
       "        vertical-align: top;\n",
       "    }\n",
       "\n",
       "    .dataframe thead th {\n",
       "        text-align: right;\n",
       "    }\n",
       "</style>\n",
       "<table border=\"1\" class=\"dataframe\">\n",
       "  <thead>\n",
       "    <tr style=\"text-align: right;\">\n",
       "      <th></th>\n",
       "      <th>race_id</th>\n",
       "      <th>rank</th>\n",
       "      <th>frame_number</th>\n",
       "      <th>horse_number</th>\n",
       "      <th>horse_id</th>\n",
       "      <th>sex_and_age</th>\n",
       "      <th>burden_weight</th>\n",
       "      <th>rider_id</th>\n",
       "      <th>goal_time</th>\n",
       "      <th>goal_time_dif</th>\n",
       "      <th>...</th>\n",
       "      <th>hukusyo_second-3</th>\n",
       "      <th>hukusyo_third-3</th>\n",
       "      <th>wakuren-3</th>\n",
       "      <th>umaren-3</th>\n",
       "      <th>wide_1_2-3</th>\n",
       "      <th>wide_1_3-3</th>\n",
       "      <th>wide_2_3-3</th>\n",
       "      <th>umatan-3</th>\n",
       "      <th>renhuku3-3</th>\n",
       "      <th>rentan3-3</th>\n",
       "    </tr>\n",
       "  </thead>\n",
       "  <tbody>\n",
       "    <tr>\n",
       "      <th>0</th>\n",
       "      <td>2.020051e+11</td>\n",
       "      <td>1</td>\n",
       "      <td>3</td>\n",
       "      <td>6</td>\n",
       "      <td>2018105194</td>\n",
       "      <td>牡2</td>\n",
       "      <td>55</td>\n",
       "      <td>5339</td>\n",
       "      <td>1:35.3</td>\n",
       "      <td>NaN</td>\n",
       "      <td>...</td>\n",
       "      <td>NaN</td>\n",
       "      <td>NaN</td>\n",
       "      <td>NaN</td>\n",
       "      <td>NaN</td>\n",
       "      <td>NaN</td>\n",
       "      <td>NaN</td>\n",
       "      <td>NaN</td>\n",
       "      <td>NaN</td>\n",
       "      <td>NaN</td>\n",
       "      <td>NaN</td>\n",
       "    </tr>\n",
       "    <tr>\n",
       "      <th>1</th>\n",
       "      <td>2.020051e+11</td>\n",
       "      <td>2</td>\n",
       "      <td>8</td>\n",
       "      <td>16</td>\n",
       "      <td>2018101300</td>\n",
       "      <td>牡2</td>\n",
       "      <td>55</td>\n",
       "      <td>1174</td>\n",
       "      <td>1:35.4</td>\n",
       "      <td>3/4</td>\n",
       "      <td>...</td>\n",
       "      <td>160</td>\n",
       "      <td>150</td>\n",
       "      <td>10,260</td>\n",
       "      <td>9,980</td>\n",
       "      <td>1,900</td>\n",
       "      <td>2,020</td>\n",
       "      <td>350</td>\n",
       "      <td>28,680</td>\n",
       "      <td>9,300</td>\n",
       "      <td>121,720</td>\n",
       "    </tr>\n",
       "    <tr>\n",
       "      <th>2</th>\n",
       "      <td>2.020051e+11</td>\n",
       "      <td>3</td>\n",
       "      <td>8</td>\n",
       "      <td>18</td>\n",
       "      <td>2018102169</td>\n",
       "      <td>牡2</td>\n",
       "      <td>52</td>\n",
       "      <td>1184</td>\n",
       "      <td>1:35.6</td>\n",
       "      <td>1.1/4</td>\n",
       "      <td>...</td>\n",
       "      <td>130</td>\n",
       "      <td>980</td>\n",
       "      <td>610</td>\n",
       "      <td>840</td>\n",
       "      <td>420</td>\n",
       "      <td>5,450</td>\n",
       "      <td>2,070</td>\n",
       "      <td>1,820</td>\n",
       "      <td>13,100</td>\n",
       "      <td>52,610</td>\n",
       "    </tr>\n",
       "    <tr>\n",
       "      <th>3</th>\n",
       "      <td>2.020051e+11</td>\n",
       "      <td>4</td>\n",
       "      <td>2</td>\n",
       "      <td>4</td>\n",
       "      <td>2018103602</td>\n",
       "      <td>牡2</td>\n",
       "      <td>55</td>\n",
       "      <td>1169</td>\n",
       "      <td>1:35.8</td>\n",
       "      <td>1.1/2</td>\n",
       "      <td>...</td>\n",
       "      <td>130</td>\n",
       "      <td>980</td>\n",
       "      <td>610</td>\n",
       "      <td>840</td>\n",
       "      <td>420</td>\n",
       "      <td>5,450</td>\n",
       "      <td>2,070</td>\n",
       "      <td>1,820</td>\n",
       "      <td>13,100</td>\n",
       "      <td>52,610</td>\n",
       "    </tr>\n",
       "    <tr>\n",
       "      <th>4</th>\n",
       "      <td>2.020051e+11</td>\n",
       "      <td>5</td>\n",
       "      <td>6</td>\n",
       "      <td>11</td>\n",
       "      <td>2018103916</td>\n",
       "      <td>牡2</td>\n",
       "      <td>55</td>\n",
       "      <td>5386</td>\n",
       "      <td>1:35.9</td>\n",
       "      <td>クビ</td>\n",
       "      <td>...</td>\n",
       "      <td>NaN</td>\n",
       "      <td>NaN</td>\n",
       "      <td>NaN</td>\n",
       "      <td>NaN</td>\n",
       "      <td>NaN</td>\n",
       "      <td>NaN</td>\n",
       "      <td>NaN</td>\n",
       "      <td>NaN</td>\n",
       "      <td>NaN</td>\n",
       "      <td>NaN</td>\n",
       "    </tr>\n",
       "  </tbody>\n",
       "</table>\n",
       "<p>5 rows × 192 columns</p>\n",
       "</div>"
      ],
      "text/plain": [
       "        race_id  rank  frame_number  horse_number    horse_id sex_and_age  \\\n",
       "0  2.020051e+11     1             3             6  2018105194          牡2   \n",
       "1  2.020051e+11     2             8            16  2018101300          牡2   \n",
       "2  2.020051e+11     3             8            18  2018102169          牡2   \n",
       "3  2.020051e+11     4             2             4  2018103602          牡2   \n",
       "4  2.020051e+11     5             6            11  2018103916          牡2   \n",
       "\n",
       "   burden_weight  rider_id goal_time goal_time_dif  ... hukusyo_second-3  \\\n",
       "0             55      5339    1:35.3           NaN  ...              NaN   \n",
       "1             55      1174    1:35.4           3/4  ...              160   \n",
       "2             52      1184    1:35.6         1.1/4  ...              130   \n",
       "3             55      1169    1:35.8         1.1/2  ...              130   \n",
       "4             55      5386    1:35.9            クビ  ...              NaN   \n",
       "\n",
       "   hukusyo_third-3  wakuren-3  umaren-3 wide_1_2-3  wide_1_3-3  wide_2_3-3  \\\n",
       "0              NaN        NaN       NaN        NaN         NaN         NaN   \n",
       "1              150     10,260     9,980      1,900       2,020         350   \n",
       "2              980        610       840        420       5,450       2,070   \n",
       "3              980        610       840        420       5,450       2,070   \n",
       "4              NaN        NaN       NaN        NaN         NaN         NaN   \n",
       "\n",
       "   umatan-3  renhuku3-3 rentan3-3  \n",
       "0       NaN         NaN       NaN  \n",
       "1    28,680       9,300   121,720  \n",
       "2     1,820      13,100    52,610  \n",
       "3     1,820      13,100    52,610  \n",
       "4       NaN         NaN       NaN  \n",
       "\n",
       "[5 rows x 192 columns]"
      ]
     },
     "execution_count": 21,
     "metadata": {},
     "output_type": "execute_result"
    }
   ],
   "source": [
    "df.head()"
   ]
  },
  {
   "cell_type": "markdown",
   "metadata": {},
   "source": [
    "## 前処理"
   ]
  },
  {
   "cell_type": "code",
   "execution_count": 22,
   "metadata": {},
   "outputs": [],
   "source": [
    "columns = [\"race_course\", \"weather\", \"ground_status\", \n",
    "           \"where_racecourse\", \"race_class\", \"running_condition\", \n",
    "           \"frame_number\", \"horse_number\",\n",
    "           \"sex_and_age\", \"burden_weight\", \"rider_id\", \n",
    "           \"tamer_id\", \"horse_weight\",\n",
    "           \"total_horse_number_x\", \n",
    "           \"rank-1\", \"rank-2\", \"rank-3\",\n",
    "           \"total_horse_number_x-1\", \"total_horse_number_x-2\",\"total_horse_number_x-3\",\n",
    "           \"goal_time-1\", \"goal_time-2\", \"goal_time-3\",\n",
    "           \"last_time-1\", \"last_time-2\", \"last_time-3\", \n",
    "           \"half_way_rank-1\", \"half_way_rank-2\", \"half_way_rank-3\", \n",
    "           \"prize-1\", \"prize-2\", \"prize-3\"]\n",
    "\n",
    "df = df[columns]"
   ]
  },
  {
   "cell_type": "code",
   "execution_count": 23,
   "metadata": {},
   "outputs": [],
   "source": [
    "df[\"where_racecourse\"] = df[\"where_racecourse\"].map(pp.extract_place)\n",
    "\n",
    "df[\"sex\"] = df[\"sex_and_age\"].map(lambda sex_and_age: sex_and_age[0])\n",
    "df[\"age\"] = df[\"sex_and_age\"].map(lambda sex_and_age: sex_and_age[1:])\n",
    "\n",
    "df[\"goal_time-1\"] = df[\"goal_time-1\"].map(pp.to_seconds)\n",
    "df[\"goal_time-2\"] = df[\"goal_time-2\"].map(pp.to_seconds)\n",
    "df[\"goal_time-3\"] = df[\"goal_time-3\"].map(pp.to_seconds)\n",
    "\n",
    "df[\"horse_weight\"] = df[\"horse_weight\"].map(pp.extract_weight).astype(np.int64)\n",
    "\n",
    "df[\"prize-1\"] = df[\"prize-1\"].map(lambda prize: prize.replace(\",\", \"\") if type(prize) == str else prize).astype(np.float64)\n",
    "df[\"prize-2\"] = df[\"prize-2\"].map(lambda prize: prize.replace(\",\", \"\") if type(prize) == str else prize).astype(np.float64)\n",
    "df[\"prize-3\"] = df[\"prize-3\"].map(lambda prize: prize.replace(\",\", \"\") if type(prize) == str else prize).astype(np.float64)\n",
    "\n",
    "df[\"kyakusitu-1\"] = [pp.kyakusitu_code_c(n, r) for n, r in zip(df[\"total_horse_number_x-1\"].values, df[\"half_way_rank-1\"])]\n",
    "df[\"kyakusitu-2\"] = [pp.kyakusitu_code_c(n, r) for n, r in zip(df[\"total_horse_number_x-2\"].values, df[\"half_way_rank-2\"])]\n",
    "df[\"kyakusitu-3\"] = [pp.kyakusitu_code_c(n, r) for n, r in zip(df[\"total_horse_number_x-3\"].values, df[\"half_way_rank-3\"])]\n",
    "\n",
    "# 欠損値処理\n",
    "df = df.replace('---', -1)\n",
    "df = df.fillna(-1)"
   ]
  },
  {
   "cell_type": "code",
   "execution_count": 24,
   "metadata": {},
   "outputs": [],
   "source": [
    "df[\"rank-1\"] = pp.make_label(df[\"rank-1\"].values, df[\"total_horse_number_x-1\"].values)\n",
    "df[\"rank-2\"] = pp.make_label(df[\"rank-2\"].values, df[\"total_horse_number_x-2\"].values)\n",
    "df[\"rank-3\"] = pp.make_label(df[\"rank-3\"].values, df[\"total_horse_number_x-3\"].values)"
   ]
  },
  {
   "cell_type": "code",
   "execution_count": 25,
   "metadata": {},
   "outputs": [],
   "source": [
    "def fill_missing_columns(df_a, df_b):\n",
    "    columns_for_b = set(df_a.columns) - set(df_b.columns)\n",
    "    for column in columns_for_b:\n",
    "        df_b[column] = 0\n",
    "\n",
    "    columns_for_a = set(df_b.columns) - set(df_a.columns)\n",
    "    for column in columns_for_a:\n",
    "        df_a[column] = 0"
   ]
  },
  {
   "cell_type": "code",
   "execution_count": 26,
   "metadata": {},
   "outputs": [
    {
     "name": "stderr",
     "output_type": "stream",
     "text": [
      "c:\\users\\endo_\\anaconda3\\envs\\py37\\lib\\site-packages\\IPython\\core\\interactiveshell.py:3147: DtypeWarning: Columns (13,17,50,61,65,98,109,113,146,157,161,162,194,205,209,210,230,242,253,257,258,278,290,301,305,306,326,338,342,345,346,347,349,351,353,354,356,357,358,359,360,361,362,363,364,365,373,374,375,376,377,378,379,380,381,382,383,384,386,390,393,394,395,397,399,401,402,404,405,406,407,408,409,410,411,412,413,421,422,423,424,425,426,427,428,429,430,431,432,434,438,441,442,443,445,447,449,450,452,453,454,455,456,457,458,459,460,461,469,470,471,472,473,474,475,476,477,478,479,480,482,486,489,490,491,493,495,498,500,501,502,503,504,505,506,507,508,509,517,518,519,520,521,522,523,524,525,526,527,528,530,534,537,538,539,541,543,546,548,549,550,551,552,553,554,555,556,557,565,566,567,568,569,570,571,572,573,574,575,576,578,582,585,586,587,589,591,594,596,597,598,599,600,601,602,603,604,605,613,614,615,616,617,618,619,620,621,622,623,624,626,630,633,634,635,637,639,642,644,645,646,647,648,649,650,651,652,653,661,662,663,664,665,666,667,668,669,670,671,672,674,678,681,682,683,685,687,690,692,693,694,695,696,697,698,699,700,701,709,710,711,712,713,714,715,716,717,718,719,720,722,726,729,730,731,733,735,738,740,741,742,743,744,745,746,747,748,749,757,758,759,760,761,762,763,764,765,766,767,768) have mixed types.Specify dtype option on import or set low_memory=False.\n",
      "  interactivity=interactivity, compiler=compiler, result=result)\n"
     ]
    }
   ],
   "source": [
    "# targetデータを予測に用いる為に、targetデータに存在していない学習時に用いたカテゴリデータを追加\n",
    "df_used_learning = pd.read_csv(DATA_PATH+\"/learning/horse_race.csv\")\n",
    "\n",
    "columns = [\"race_course\", \"weather\", \"ground_status\", \n",
    "           \"where_racecourse\", \"race_class\", \"running_condition\", \n",
    "           \"frame_number\", \"horse_number\",\n",
    "           \"sex_and_age\", \"burden_weight\", \"rider_id\", \n",
    "           \"tamer_id\", \"horse_weight\",\n",
    "           \"total_horse_number_x\", \n",
    "           \"rank-1\", \"rank-2\", \"rank-3\",\n",
    "           \"total_horse_number_x-1\", \"total_horse_number_x-2\",\"total_horse_number_x-3\",\n",
    "           \"goal_time-1\", \"goal_time-2\", \"goal_time-3\",\n",
    "           \"last_time-1\", \"last_time-2\", \"last_time-3\", \n",
    "           \"half_way_rank-1\", \"half_way_rank-2\", \"half_way_rank-3\", \n",
    "           \"prize-1\", \"prize-2\", \"prize-3\"]\n",
    "\n",
    "df_used_learning = df_used_learning[columns]\n",
    "\n",
    "df_used_learning[\"where_racecourse\"] = df_used_learning[\"where_racecourse\"].map(pp.extract_place)\n",
    "\n",
    "df_used_learning[\"sex\"] = df_used_learning[\"sex_and_age\"].map(lambda sex_and_age: sex_and_age[0])\n",
    "df_used_learning[\"age\"] = df_used_learning[\"sex_and_age\"].map(lambda sex_and_age: sex_and_age[1:])\n",
    "\n",
    "df_used_learning[\"goal_time-1\"] = df_used_learning[\"goal_time-1\"].map(pp.to_seconds)\n",
    "df_used_learning[\"goal_time-2\"] = df_used_learning[\"goal_time-2\"].map(pp.to_seconds)\n",
    "df_used_learning[\"goal_time-3\"] = df_used_learning[\"goal_time-3\"].map(pp.to_seconds)\n",
    "\n",
    "df_used_learning[\"horse_weight\"] = df_used_learning[\"horse_weight\"].map(pp.extract_weight).astype(np.int64)\n",
    "\n",
    "df_used_learning[\"prize-1\"] = df_used_learning[\"prize-1\"].map(lambda prize: prize.replace(\",\", \"\") if type(prize) == str else prize).astype(np.float64)\n",
    "df_used_learning[\"prize-2\"] = df_used_learning[\"prize-2\"].map(lambda prize: prize.replace(\",\", \"\") if type(prize) == str else prize).astype(np.float64)\n",
    "df_used_learning[\"prize-3\"] = df_used_learning[\"prize-3\"].map(lambda prize: prize.replace(\",\", \"\") if type(prize) == str else prize).astype(np.float64)\n",
    "\n",
    "df_used_learning[\"kyakusitu-1\"] = [pp.kyakusitu_code_c(n, r) for n, r in zip(df_used_learning[\"total_horse_number_x-1\"].values, df_used_learning[\"half_way_rank-1\"])]\n",
    "df_used_learning[\"kyakusitu-2\"] = [pp.kyakusitu_code_c(n, r) for n, r in zip(df_used_learning[\"total_horse_number_x-2\"].values, df_used_learning[\"half_way_rank-2\"])]\n",
    "df_used_learning[\"kyakusitu-3\"] = [pp.kyakusitu_code_c(n, r) for n, r in zip(df_used_learning[\"total_horse_number_x-3\"].values, df_used_learning[\"half_way_rank-3\"])]\n",
    "\n",
    "# 欠損値処理\n",
    "df_used_learning = df_used_learning.replace('---', -1)\n",
    "df_used_learning = df_used_learning.fillna(-1)\n",
    "\n",
    "df_used_learning[\"rank-1\"] = pp.make_label(df_used_learning[\"rank-1\"].values, df_used_learning[\"total_horse_number_x-1\"].values)\n",
    "df_used_learning[\"rank-2\"] = pp.make_label(df_used_learning[\"rank-2\"].values, df_used_learning[\"total_horse_number_x-2\"].values)\n",
    "df_used_learning[\"rank-3\"] = pp.make_label(df_used_learning[\"rank-3\"].values, df_used_learning[\"total_horse_number_x-3\"].values)\n",
    "\n",
    "input_columns = [\"race_course\", \"weather\", \"ground_status\", \n",
    "                 \"where_racecourse\", \"race_class\", \"running_condition\", \n",
    "                 \"frame_number\", \"horse_number\",\n",
    "                 \"sex\", \"age\", \"burden_weight\", \"rider_id\", \n",
    "                 \"tamer_id\", \"horse_weight\",\n",
    "                 \"rank-1\", \"rank-2\", \"rank-3\", \n",
    "                 \"goal_time-1\", \"goal_time-2\", \"goal_time-3\",\n",
    "                 \"last_time-1\", \"last_time-2\", \"last_time-3\", \n",
    "                 \"kyakusitu-1\", \"kyakusitu-2\", \"kyakusitu-3\", \n",
    "                 \"prize-1\", \"prize-2\", \"prize-3\"]\n",
    "\n",
    "df_used_learning = pp.one_hot_encoding(df_used_learning[input_columns])\n",
    "df = pp.one_hot_encoding(df[input_columns])\n",
    "\n",
    "fill_missing_columns(df, df_used_learning)"
   ]
  },
  {
   "cell_type": "markdown",
   "metadata": {},
   "source": [
    "# 予測"
   ]
  },
  {
   "cell_type": "code",
   "execution_count": 27,
   "metadata": {},
   "outputs": [
    {
     "name": "stdout",
     "output_type": "stream",
     "text": [
      "second_model is read.\n"
     ]
    }
   ],
   "source": [
    "model = im.read_model(\"second_model\")"
   ]
  },
  {
   "cell_type": "code",
   "execution_count": 28,
   "metadata": {},
   "outputs": [],
   "source": [
    "x = np.array(df)"
   ]
  },
  {
   "cell_type": "code",
   "execution_count": 29,
   "metadata": {
    "scrolled": true
   },
   "outputs": [
    {
     "name": "stdout",
     "output_type": "stream",
     "text": [
      "class: 0, (0.435567, 0.306995, 0.257438), 1 (2018105194)\n",
      "class: 1, (0.218176, 0.396870, 0.384954), 2 (2018101300)\n",
      "class: 0, (0.417307, 0.354684, 0.228009), 3 (2018102169)\n",
      "class: 0, (0.645706, 0.261605, 0.092689), 4 (2018103602)\n",
      "class: 0, (0.435567, 0.306995, 0.257438), 5 (2018103916)\n",
      "class: 0, (0.385857, 0.367938, 0.246205), 6 (2018101539)\n",
      "class: 2, (0.239870, 0.366521, 0.393608), 7 (2018103506)\n",
      "class: 0, (0.413856, 0.369889, 0.216255), 8 (2018100910)\n",
      "class: 2, (0.300745, 0.324227, 0.375028), 9 (2018103543)\n",
      "class: 0, (0.572730, 0.294044, 0.133226), 10 (2018105817)\n",
      "class: 0, (0.468444, 0.347643, 0.183912), 11 (2018102186)\n",
      "class: 2, (0.291840, 0.341069, 0.367091), 12 (2018102982)\n",
      "class: 0, (0.397020, 0.359562, 0.243417), 13 (2018110035)\n",
      "class: 2, (0.209530, 0.311287, 0.479183), 14 (2018104451)\n",
      "class: 2, (0.228788, 0.361689, 0.409523), 15 (2018102664)\n",
      "class: 2, (0.168727, 0.407131, 0.424142), 16 (2018102675)\n",
      "class: 2, (0.297681, 0.349300, 0.353019), 17 (2018103557)\n",
      "class: 2, (0.220202, 0.367536, 0.412262), 18 (2018106782)\n"
     ]
    }
   ],
   "source": [
    "test = []\n",
    "for x_input, umaban, horse_id in zip(x, list(range(len(df_target[\"horse_id\"]))), list(df_target[\"horse_id\"])):\n",
    "    pred = model.predict(x_input.reshape(1, -1))\n",
    "    if umaban == 1 or umaban == 2 or umaban == 4 or umaban == 5:\n",
    "        test.append(x_input)\n",
    "    prediction_class = np.argmax([pred[0][0], pred[0][1], pred[0][2]])\n",
    "    print(\"class: %d, (%f, %f, %f), %d (%d)\" % (prediction_class, pred[0][0], pred[0][1], pred[0][2], umaban + 1, horse_id))"
   ]
  },
  {
   "cell_type": "code",
   "execution_count": null,
   "metadata": {},
   "outputs": [],
   "source": []
  }
 ],
 "metadata": {
  "kernelspec": {
   "display_name": "Python 3",
   "language": "python",
   "name": "python3"
  },
  "language_info": {
   "codemirror_mode": {
    "name": "ipython",
    "version": 3
   },
   "file_extension": ".py",
   "mimetype": "text/x-python",
   "name": "python",
   "nbconvert_exporter": "python",
   "pygments_lexer": "ipython3",
   "version": "3.7.9"
  }
 },
 "nbformat": 4,
 "nbformat_minor": 4
}
