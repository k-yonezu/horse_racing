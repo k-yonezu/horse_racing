{
 "cells": [
  {
   "cell_type": "code",
   "execution_count": 7,
   "metadata": {},
   "outputs": [],
   "source": [
    "import pandas as pd\n",
    "import tensorflow as tf\n",
    "import numpy as np\n",
    "from sklearn.model_selection import train_test_split\n",
    "\n",
    "import utils.read_data as rd\n",
    "import utils.preprocessing as pp\n",
    "import utils.io_model as im\n",
    "import utils.join_race_data as join_race_data\n",
    "import os\n",
    "from os.path import join, dirname\n",
    "from dotenv import load_dotenv\n",
    "from pathlib import Path\n",
    "import tensorflow as tf"
   ]
  },
  {
   "cell_type": "code",
   "execution_count": 2,
   "metadata": {},
   "outputs": [
    {
     "data": {
      "text/plain": [
       "True"
      ]
     },
     "execution_count": 2,
     "metadata": {},
     "output_type": "execute_result"
    }
   ],
   "source": [
    "load_dotenv(verbose=True)\n",
    "dotenv_path = join(Path().resolve(), '.env')\n",
    "load_dotenv(dotenv_path)"
   ]
  },
  {
   "cell_type": "code",
   "execution_count": 3,
   "metadata": {},
   "outputs": [],
   "source": [
    "GOOGLE_DRIVE_PATH = os.environ.get(\"GOOGLE_DRIVE_PATH\") + '/horse_racing'\n",
    "TARGET_DATA_PATH = GOOGLE_DRIVE_PATH + '/csv/test_data'\n",
    "TRAIN_DATA_PATH = GOOGLE_DRIVE_PATH + '/csv/train_data'"
   ]
  },
  {
   "cell_type": "markdown",
   "metadata": {},
   "source": [
    "# 前処理"
   ]
  },
  {
   "cell_type": "code",
   "execution_count": 4,
   "metadata": {},
   "outputs": [],
   "source": [
    "df_target_horse = rd.read_target_horse_csv(TARGET_DATA_PATH)\n",
    "df_target_race  = rd.read_target_race_csv(TARGET_DATA_PATH)\n",
    "df_target = pd.merge(df_target_horse, df_target_race, on='race_id', how='left')"
   ]
  },
  {
   "cell_type": "code",
   "execution_count": 21,
   "metadata": {},
   "outputs": [
    {
     "name": "stdout",
     "output_type": "stream",
     "text": [
      "horse_race_20201128.csv\n"
     ]
    },
    {
     "name": "stderr",
     "output_type": "stream",
     "text": [
      "c:\\users\\endo_\\anaconda3\\envs\\py37\\lib\\site-packages\\IPython\\core\\interactiveshell.py:3338: DtypeWarning: Columns (17,65,113,157,161,205,209,253,257) have mixed types.Specify dtype option on import or set low_memory=False.\n",
      "  if (await self.run_code(code, result,  async_=asy)):\n"
     ]
    }
   ],
   "source": [
    "# ターゲットデータに過去3レース分の情報を追加\n",
    "df_past_data = rd.read_horse_race_csv(TRAIN_DATA_PATH)\n",
    "columns_past_data = [c for c in df_past_data.columns if \"-\" not in c]\n",
    "df_for_prediction = join_race_data.join_n_race_for_test_data(df_past_data[columns_past_data], df_target, 3)"
   ]
  },
  {
   "cell_type": "code",
   "execution_count": 22,
   "metadata": {},
   "outputs": [
    {
     "data": {
      "text/html": [
       "<div>\n",
       "<style scoped>\n",
       "    .dataframe tbody tr th:only-of-type {\n",
       "        vertical-align: middle;\n",
       "    }\n",
       "\n",
       "    .dataframe tbody tr th {\n",
       "        vertical-align: top;\n",
       "    }\n",
       "\n",
       "    .dataframe thead th {\n",
       "        text-align: right;\n",
       "    }\n",
       "</style>\n",
       "<table border=\"1\" class=\"dataframe\">\n",
       "  <thead>\n",
       "    <tr style=\"text-align: right;\">\n",
       "      <th></th>\n",
       "      <th>race_id</th>\n",
       "      <th>rank</th>\n",
       "      <th>frame_number</th>\n",
       "      <th>horse_number</th>\n",
       "      <th>horse_id</th>\n",
       "      <th>sex_and_age</th>\n",
       "      <th>burden_weight</th>\n",
       "      <th>rider_id</th>\n",
       "      <th>goal_time</th>\n",
       "      <th>goal_time_dif</th>\n",
       "      <th>...</th>\n",
       "      <th>hukusyo_second-3</th>\n",
       "      <th>hukusyo_third-3</th>\n",
       "      <th>wakuren-3</th>\n",
       "      <th>umaren-3</th>\n",
       "      <th>wide_1_2-3</th>\n",
       "      <th>wide_1_3-3</th>\n",
       "      <th>wide_2_3-3</th>\n",
       "      <th>umatan-3</th>\n",
       "      <th>renhuku3-3</th>\n",
       "      <th>rentan3-3</th>\n",
       "    </tr>\n",
       "  </thead>\n",
       "  <tbody>\n",
       "    <tr>\n",
       "      <th>0</th>\n",
       "      <td>2.020061e+11</td>\n",
       "      <td>1</td>\n",
       "      <td>5</td>\n",
       "      <td>9</td>\n",
       "      <td>2016104750</td>\n",
       "      <td>牝4</td>\n",
       "      <td>55.0</td>\n",
       "      <td>1102</td>\n",
       "      <td>2:35.0</td>\n",
       "      <td>NaN</td>\n",
       "      <td>...</td>\n",
       "      <td>110</td>\n",
       "      <td>130</td>\n",
       "      <td>340</td>\n",
       "      <td>400</td>\n",
       "      <td>180</td>\n",
       "      <td>230</td>\n",
       "      <td>210</td>\n",
       "      <td>780</td>\n",
       "      <td>400</td>\n",
       "      <td>1,770</td>\n",
       "    </tr>\n",
       "    <tr>\n",
       "      <th>1</th>\n",
       "      <td>2.020061e+11</td>\n",
       "      <td>2</td>\n",
       "      <td>7</td>\n",
       "      <td>14</td>\n",
       "      <td>2015104793</td>\n",
       "      <td>牝5</td>\n",
       "      <td>55.0</td>\n",
       "      <td>1126</td>\n",
       "      <td>2:35.0</td>\n",
       "      <td>クビ</td>\n",
       "      <td>...</td>\n",
       "      <td>280</td>\n",
       "      <td>200</td>\n",
       "      <td>1,260</td>\n",
       "      <td>2,290</td>\n",
       "      <td>930</td>\n",
       "      <td>490</td>\n",
       "      <td>1,460</td>\n",
       "      <td>3,610</td>\n",
       "      <td>4,260</td>\n",
       "      <td>21,050</td>\n",
       "    </tr>\n",
       "    <tr>\n",
       "      <th>2</th>\n",
       "      <td>2.020061e+11</td>\n",
       "      <td>3</td>\n",
       "      <td>7</td>\n",
       "      <td>13</td>\n",
       "      <td>2015105075</td>\n",
       "      <td>牡5</td>\n",
       "      <td>57.0</td>\n",
       "      <td>5339</td>\n",
       "      <td>2:35.1</td>\n",
       "      <td>クビ</td>\n",
       "      <td>...</td>\n",
       "      <td>320</td>\n",
       "      <td>630</td>\n",
       "      <td>1,480</td>\n",
       "      <td>1,780</td>\n",
       "      <td>710</td>\n",
       "      <td>1,660</td>\n",
       "      <td>4,260</td>\n",
       "      <td>2,470</td>\n",
       "      <td>16,410</td>\n",
       "      <td>49,110</td>\n",
       "    </tr>\n",
       "    <tr>\n",
       "      <th>3</th>\n",
       "      <td>2.020061e+11</td>\n",
       "      <td>4</td>\n",
       "      <td>4</td>\n",
       "      <td>7</td>\n",
       "      <td>2015105046</td>\n",
       "      <td>牝5</td>\n",
       "      <td>55.0</td>\n",
       "      <td>1014</td>\n",
       "      <td>2:35.5</td>\n",
       "      <td>2.1/2</td>\n",
       "      <td>...</td>\n",
       "      <td>160</td>\n",
       "      <td>140</td>\n",
       "      <td>1,130</td>\n",
       "      <td>1,110</td>\n",
       "      <td>370</td>\n",
       "      <td>340</td>\n",
       "      <td>390</td>\n",
       "      <td>1,970</td>\n",
       "      <td>1,350</td>\n",
       "      <td>7,810</td>\n",
       "    </tr>\n",
       "    <tr>\n",
       "      <th>4</th>\n",
       "      <td>2.020061e+11</td>\n",
       "      <td>5</td>\n",
       "      <td>3</td>\n",
       "      <td>5</td>\n",
       "      <td>2016104854</td>\n",
       "      <td>牡4</td>\n",
       "      <td>57.0</td>\n",
       "      <td>666</td>\n",
       "      <td>2:35.6</td>\n",
       "      <td>1/2</td>\n",
       "      <td>...</td>\n",
       "      <td>390</td>\n",
       "      <td>120</td>\n",
       "      <td>610</td>\n",
       "      <td>4,680</td>\n",
       "      <td>1,460</td>\n",
       "      <td>320</td>\n",
       "      <td>720</td>\n",
       "      <td>7,640</td>\n",
       "      <td>3,070</td>\n",
       "      <td>23,510</td>\n",
       "    </tr>\n",
       "  </tbody>\n",
       "</table>\n",
       "<p>5 rows × 192 columns</p>\n",
       "</div>"
      ],
      "text/plain": [
       "        race_id rank  frame_number  horse_number    horse_id sex_and_age  \\\n",
       "0  2.020061e+11    1             5             9  2016104750          牝4   \n",
       "1  2.020061e+11    2             7            14  2015104793          牝5   \n",
       "2  2.020061e+11    3             7            13  2015105075          牡5   \n",
       "3  2.020061e+11    4             4             7  2015105046          牝5   \n",
       "4  2.020061e+11    5             3             5  2016104854          牡4   \n",
       "\n",
       "   burden_weight  rider_id goal_time goal_time_dif  ... hukusyo_second-3  \\\n",
       "0           55.0      1102    2:35.0           NaN  ...              110   \n",
       "1           55.0      1126    2:35.0            クビ  ...              280   \n",
       "2           57.0      5339    2:35.1            クビ  ...              320   \n",
       "3           55.0      1014    2:35.5         2.1/2  ...              160   \n",
       "4           57.0       666    2:35.6           1/2  ...              390   \n",
       "\n",
       "   hukusyo_third-3  wakuren-3  umaren-3 wide_1_2-3  wide_1_3-3  wide_2_3-3  \\\n",
       "0              130        340       400        180         230         210   \n",
       "1              200      1,260     2,290        930         490       1,460   \n",
       "2              630      1,480     1,780        710       1,660       4,260   \n",
       "3              140      1,130     1,110        370         340         390   \n",
       "4              120        610     4,680      1,460         320         720   \n",
       "\n",
       "  umatan-3  renhuku3-3 rentan3-3  \n",
       "0      780         400     1,770  \n",
       "1    3,610       4,260    21,050  \n",
       "2    2,470      16,410    49,110  \n",
       "3    1,970       1,350     7,810  \n",
       "4    7,640       3,070    23,510  \n",
       "\n",
       "[5 rows x 192 columns]"
      ]
     },
     "execution_count": 22,
     "metadata": {},
     "output_type": "execute_result"
    }
   ],
   "source": [
    "df_for_prediction.head()"
   ]
  },
  {
   "cell_type": "markdown",
   "metadata": {},
   "source": [
    "## 前処理"
   ]
  },
  {
   "cell_type": "code",
   "execution_count": null,
   "metadata": {},
   "outputs": [],
   "source": [
    "columns = [\"race_course\", \"weather\", \"ground_status\", \n",
    "           \"where_racecourse\", \"race_class\", \"running_condition\", \n",
    "           \"frame_number\", \"horse_number\",\n",
    "           \"sex_and_age\", \"burden_weight\", \"rider_id\", \n",
    "           \"tamer_id\", \"horse_weight\",\n",
    "           \"total_horse_number_x\", \n",
    "           \"rank-1\", \"rank-2\", \"rank-3\",\n",
    "           \"total_horse_number_x-1\", \"total_horse_number_x-2\",\"total_horse_number_x-3\",\n",
    "           \"goal_time-1\", \"goal_time-2\", \"goal_time-3\",\n",
    "           \"last_time-1\", \"last_time-2\", \"last_time-3\", \n",
    "           \"half_way_rank-1\", \"half_way_rank-2\", \"half_way_rank-3\", \n",
    "           \"prize-1\", \"prize-2\", \"prize-3\"]\n",
    "\n",
    "df = df[columns]"
   ]
  },
  {
   "cell_type": "code",
   "execution_count": null,
   "metadata": {},
   "outputs": [],
   "source": [
    "df[\"where_racecourse\"] = df[\"where_racecourse\"].map(pp.extract_place)\n",
    "\n",
    "df[\"sex\"] = df[\"sex_and_age\"].map(lambda sex_and_age: sex_and_age[0])\n",
    "df[\"age\"] = df[\"sex_and_age\"].map(lambda sex_and_age: sex_and_age[1:])\n",
    "\n",
    "df[\"goal_time-1\"] = df[\"goal_time-1\"].map(pp.to_seconds)\n",
    "df[\"goal_time-2\"] = df[\"goal_time-2\"].map(pp.to_seconds)\n",
    "df[\"goal_time-3\"] = df[\"goal_time-3\"].map(pp.to_seconds)\n",
    "\n",
    "df[\"horse_weight\"] = df[\"horse_weight\"].map(pp.extract_weight).astype(np.int64)\n",
    "\n",
    "df[\"prize-1\"] = df[\"prize-1\"].map(lambda prize: prize.replace(\",\", \"\") if type(prize) == str else prize).astype(np.float64)\n",
    "df[\"prize-2\"] = df[\"prize-2\"].map(lambda prize: prize.replace(\",\", \"\") if type(prize) == str else prize).astype(np.float64)\n",
    "df[\"prize-3\"] = df[\"prize-3\"].map(lambda prize: prize.replace(\",\", \"\") if type(prize) == str else prize).astype(np.float64)\n",
    "\n",
    "df[\"kyakusitu-1\"] = [pp.kyakusitu_code_c(n, r) for n, r in zip(df[\"total_horse_number_x-1\"].values, df[\"half_way_rank-1\"])]\n",
    "df[\"kyakusitu-2\"] = [pp.kyakusitu_code_c(n, r) for n, r in zip(df[\"total_horse_number_x-2\"].values, df[\"half_way_rank-2\"])]\n",
    "df[\"kyakusitu-3\"] = [pp.kyakusitu_code_c(n, r) for n, r in zip(df[\"total_horse_number_x-3\"].values, df[\"half_way_rank-3\"])]\n",
    "\n",
    "# 欠損値処理\n",
    "df = df.replace('---', -1)\n",
    "df = df.fillna(-1)"
   ]
  },
  {
   "cell_type": "code",
   "execution_count": null,
   "metadata": {},
   "outputs": [],
   "source": [
    "df[\"rank-1\"] = pp.make_label(df[\"rank-1\"].values, df[\"total_horse_number_x-1\"].values)\n",
    "df[\"rank-2\"] = pp.make_label(df[\"rank-2\"].values, df[\"total_horse_number_x-2\"].values)\n",
    "df[\"rank-3\"] = pp.make_label(df[\"rank-3\"].values, df[\"total_horse_number_x-3\"].values)"
   ]
  },
  {
   "cell_type": "code",
   "execution_count": null,
   "metadata": {},
   "outputs": [],
   "source": [
    "def fill_missing_columns(df_a, df_b):\n",
    "    columns_for_b = set(df_a.columns) - set(df_b.columns)\n",
    "    for column in columns_for_b:\n",
    "        df_b[column] = 0\n",
    "\n",
    "    columns_for_a = set(df_b.columns) - set(df_a.columns)\n",
    "    for column in columns_for_a:\n",
    "        df_a[column] = 0"
   ]
  },
  {
   "cell_type": "code",
   "execution_count": null,
   "metadata": {},
   "outputs": [],
   "source": [
    "# targetデータを予測に用いる為に、targetデータに存在していない学習時に用いたカテゴリデータを追加\n",
    "df_used_learning = pd.read_csv(DATA_PATH+\"/learning/horse_race.csv\")\n",
    "\n",
    "columns = [\"race_course\", \"weather\", \"ground_status\", \n",
    "           \"where_racecourse\", \"race_class\", \"running_condition\", \n",
    "           \"frame_number\", \"horse_number\",\n",
    "           \"sex_and_age\", \"burden_weight\", \"rider_id\", \n",
    "           \"tamer_id\", \"horse_weight\",\n",
    "           \"total_horse_number_x\", \n",
    "           \"rank-1\", \"rank-2\", \"rank-3\",\n",
    "           \"total_horse_number_x-1\", \"total_horse_number_x-2\",\"total_horse_number_x-3\",\n",
    "           \"goal_time-1\", \"goal_time-2\", \"goal_time-3\",\n",
    "           \"last_time-1\", \"last_time-2\", \"last_time-3\", \n",
    "           \"half_way_rank-1\", \"half_way_rank-2\", \"half_way_rank-3\", \n",
    "           \"prize-1\", \"prize-2\", \"prize-3\"]\n",
    "\n",
    "df_used_learning = df_used_learning[columns]\n",
    "\n",
    "df_used_learning[\"where_racecourse\"] = df_used_learning[\"where_racecourse\"].map(pp.extract_place)\n",
    "\n",
    "df_used_learning[\"sex\"] = df_used_learning[\"sex_and_age\"].map(lambda sex_and_age: sex_and_age[0])\n",
    "df_used_learning[\"age\"] = df_used_learning[\"sex_and_age\"].map(lambda sex_and_age: sex_and_age[1:])\n",
    "\n",
    "df_used_learning[\"goal_time-1\"] = df_used_learning[\"goal_time-1\"].map(pp.to_seconds)\n",
    "df_used_learning[\"goal_time-2\"] = df_used_learning[\"goal_time-2\"].map(pp.to_seconds)\n",
    "df_used_learning[\"goal_time-3\"] = df_used_learning[\"goal_time-3\"].map(pp.to_seconds)\n",
    "\n",
    "df_used_learning[\"horse_weight\"] = df_used_learning[\"horse_weight\"].map(pp.extract_weight).astype(np.int64)\n",
    "\n",
    "df_used_learning[\"prize-1\"] = df_used_learning[\"prize-1\"].map(lambda prize: prize.replace(\",\", \"\") if type(prize) == str else prize).astype(np.float64)\n",
    "df_used_learning[\"prize-2\"] = df_used_learning[\"prize-2\"].map(lambda prize: prize.replace(\",\", \"\") if type(prize) == str else prize).astype(np.float64)\n",
    "df_used_learning[\"prize-3\"] = df_used_learning[\"prize-3\"].map(lambda prize: prize.replace(\",\", \"\") if type(prize) == str else prize).astype(np.float64)\n",
    "\n",
    "df_used_learning[\"kyakusitu-1\"] = [pp.kyakusitu_code_c(n, r) for n, r in zip(df_used_learning[\"total_horse_number_x-1\"].values, df_used_learning[\"half_way_rank-1\"])]\n",
    "df_used_learning[\"kyakusitu-2\"] = [pp.kyakusitu_code_c(n, r) for n, r in zip(df_used_learning[\"total_horse_number_x-2\"].values, df_used_learning[\"half_way_rank-2\"])]\n",
    "df_used_learning[\"kyakusitu-3\"] = [pp.kyakusitu_code_c(n, r) for n, r in zip(df_used_learning[\"total_horse_number_x-3\"].values, df_used_learning[\"half_way_rank-3\"])]\n",
    "\n",
    "# 欠損値処理\n",
    "df_used_learning = df_used_learning.replace('---', -1)\n",
    "df_used_learning = df_used_learning.fillna(-1)\n",
    "\n",
    "df_used_learning[\"rank-1\"] = pp.make_label(df_used_learning[\"rank-1\"].values, df_used_learning[\"total_horse_number_x-1\"].values)\n",
    "df_used_learning[\"rank-2\"] = pp.make_label(df_used_learning[\"rank-2\"].values, df_used_learning[\"total_horse_number_x-2\"].values)\n",
    "df_used_learning[\"rank-3\"] = pp.make_label(df_used_learning[\"rank-3\"].values, df_used_learning[\"total_horse_number_x-3\"].values)\n",
    "\n",
    "input_columns = [\"race_course\", \"weather\", \"ground_status\", \n",
    "                 \"where_racecourse\", \"race_class\", \"running_condition\", \n",
    "                 \"frame_number\", \"horse_number\",\n",
    "                 \"sex\", \"age\", \"burden_weight\", \"rider_id\", \n",
    "                 \"tamer_id\", \"horse_weight\",\n",
    "                 \"rank-1\", \"rank-2\", \"rank-3\", \n",
    "                 \"goal_time-1\", \"goal_time-2\", \"goal_time-3\",\n",
    "                 \"last_time-1\", \"last_time-2\", \"last_time-3\", \n",
    "                 \"kyakusitu-1\", \"kyakusitu-2\", \"kyakusitu-3\", \n",
    "                 \"prize-1\", \"prize-2\", \"prize-3\"]\n",
    "\n",
    "df_used_learning = pp.one_hot_encoding(df_used_learning[input_columns])\n",
    "df = pp.one_hot_encoding(df[input_columns])\n",
    "\n",
    "fill_missing_columns(df, df_used_learning)"
   ]
  },
  {
   "cell_type": "markdown",
   "metadata": {},
   "source": [
    "# 予測"
   ]
  },
  {
   "cell_type": "code",
   "execution_count": null,
   "metadata": {},
   "outputs": [],
   "source": [
    "model = im.read_model(\"second_model\")"
   ]
  },
  {
   "cell_type": "code",
   "execution_count": null,
   "metadata": {},
   "outputs": [],
   "source": [
    "x = np.array(df)"
   ]
  },
  {
   "cell_type": "code",
   "execution_count": null,
   "metadata": {},
   "outputs": [],
   "source": [
    "test = []\n",
    "for x_input, umaban, horse_id in zip(x, list(range(len(df_target[\"horse_id\"]))), list(df_target[\"horse_id\"])):\n",
    "    pred = model.predict(x_input.reshape(1, -1))\n",
    "    if umaban == 1 or umaban == 2 or umaban == 4 or umaban == 5:\n",
    "        test.append(x_input)\n",
    "    prediction_class = np.argmax([pred[0][0], pred[0][1], pred[0][2]])\n",
    "    print(\"class: %d, (%f, %f, %f), %d (%d)\" % (prediction_class, pred[0][0], pred[0][1], pred[0][2], umaban + 1, horse_id))"
   ]
  },
  {
   "cell_type": "code",
   "execution_count": null,
   "metadata": {},
   "outputs": [],
   "source": []
  }
 ],
 "metadata": {
  "kernelspec": {
   "display_name": "Python 3",
   "language": "python",
   "name": "python3"
  },
  "language_info": {
   "codemirror_mode": {
    "name": "ipython",
    "version": 3
   },
   "file_extension": ".py",
   "mimetype": "text/x-python",
   "name": "python",
   "nbconvert_exporter": "python",
   "pygments_lexer": "ipython3",
   "version": "3.7.9"
  }
 },
 "nbformat": 4,
 "nbformat_minor": 4
}
