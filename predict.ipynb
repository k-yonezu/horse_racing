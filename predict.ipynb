{
 "cells": [
  {
   "cell_type": "code",
   "execution_count": null,
   "metadata": {},
   "outputs": [],
   "source": [
    "import pandas as pd\n",
    "import tensorflow as tf\n",
    "import numpy as np\n",
    "from sklearn.model_selection import train_test_split\n",
    "\n",
    "import utils.read_data as rd\n",
    "import utils.preprocessing as pp\n",
    "import utils.io_model as im\n",
    "import os\n",
    "from os.path import join, dirname\n",
    "from dotenv import load_dotenv\n",
    "from pathlib import Path\n",
    "import tensorflow as tf"
   ]
  },
  {
   "cell_type": "code",
   "execution_count": null,
   "metadata": {},
   "outputs": [],
   "source": [
    "load_dotenv(verbose=True)\n",
    "dotenv_path = join(Path().resolve(), '.env')\n",
    "load_dotenv(dotenv_path)\n",
    "GOOGLE_DRIVE_PATH = os.environ.get(\"GOOGLE_DRIVE_PATH\") + '/horse_racing'\n",
    "DATA_PATH = GOOGLE_DRIVE_PATH + '/csv/'"
   ]
  },
  {
   "cell_type": "markdown",
   "metadata": {},
   "source": [
    "# ジャパンカップ当日の別レースデータをこのノートブックで使えるようにディレクトリに配置\n",
    "import shutil\n",
    "\n",
    "target_file_names = [name for name in os.listdir(DATA_PATH+\"test_data\") if not \"japan\" in name and  not \"arima\" in name]\n",
    "race_files = sorted([name for name in target_file_names if \"race\" in name])\n",
    "horse_files = sorted([name for name in target_file_names if \"horse\" in name])\n",
    "race_names = [race_name.split(\"-\")[1] for race_name in race_files]\n",
    "race_names = [race_name.split(\".\")[0] for race_name in race_files]\n",
    "for race_name, race_file, horse_file in zip(race_names, race_files, horse_files):\n",
    "    target_data_path = DATA_PATH+\"test_data/target_\"+race_name\n",
    "    os.makedirs(target_data_path, exist_ok=True)\n",
    "    shutil.move(DATA_PATH+\"test_data/\"+race_file, target_data_path+\"/\")\n",
    "    shutil.move(DATA_PATH+\"test_data/\"+horse_file, target_data_path+\"/\")"
   ]
  },
  {
   "cell_type": "code",
   "execution_count": null,
   "metadata": {},
   "outputs": [],
   "source": [
    "os.listdir(DATA_PATH+\"test_data\")"
   ]
  },
  {
   "cell_type": "code",
   "execution_count": null,
   "metadata": {},
   "outputs": [],
   "source": [
    "#TARGET_DATA_PATH = GOOGLE_DRIVE_PATH + '/csv/test_data/target_race-202005050902/'\n",
    "TARGET_DATA_PATH = GOOGLE_DRIVE_PATH + '/csv/arima_kinen/'"
   ]
  },
  {
   "cell_type": "markdown",
   "metadata": {},
   "source": [
    "# 前処理"
   ]
  },
  {
   "cell_type": "code",
   "execution_count": null,
   "metadata": {},
   "outputs": [],
   "source": [
    "df_target_horse = rd.read_target_horse_csv(TARGET_DATA_PATH)\n",
    "df_target_race  = rd.read_target_race_csv(TARGET_DATA_PATH)\n",
    "df_target = pd.merge(df_target_horse, df_target_race, on='race_id', how='left')"
   ]
  },
  {
   "cell_type": "code",
   "execution_count": null,
   "metadata": {},
   "outputs": [],
   "source": [
    "df_horse = rd.read_horse_csv(DATA_PATH)\n",
    "df_race = rd.read_race_csv(DATA_PATH)\n",
    "#df = pd.read_csv(DATA_PATH+\"/learning/horse_race.csv\")\n",
    "df = pd.merge(df_horse, df_race, on='race_id', how='left')"
   ]
  },
  {
   "cell_type": "code",
   "execution_count": null,
   "metadata": {},
   "outputs": [],
   "source": [
    "df = pp.join_n_race_for_prediction(df_target, df, 3)"
   ]
  },
  {
   "cell_type": "code",
   "execution_count": null,
   "metadata": {},
   "outputs": [],
   "source": [
    "df.head()"
   ]
  },
  {
   "cell_type": "markdown",
   "metadata": {},
   "source": [
    "## 前処理"
   ]
  },
  {
   "cell_type": "code",
   "execution_count": null,
   "metadata": {},
   "outputs": [],
   "source": [
    "columns = [\"race_course\", \"weather\", \"ground_status\", \n",
    "           \"where_racecourse\", \"race_class\", \"running_condition\", \n",
    "           \"frame_number\", \"horse_number\",\n",
    "           \"sex_and_age\", \"burden_weight\", \"rider_id\", \n",
    "           \"tamer_id\", \"horse_weight\",\n",
    "           \"total_horse_number_x\", \n",
    "           \"rank-1\", \"rank-2\", \"rank-3\",\n",
    "           \"total_horse_number_x-1\", \"total_horse_number_x-2\",\"total_horse_number_x-3\",\n",
    "           \"goal_time-1\", \"goal_time-2\", \"goal_time-3\",\n",
    "           \"last_time-1\", \"last_time-2\", \"last_time-3\", \n",
    "           \"half_way_rank-1\", \"half_way_rank-2\", \"half_way_rank-3\", \n",
    "           \"prize-1\", \"prize-2\", \"prize-3\"]\n",
    "\n",
    "df = df[columns]"
   ]
  },
  {
   "cell_type": "code",
   "execution_count": null,
   "metadata": {},
   "outputs": [],
   "source": [
    "df[\"where_racecourse\"] = df[\"where_racecourse\"].map(pp.extract_place)\n",
    "\n",
    "df[\"sex\"] = df[\"sex_and_age\"].map(lambda sex_and_age: sex_and_age[0])\n",
    "df[\"age\"] = df[\"sex_and_age\"].map(lambda sex_and_age: sex_and_age[1:])\n",
    "\n",
    "df[\"goal_time-1\"] = df[\"goal_time-1\"].map(pp.to_seconds)\n",
    "df[\"goal_time-2\"] = df[\"goal_time-2\"].map(pp.to_seconds)\n",
    "df[\"goal_time-3\"] = df[\"goal_time-3\"].map(pp.to_seconds)\n",
    "\n",
    "df[\"horse_weight\"] = df[\"horse_weight\"].map(pp.extract_weight).astype(np.int64)\n",
    "\n",
    "df[\"prize-1\"] = df[\"prize-1\"].map(lambda prize: prize.replace(\",\", \"\") if type(prize) == str else prize).astype(np.float64)\n",
    "df[\"prize-2\"] = df[\"prize-2\"].map(lambda prize: prize.replace(\",\", \"\") if type(prize) == str else prize).astype(np.float64)\n",
    "df[\"prize-3\"] = df[\"prize-3\"].map(lambda prize: prize.replace(\",\", \"\") if type(prize) == str else prize).astype(np.float64)\n",
    "\n",
    "df[\"kyakusitu-1\"] = [pp.kyakusitu_code_c(n, r) for n, r in zip(df[\"total_horse_number_x-1\"].values, df[\"half_way_rank-1\"])]\n",
    "df[\"kyakusitu-2\"] = [pp.kyakusitu_code_c(n, r) for n, r in zip(df[\"total_horse_number_x-2\"].values, df[\"half_way_rank-2\"])]\n",
    "df[\"kyakusitu-3\"] = [pp.kyakusitu_code_c(n, r) for n, r in zip(df[\"total_horse_number_x-3\"].values, df[\"half_way_rank-3\"])]\n",
    "\n",
    "# 欠損値処理\n",
    "df = df.replace('---', -1)\n",
    "df = df.fillna(-1)"
   ]
  },
  {
   "cell_type": "code",
   "execution_count": null,
   "metadata": {},
   "outputs": [],
   "source": [
    "df[\"rank-1\"] = pp.make_label(df[\"rank-1\"].values, df[\"total_horse_number_x-1\"].values)\n",
    "df[\"rank-2\"] = pp.make_label(df[\"rank-2\"].values, df[\"total_horse_number_x-2\"].values)\n",
    "df[\"rank-3\"] = pp.make_label(df[\"rank-3\"].values, df[\"total_horse_number_x-3\"].values)"
   ]
  },
  {
   "cell_type": "code",
   "execution_count": null,
   "metadata": {},
   "outputs": [],
   "source": [
    "def fill_missing_columns(df_a, df_b):\n",
    "    columns_for_b = set(df_a.columns) - set(df_b.columns)\n",
    "    for column in columns_for_b:\n",
    "        df_b[column] = 0\n",
    "\n",
    "    columns_for_a = set(df_b.columns) - set(df_a.columns)\n",
    "    for column in columns_for_a:\n",
    "        df_a[column] = 0"
   ]
  },
  {
   "cell_type": "code",
   "execution_count": null,
   "metadata": {},
   "outputs": [],
   "source": [
    "# targetデータを予測に用いる為に、targetデータに存在していない学習時に用いたカテゴリデータを追加\n",
    "df_used_learning = pd.read_csv(DATA_PATH+\"/learning/horse_race.csv\")\n",
    "\n",
    "columns = [\"race_course\", \"weather\", \"ground_status\", \n",
    "           \"where_racecourse\", \"race_class\", \"running_condition\", \n",
    "           \"frame_number\", \"horse_number\",\n",
    "           \"sex_and_age\", \"burden_weight\", \"rider_id\", \n",
    "           \"tamer_id\", \"horse_weight\",\n",
    "           \"total_horse_number_x\", \n",
    "           \"rank-1\", \"rank-2\", \"rank-3\",\n",
    "           \"total_horse_number_x-1\", \"total_horse_number_x-2\",\"total_horse_number_x-3\",\n",
    "           \"goal_time-1\", \"goal_time-2\", \"goal_time-3\",\n",
    "           \"last_time-1\", \"last_time-2\", \"last_time-3\", \n",
    "           \"half_way_rank-1\", \"half_way_rank-2\", \"half_way_rank-3\", \n",
    "           \"prize-1\", \"prize-2\", \"prize-3\"]\n",
    "\n",
    "df_used_learning = df_used_learning[columns]\n",
    "\n",
    "df_used_learning[\"where_racecourse\"] = df_used_learning[\"where_racecourse\"].map(pp.extract_place)\n",
    "\n",
    "df_used_learning[\"sex\"] = df_used_learning[\"sex_and_age\"].map(lambda sex_and_age: sex_and_age[0])\n",
    "df_used_learning[\"age\"] = df_used_learning[\"sex_and_age\"].map(lambda sex_and_age: sex_and_age[1:])\n",
    "\n",
    "df_used_learning[\"goal_time-1\"] = df_used_learning[\"goal_time-1\"].map(pp.to_seconds)\n",
    "df_used_learning[\"goal_time-2\"] = df_used_learning[\"goal_time-2\"].map(pp.to_seconds)\n",
    "df_used_learning[\"goal_time-3\"] = df_used_learning[\"goal_time-3\"].map(pp.to_seconds)\n",
    "\n",
    "df_used_learning[\"horse_weight\"] = df_used_learning[\"horse_weight\"].map(pp.extract_weight).astype(np.int64)\n",
    "\n",
    "df_used_learning[\"prize-1\"] = df_used_learning[\"prize-1\"].map(lambda prize: prize.replace(\",\", \"\") if type(prize) == str else prize).astype(np.float64)\n",
    "df_used_learning[\"prize-2\"] = df_used_learning[\"prize-2\"].map(lambda prize: prize.replace(\",\", \"\") if type(prize) == str else prize).astype(np.float64)\n",
    "df_used_learning[\"prize-3\"] = df_used_learning[\"prize-3\"].map(lambda prize: prize.replace(\",\", \"\") if type(prize) == str else prize).astype(np.float64)\n",
    "\n",
    "df_used_learning[\"kyakusitu-1\"] = [pp.kyakusitu_code_c(n, r) for n, r in zip(df_used_learning[\"total_horse_number_x-1\"].values, df_used_learning[\"half_way_rank-1\"])]\n",
    "df_used_learning[\"kyakusitu-2\"] = [pp.kyakusitu_code_c(n, r) for n, r in zip(df_used_learning[\"total_horse_number_x-2\"].values, df_used_learning[\"half_way_rank-2\"])]\n",
    "df_used_learning[\"kyakusitu-3\"] = [pp.kyakusitu_code_c(n, r) for n, r in zip(df_used_learning[\"total_horse_number_x-3\"].values, df_used_learning[\"half_way_rank-3\"])]\n",
    "\n",
    "# 欠損値処理\n",
    "df_used_learning = df_used_learning.replace('---', -1)\n",
    "df_used_learning = df_used_learning.fillna(-1)\n",
    "\n",
    "df_used_learning[\"rank-1\"] = pp.make_label(df_used_learning[\"rank-1\"].values, df_used_learning[\"total_horse_number_x-1\"].values)\n",
    "df_used_learning[\"rank-2\"] = pp.make_label(df_used_learning[\"rank-2\"].values, df_used_learning[\"total_horse_number_x-2\"].values)\n",
    "df_used_learning[\"rank-3\"] = pp.make_label(df_used_learning[\"rank-3\"].values, df_used_learning[\"total_horse_number_x-3\"].values)\n",
    "\n",
    "input_columns = [\"race_course\", \"weather\", \"ground_status\", \n",
    "                 \"where_racecourse\", \"race_class\", \"running_condition\", \n",
    "                 \"frame_number\", \"horse_number\",\n",
    "                 \"sex\", \"age\", \"burden_weight\", \"rider_id\", \n",
    "                 \"tamer_id\", \"horse_weight\",\n",
    "                 \"rank-1\", \"rank-2\", \"rank-3\", \n",
    "                 \"goal_time-1\", \"goal_time-2\", \"goal_time-3\",\n",
    "                 \"last_time-1\", \"last_time-2\", \"last_time-3\", \n",
    "                 \"kyakusitu-1\", \"kyakusitu-2\", \"kyakusitu-3\", \n",
    "                 \"prize-1\", \"prize-2\", \"prize-3\"]\n",
    "\n",
    "df_used_learning = pp.one_hot_encoding(df_used_learning[input_columns])\n",
    "df = pp.one_hot_encoding(df[input_columns])\n",
    "\n",
    "fill_missing_columns(df, df_used_learning)"
   ]
  },
  {
   "cell_type": "markdown",
   "metadata": {},
   "source": [
    "# 予測"
   ]
  },
  {
   "cell_type": "code",
   "execution_count": null,
   "metadata": {},
   "outputs": [],
   "source": [
    "model = im.read_model(\"second_model\")"
   ]
  },
  {
   "cell_type": "code",
   "execution_count": null,
   "metadata": {},
   "outputs": [],
   "source": [
    "x = np.array(df)"
   ]
  },
  {
   "cell_type": "code",
   "execution_count": null,
   "metadata": {
    "scrolled": true
   },
   "outputs": [],
   "source": [
    "test = []\n",
    "for x_input, umaban, horse_id in zip(x, list(range(len(df_target[\"horse_id\"]))), list(df_target[\"horse_id\"])):\n",
    "    pred = model.predict(x_input.reshape(1, -1))\n",
    "    if umaban == 1 or umaban == 2 or umaban == 4 or umaban == 5:\n",
    "        test.append(x_input)\n",
    "    prediction_class = np.argmax([pred[0][0], pred[0][1], pred[0][2]])\n",
    "    print(\"class: %d, (%f, %f, %f), %d (%d)\" % (prediction_class, pred[0][0], pred[0][1], pred[0][2], umaban + 1, horse_id))"
   ]
  },
  {
   "cell_type": "code",
   "execution_count": null,
   "metadata": {},
   "outputs": [],
   "source": []
  }
 ],
 "metadata": {
  "kernelspec": {
   "display_name": "Python 3",
   "language": "python",
   "name": "python3"
  },
  "language_info": {
   "codemirror_mode": {
    "name": "ipython",
    "version": 3
   },
   "file_extension": ".py",
   "mimetype": "text/x-python",
   "name": "python",
   "nbconvert_exporter": "python",
   "pygments_lexer": "ipython3",
   "version": "3.7.9"
  }
 },
 "nbformat": 4,
 "nbformat_minor": 4
}
