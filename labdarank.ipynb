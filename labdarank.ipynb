{
 "cells": [
  {
   "cell_type": "code",
   "execution_count": null,
   "metadata": {},
   "outputs": [],
   "source": [
    "import lightgbm as lgb"
   ]
  },
  {
   "cell_type": "code",
   "execution_count": null,
   "metadata": {},
   "outputs": [],
   "source": [
    "import pandas as pd\n",
    "import tensorflow as tf\n",
    "import numpy as np\n",
    "from sklearn.model_selection import train_test_split\n",
    "\n",
    "import utils.read_data as rd\n",
    "import utils.io_model as io_m\n",
    "import utils.preprocessing as pp\n",
    "import pickle"
   ]
  },
  {
   "cell_type": "code",
   "execution_count": null,
   "metadata": {},
   "outputs": [],
   "source": [
    "import os\n",
    "from os.path import join, dirname\n",
    "from dotenv import load_dotenv\n",
    "from pathlib import Path\n"
   ]
  },
  {
   "cell_type": "code",
   "execution_count": null,
   "metadata": {},
   "outputs": [],
   "source": [
    "load_dotenv(verbose=True)\n",
    "dotenv_path = join(Path().resolve(), '.env')\n",
    "load_dotenv(dotenv_path)"
   ]
  },
  {
   "cell_type": "code",
   "execution_count": null,
   "metadata": {},
   "outputs": [],
   "source": [
    "GOOGLE_DRIVE_PATH = os.environ.get(\"GOOGLE_DRIVE_PATH\")\n",
    "DATA_PATH = GOOGLE_DRIVE_PATH + '/train_data'"
   ]
  },
  {
   "cell_type": "code",
   "execution_count": null,
   "metadata": {},
   "outputs": [],
   "source": [
    "df = rd.read_horse_race_csv(DATA_PATH)"
   ]
  },
  {
   "cell_type": "code",
   "execution_count": null,
   "metadata": {},
   "outputs": [],
   "source": [
    "df"
   ]
  },
  {
   "cell_type": "code",
   "execution_count": null,
   "metadata": {},
   "outputs": [],
   "source": [
    "# 学習に使用するカラム、過去データは3レース前までのデータを用いる\n",
    "# これらのカラムに対して加工を行う為、新たなカラムが加わる。\n",
    "# その為、最終的に用いる特徴量のカラムは別なセルで定義する(input_columns)\n",
    "columns = ['race_id', \"race_course\", \"weather\", \"ground_status\", \n",
    "           \"where_racecourse\", \"race_class\", \"running_condition\", \n",
    "           \"frame_number\", \"horse_number\",\n",
    "           \"sex_and_age\", \"burden_weight\", \"rider_id\", \n",
    "           \"tamer_id\", \"horse_weight\", \"odds\", \"popular\",\n",
    "           \"rank\", \"total_horse_number_x\", \n",
    "           \"rank-1\", \"rank-2\", \"rank-3\",\n",
    "           \"total_horse_number_x-1\", \"total_horse_number_x-2\",\"total_horse_number_x-3\",\n",
    "           \"goal_time-1\", \"goal_time-2\", \"goal_time-3\",\n",
    "           \"last_time-1\", \"last_time-2\", \"last_time-3\", \n",
    "           \"half_way_rank-1\", \"half_way_rank-2\", \"half_way_rank-3\", \n",
    "           \"prize-1\", \"prize-2\", \"prize-3\"]\n",
    "\n",
    "df = df[columns]\n",
    "df.head()"
   ]
  },
  {
   "cell_type": "code",
   "execution_count": null,
   "metadata": {},
   "outputs": [],
   "source": [
    "df[\"where_racecourse\"] = df[\"where_racecourse\"].map(pp.extract_place)\n",
    "\n",
    "df[\"sex\"] = df[\"sex_and_age\"].map(lambda sex_and_age: sex_and_age[0])\n",
    "df[\"age\"] = df[\"sex_and_age\"].map(lambda sex_and_age: sex_and_age[1:])\n",
    "\n",
    "df[\"goal_time-1\"] = df[\"goal_time-1\"].map(pp.to_seconds)\n",
    "df[\"goal_time-2\"] = df[\"goal_time-2\"].map(pp.to_seconds)\n",
    "df[\"goal_time-3\"] = df[\"goal_time-3\"].map(pp.to_seconds)\n",
    "\n",
    "df[\"horse_weight\"] = df[\"horse_weight\"].map(pp.extract_weight).astype(np.int64)\n",
    "\n",
    "df[\"prize-1\"] = df[\"prize-1\"].map(lambda prize: prize.replace(\",\", \"\") if type(prize) == str else prize).astype(np.float64)\n",
    "df[\"prize-2\"] = df[\"prize-2\"].map(lambda prize: prize.replace(\",\", \"\") if type(prize) == str else prize).astype(np.float64)\n",
    "df[\"prize-3\"] = df[\"prize-3\"].map(lambda prize: prize.replace(\",\", \"\") if type(prize) == str else prize).astype(np.float64)\n",
    "\n",
    "df[\"kyakusitu-1\"] = [pp.kyakusitu_code_c(n, r) for n, r in zip(df[\"total_horse_number_x-1\"].values, df[\"half_way_rank-1\"])]\n",
    "df[\"kyakusitu-2\"] = [pp.kyakusitu_code_c(n, r) for n, r in zip(df[\"total_horse_number_x-2\"].values, df[\"half_way_rank-2\"])]\n",
    "df[\"kyakusitu-3\"] = [pp.kyakusitu_code_c(n, r) for n, r in zip(df[\"total_horse_number_x-3\"].values, df[\"half_way_rank-3\"])]\n",
    "\n",
    "# 欠損値処理\n",
    "df = df.replace('---', -1)\n",
    "df = df.fillna(-1)\n",
    "\n",
    "df[\"odds\"] = df[\"odds\"].astype(np.float64)"
   ]
  },
  {
   "cell_type": "code",
   "execution_count": null,
   "metadata": {},
   "outputs": [],
   "source": [
    "df"
   ]
  },
  {
   "cell_type": "code",
   "execution_count": null,
   "metadata": {},
   "outputs": [],
   "source": [
    "df = df.sort_values('race_id')"
   ]
  },
  {
   "cell_type": "code",
   "execution_count": null,
   "metadata": {},
   "outputs": [],
   "source": [
    "def make_label(rank):\n",
    "    rank = str(rank)\n",
    "    if not(rank.isdigit()):\n",
    "        rank = 30\n",
    "\n",
    "    return rank"
   ]
  },
  {
   "cell_type": "code",
   "execution_count": null,
   "metadata": {},
   "outputs": [],
   "source": [
    "df[\"rank\"] = df[\"rank\"].apply(make_label)\n",
    "df[\"rank-1\"] = df[\"rank-1\"].apply(make_label)\n",
    "df[\"rank-2\"] = df[\"rank-2\"].apply(make_label)\n",
    "df[\"rank-3\"] = df[\"rank-3\"].apply(make_label)\n"
   ]
  },
  {
   "cell_type": "code",
   "execution_count": null,
   "metadata": {},
   "outputs": [],
   "source": [
    "query = list(df.groupby('race_id').count().race_course)"
   ]
  },
  {
   "cell_type": "code",
   "execution_count": null,
   "metadata": {},
   "outputs": [],
   "source": [
    "params = {\n",
    "    'objective': 'lambdarank',\n",
    "    'metric': 'ndcg',\n",
    "    'ndcg_eval_at': [3, 5],\n",
    "    'boosting_type': 'gbdt',\n",
    "}"
   ]
  },
  {
   "cell_type": "code",
   "execution_count": null,
   "metadata": {},
   "outputs": [],
   "source": [
    "input_columns = [\"race_course\", \"weather\", \"ground_status\", \n",
    "                 \"where_racecourse\", \"race_class\", \"running_condition\", \n",
    "                 \"frame_number\", \"horse_number\",\n",
    "                 \"sex\", \"age\", \"burden_weight\", \"rider_id\", \n",
    "                 \"tamer_id\", \"horse_weight\",\n",
    "                 \"rank-1\", \"rank-2\", \"rank-3\", \n",
    "                 \"goal_time-1\", \"goal_time-2\", \"goal_time-3\",\n",
    "                 \"last_time-1\", \"last_time-2\", \"last_time-3\", \n",
    "                 \"kyakusitu-1\", \"kyakusitu-2\", \"kyakusitu-3\", \n",
    "                 \"prize-1\", \"prize-2\", \"prize-3\"]"
   ]
  },
  {
   "cell_type": "code",
   "execution_count": null,
   "metadata": {},
   "outputs": [],
   "source": [
    "# one-hot\n",
    "df_one_hot = pd.get_dummies(df[input_columns])"
   ]
  },
  {
   "cell_type": "code",
   "execution_count": null,
   "metadata": {},
   "outputs": [],
   "source": [
    "features = df_one_hot.columns.values.tolist()"
   ]
  },
  {
   "cell_type": "code",
   "execution_count": null,
   "metadata": {},
   "outputs": [],
   "source": [
    "len(features)"
   ]
  },
  {
   "cell_type": "code",
   "execution_count": null,
   "metadata": {},
   "outputs": [],
   "source": [
    "features"
   ]
  },
  {
   "cell_type": "code",
   "execution_count": null,
   "metadata": {},
   "outputs": [],
   "source": [
    "df[df['rank'] =='12(再)']['rank']"
   ]
  },
  {
   "cell_type": "code",
   "execution_count": null,
   "metadata": {},
   "outputs": [],
   "source": [
    "# 学習に用いるデータセットの作成\n",
    "x = np.array(df_one_hot[features])\n",
    "y = np.array(df['rank'])\n",
    "#del df\n",
    "split = int(len(query) / 3)\n",
    "query_train = query[:split]  \n",
    "x_train = x[:sum(query[:split])]\n",
    "y_train = y[:sum(query[:split])]\n",
    "\n",
    "query_test = query[split:]  \n",
    "x_test = x[sum(query[:split]):]\n",
    "y_test = y[sum(query[:split]):]\n",
    "# x_train, x_test, y_train, y_test = train_test_split(x, y, test_size=0.3, shuffle=False)\n",
    "#del x, y\n",
    "print(x_train.shape)\n",
    "print(x_test.shape)"
   ]
  },
  {
   "cell_type": "code",
   "execution_count": null,
   "metadata": {},
   "outputs": [],
   "source": [
    "dtrain = lgb.Dataset(x_train, y_train, group=query_train)\n",
    "dval = lgb.Dataset(x_test, y_test, reference=dtrain, group=query_test)\n",
    "model = lgb.train(params, dtrain, valid_sets=dval)"
   ]
  },
  {
   "cell_type": "code",
   "execution_count": null,
   "metadata": {},
   "outputs": [],
   "source": [
    "file = './model_data/lambdarank/lgb_model.pkl'\n",
    "pickle.dump(model, open(file, 'wb'))"
   ]
  },
  {
   "cell_type": "code",
   "execution_count": null,
   "metadata": {},
   "outputs": [],
   "source": [
    "loaded_model = pickle.load(open(file, 'rb'))"
   ]
  },
  {
   "cell_type": "code",
   "execution_count": null,
   "metadata": {},
   "outputs": [],
   "source": []
  },
  {
   "cell_type": "code",
   "execution_count": null,
   "metadata": {},
   "outputs": [],
   "source": []
  },
  {
   "cell_type": "code",
   "execution_count": null,
   "metadata": {},
   "outputs": [],
   "source": []
  },
  {
   "cell_type": "code",
   "execution_count": null,
   "metadata": {},
   "outputs": [],
   "source": []
  },
  {
   "cell_type": "code",
   "execution_count": null,
   "metadata": {},
   "outputs": [],
   "source": []
  },
  {
   "cell_type": "code",
   "execution_count": null,
   "metadata": {},
   "outputs": [],
   "source": []
  }
 ],
 "metadata": {
  "kernelspec": {
   "display_name": "Python 3",
   "language": "python",
   "name": "python3"
  },
  "language_info": {
   "codemirror_mode": {
    "name": "ipython",
    "version": 3
   },
   "file_extension": ".py",
   "mimetype": "text/x-python",
   "name": "python",
   "nbconvert_exporter": "python",
   "pygments_lexer": "ipython3",
   "version": "3.7.0"
  }
 },
 "nbformat": 4,
 "nbformat_minor": 4
}
