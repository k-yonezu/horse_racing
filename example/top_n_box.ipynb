{
 "cells": [
  {
   "cell_type": "code",
   "execution_count": null,
   "metadata": {},
   "outputs": [],
   "source": [
    "import sys\n",
    "sys.path.append(\"..\")\n",
    "import os\n",
    "from os.path import join, dirname\n",
    "from dotenv import load_dotenv\n",
    "from pathlib import Path\n",
    "import pandas as pd\n",
    "import numpy as np\n",
    "from tqdm import tqdm\n",
    "\n",
    "import lightgbm as lgb\n",
    "\n",
    "import utils.top_n_box as top_n_box\n",
    "import utils.read_data as rd\n",
    "import utils.preprocessing as pp\n",
    "import utils.prepare_data as prepare_data"
   ]
  },
  {
   "cell_type": "code",
   "execution_count": null,
   "metadata": {},
   "outputs": [],
   "source": [
    "load_dotenv(verbose=True)\n",
    "dotenv_path = join(Path().resolve(), '.env')\n",
    "load_dotenv(dotenv_path)"
   ]
  },
  {
   "cell_type": "code",
   "execution_count": null,
   "metadata": {},
   "outputs": [],
   "source": [
    "GOOGLE_DRIVE_PATH = os.environ.get(\"GOOGLE_DRIVE_PATH\")\n",
    "DATA_PATH = GOOGLE_DRIVE_PATH + '/train_data'"
   ]
  },
  {
   "cell_type": "markdown",
   "metadata": {},
   "source": [
    "## サンプルデータを準備"
   ]
  },
  {
   "cell_type": "code",
   "execution_count": null,
   "metadata": {},
   "outputs": [],
   "source": [
    "df = rd.read_horse_race_csv(DATA_PATH)"
   ]
  },
  {
   "cell_type": "code",
   "execution_count": null,
   "metadata": {},
   "outputs": [],
   "source": [
    "df.info()"
   ]
  },
  {
   "cell_type": "code",
   "execution_count": null,
   "metadata": {},
   "outputs": [],
   "source": [
    "df.head()"
   ]
  },
  {
   "cell_type": "code",
   "execution_count": null,
   "metadata": {},
   "outputs": [],
   "source": [
    "prize_columns = [\n",
    "    \"tansyo\", \n",
    "    \"hukusyo_first\", \n",
    "    \"hukusyo_second\", \n",
    "    \"hukusyo_third\", \n",
    "    \"umaren\", \n",
    "    \"umatan\", \n",
    "    \"wide_1_2\", \n",
    "    \"wide_1_3\", \n",
    "    \"wide_2_3\",\n",
    "    \"renhuku3\",\n",
    "    \"rentan3\"\n",
    "]"
   ]
  },
  {
   "cell_type": "code",
   "execution_count": null,
   "metadata": {},
   "outputs": [],
   "source": [
    "top_n_test_df = df\n",
    "top_n_test_df.head()"
   ]
  },
  {
   "cell_type": "code",
   "execution_count": null,
   "metadata": {},
   "outputs": [],
   "source": [
    "race_ids = list(set(top_n_test_df[\"race_id\"].values))\n",
    "len(race_ids)"
   ]
  },
  {
   "cell_type": "code",
   "execution_count": null,
   "metadata": {},
   "outputs": [],
   "source": [
    "def make_label(rank):\n",
    "    rank = str(rank)\n",
    "    if not(rank.isdigit()):\n",
    "        rank = 30\n",
    "\n",
    "    return int(rank)"
   ]
  },
  {
   "cell_type": "code",
   "execution_count": null,
   "metadata": {},
   "outputs": [],
   "source": [
    "top_n_test_df[\"label\"] = top_n_test_df[\"rank\"].apply(make_label)\n",
    "top_n_test_df[\"rank-1\"] = top_n_test_df[\"rank-1\"].apply(make_label)\n",
    "top_n_test_df[\"rank-2\"] = top_n_test_df[\"rank-2\"].apply(make_label)\n",
    "top_n_test_df[\"rank-3\"] = top_n_test_df[\"rank-3\"].apply(make_label)"
   ]
  },
  {
   "cell_type": "code",
   "execution_count": null,
   "metadata": {},
   "outputs": [],
   "source": [
    "top_n_test_df = top_n_test_df.sort_values('race_id', ascending=True)"
   ]
  },
  {
   "cell_type": "code",
   "execution_count": null,
   "metadata": {},
   "outputs": [],
   "source": [
    "query = list(top_n_test_df.groupby('race_id').count().race_course)"
   ]
  },
  {
   "cell_type": "code",
   "execution_count": null,
   "metadata": {},
   "outputs": [],
   "source": [
    "df_for_learning = prepare_data.prepare_train_data(top_n_test_df)"
   ]
  },
  {
   "cell_type": "code",
   "execution_count": null,
   "metadata": {},
   "outputs": [],
   "source": [
    "columns_for_learning = df_for_learning.columns.values.tolist()"
   ]
  },
  {
   "cell_type": "code",
   "execution_count": null,
   "metadata": {},
   "outputs": [],
   "source": [
    "columns_for_learning.remove(\"label\")"
   ]
  },
  {
   "cell_type": "code",
   "execution_count": null,
   "metadata": {},
   "outputs": [],
   "source": [
    "# 学習に用いるデータセットの作成\n",
    "x = np.array(df_for_learning[columns_for_learning])\n",
    "y = np.array(df_for_learning['label'])\n",
    "#del df\n",
    "split = int(len(query) / 5)\n",
    "query_train = query[:split]  \n",
    "x_train = x[:sum(query[:split])]\n",
    "y_train = y[:sum(query[:split])]\n",
    "\n",
    "query_test = query[split:]  \n",
    "x_test = x[sum(query[:split]):]\n",
    "y_test = y[sum(query[:split]):]\n",
    "# x_train, x_test, y_train, y_test = train_test_split(x, y, test_size=0.3, shuffle=False)\n",
    "#del x, y\n",
    "print(x_train.shape)\n",
    "print(x_test.shape)"
   ]
  },
  {
   "cell_type": "code",
   "execution_count": null,
   "metadata": {},
   "outputs": [],
   "source": [
    "params = {\n",
    "    'objective': 'lambdarank',\n",
    "    'metric': 'ndcg',\n",
    "    'ndcg_eval_at': [3, 5],\n",
    "    'boosting_type': 'gbdt',\n",
    "}\n",
    "params = {\n",
    "    'objective': 'lambdarank',\n",
    "    'metric': 'ndcg',\n",
    "    'ndcg_eval_at': [1, 3, 5],\n",
    "    'boosting_type': 'gbdt',\n",
    "    'num_iterations': 500,\n",
    "    'max_bin': 100,\n",
    "    'num_leaves': 50,\n",
    "    'learning_rate': 0.05,\n",
    "    'early_stopping_rounds': 50,\n",
    "}"
   ]
  },
  {
   "cell_type": "code",
   "execution_count": null,
   "metadata": {},
   "outputs": [],
   "source": [
    "dtrain = lgb.Dataset(x_train, y_train, group=query_train)\n",
    "dval = lgb.Dataset(x_test, y_test, reference=dtrain, group=query_test)\n",
    "model = lgb.train(params, dtrain, valid_sets=dval)"
   ]
  },
  {
   "cell_type": "code",
   "execution_count": null,
   "metadata": {},
   "outputs": [],
   "source": [
    "print(df_for_learning.shape)\n",
    "print(top_n_test_df.shape)"
   ]
  },
  {
   "cell_type": "code",
   "execution_count": null,
   "metadata": {},
   "outputs": [],
   "source": [
    "prize_columns = [\n",
    "    \"tansyo\",\n",
    "    \"hukusyo_first\",\n",
    "    \"hukusyo_second\",\n",
    "    \"hukusyo_third\",\n",
    "    \"umaren\",\n",
    "    \"umatan\",\n",
    "    \"wide_1_2\",\n",
    "    \"wide_1_3\",\n",
    "    \"wide_2_3\",\n",
    "    \"renhuku3\",\n",
    "    \"rentan3\"\n",
    "]"
   ]
  },
  {
   "cell_type": "code",
   "execution_count": null,
   "metadata": {},
   "outputs": [],
   "source": [
    "predicted_ranks_df = pd.DataFrame(columns=[\"race_id\", \"rank\"])\n",
    "\n",
    "offset = sum(query_train)\n",
    "for q in tqdm(query_test):\n",
    "    df = df_for_learning[offset:offset+q][columns_for_learning]\n",
    "    race_id = top_n_test_df[offset:offset+q][\"race_id\"].values.astype(int)\n",
    "    x = np.array(df)\n",
    "    pred = model.predict(x, num_iteration=model.best_iteration)\n",
    "    predicted_ranks = np.argsort(abs(pred)) + 1\n",
    "    df = pd.DataFrame({\"race_id\": race_id, \"rank\": predicted_ranks})\n",
    "    predicted_ranks_df = predicted_ranks_df.append(df)\n",
    "    \n",
    "    offset += q\n",
    "    \n",
    "predicted_ranks_df = predicted_ranks_df.astype({\"rank\": int})\n",
    "predicted_ranks_df.head()"
   ]
  },
  {
   "cell_type": "code",
   "execution_count": null,
   "metadata": {},
   "outputs": [],
   "source": [
    "print(sum(query[split:split+10]))\n",
    "print(predicted_ranks_df.shape)"
   ]
  },
  {
   "cell_type": "markdown",
   "metadata": {},
   "source": [
    "prize columns <br>\n",
    "2   tansyo          61 non-null     object <br>\n",
    " 3   hukusyo_first   61 non-null     object  <br>\n",
    " 4   hukusyo_second  61 non-null     object  <br>\n",
    " 5   hukusyo_third   61 non-null     object  <br>\n",
    " 6   umaren          61 non-null     object  <br>\n",
    " 7   umatan          61 non-null     object  <br>\n",
    " 8   wide_1_2        61 non-null     object  <br>\n",
    " 9   wide_1_3        61 non-null     object  <br>\n",
    " 10  wide_2_3        61 non-null     object  <br>\n",
    " 11  renhuku3        61 non-null     object  <br>"
   ]
  },
  {
   "cell_type": "markdown",
   "metadata": {},
   "source": [
    "## リターン計算例"
   ]
  },
  {
   "cell_type": "code",
   "execution_count": null,
   "metadata": {},
   "outputs": [],
   "source": [
    "def extract_race(horse_race_df, race_id):\n",
    "    return horse_race_df[horse_race_df[\"race_id\"] == race_id]"
   ]
  },
  {
   "cell_type": "code",
   "execution_count": null,
   "metadata": {},
   "outputs": [],
   "source": [
    "from utils.top_n_box import TopNBox\n",
    "import utils.return_calculation as return_calculation"
   ]
  },
  {
   "cell_type": "code",
   "execution_count": null,
   "metadata": {},
   "outputs": [],
   "source": [
    "ticket_types = TopNBox.ticket_types\n",
    "print(ticket_types)"
   ]
  },
  {
   "cell_type": "code",
   "execution_count": null,
   "metadata": {},
   "outputs": [],
   "source": [
    "PRICE_OF_BETTING_TICKET = 100"
   ]
  },
  {
   "cell_type": "code",
   "execution_count": null,
   "metadata": {},
   "outputs": [],
   "source": [
    "test_race_ids = set(predicted_ranks_df[\"race_id\"].values)"
   ]
  },
  {
   "cell_type": "code",
   "execution_count": null,
   "metadata": {},
   "outputs": [],
   "source": [
    "len(test_race_ids)"
   ]
  },
  {
   "cell_type": "code",
   "execution_count": null,
   "metadata": {
    "scrolled": false
   },
   "outputs": [],
   "source": [
    "N = 3\n",
    "hit_num = 0\n",
    "ret = []\n",
    "ret_rates = []\n",
    "ticket_num = 0\n",
    "\n",
    "for race_id in tqdm(test_race_ids):\n",
    "    extracted_race_df = extract_race(top_n_test_df, race_id)\n",
    "    target_ranks = extracted_race_df[\"label\"].values.astype(int)\n",
    "    prize = extracted_race_df[\"tansyo\"].values[0]\n",
    "    prize = int(\"\".join(prize.split(\",\")))\n",
    "    predicted_ranks = extract_race(predicted_ranks_df, race_id)[\"rank\"].values\n",
    "    \n",
    "    top_n_box = TopNBox(predicted_ranks, N)\n",
    "    tickets = top_n_box.output_tickets(\"tansho\")\n",
    "#     print(\"race_id:\",race_id)\n",
    "#     print(\"pred:\",predicted_ranks)\n",
    "#     print(\"target:\",target_ranks)\n",
    "    n, r = return_calculation.tansho(tickets, target_ranks, prize)\n",
    "    hit_num += n\n",
    "    ticket_num += len(tickets)\n",
    "    ret.append(r)\n",
    "    ret_rates.append(r/(ticket_num*PRICE_OF_BETTING_TICKET))\n",
    "    \n",
    "#     print(f\"----{race_id}----\")\n",
    "#     print(prize)\n",
    "#     print(\"predicted_ranks:\", predicted_ranks)\n",
    "#     print(\"target_ranks:\", target_ranks)\n",
    "#     print(\"tickets:\", tickets)\n",
    "#     print(\"ticket_num:\", ticket_num)\n",
    "#     print(\"hit_num:\", n)\n",
    "#     print(\"return: \", r)\n",
    "    \n",
    "print(\"\")\n",
    "print(\"-----tansho resulut-----\")\n",
    "print(\"total tickets:\", ticket_num)\n",
    "print(\"total hit:\", hit_num)\n",
    "print(\"total return:\", np.sum(ret))\n",
    "print(\"hit rate:\", hit_num/ticket_num)\n",
    "print(\"return rate:\", np.sum(ret)/(ticket_num*PRICE_OF_BETTING_TICKET))\n",
    "print(\"return rate std:\", np.std(ret_rates, ddof=1))"
   ]
  },
  {
   "cell_type": "code",
   "execution_count": null,
   "metadata": {},
   "outputs": [],
   "source": [
    "def top_n_tansho_ret(race_df, predicted_ranks, target_ranks, N):\n",
    "    prize = extracted_race_df[\"tansyo\"].values[0]\n",
    "    prize = int(\"\".join(prize.split(\",\")))\n",
    "    predicted_ranks = extract_race(predicted_ranks_df, race_id)[\"rank\"].values\n",
    "    \n",
    "    top_n_box = TopNBox(predicted_ranks, N)\n",
    "    tickets = top_n_box.output_tickets(\"tansho\")\n",
    "    n, r = return_calculation.tansho(tickets, target_ranks, prize)\n",
    "    return n, r, tickets"
   ]
  },
  {
   "cell_type": "code",
   "execution_count": null,
   "metadata": {},
   "outputs": [],
   "source": [
    "def top_n_fukusho_ret(race_df, predicted_ranks, target_ranks, N):\n",
    "    first_prize = race_df[\"hukusyo_first\"].values[0]\n",
    "    second_prize = race_df[\"hukusyo_second\"].values[0]\n",
    "    third_prize = race_df[\"hukusyo_third\"].values[0]\n",
    "    first_prize = int(\"\".join(first_prize.split(\",\")))\n",
    "    second_prize = int(\"\".join(second_prize.split(\",\")))\n",
    "    third_prize = int(\"\".join(third_prize.split(\",\")))\n",
    "    predicted_ranks = extract_race(predicted_ranks_df, race_id)[\"rank\"].values\n",
    "    \n",
    "    top_n_box = TopNBox(predicted_ranks, N)\n",
    "    tickets = top_n_box.output_tickets(\"fukusho\")        \n",
    "    n, r = return_calculation.fukusho(tickets, target_ranks, first_prize, second_prize, third_prize)   \n",
    "    \n",
    "    return n, r, tickets"
   ]
  },
  {
   "cell_type": "code",
   "execution_count": null,
   "metadata": {},
   "outputs": [],
   "source": [
    "def top_n_wide_ret(race_df, predicted_ranks, target_ranks, N):\n",
    "    first_second_prize = race_df[\"wide_1_2\"].values[0]\n",
    "    first_third_prize = race_df[\"wide_1_3\"].values[0]\n",
    "    second_third_prize = race_df[\"hukusyo_third\"].values[0]\n",
    "    first_second_prize = int(\"\".join(first_second_prize.split(\",\")))\n",
    "    first_third_prize = int(\"\".join(first_third_prize.split(\",\")))\n",
    "    second_third_prize = int(\"\".join(second_third_prize.split(\",\")))\n",
    "    predicted_ranks = extract_race(predicted_ranks_df, race_id)[\"rank\"].values\n",
    "    \n",
    "    top_n_box = TopNBox(predicted_ranks, N)\n",
    "    tickets = top_n_box.output_tickets(\"wide\")        \n",
    "    n, r = return_calculation.wide(tickets, target_ranks, first_second_prize, first_third_prize, second_third_prize)   \n",
    "    \n",
    "    return n, r, tickets"
   ]
  },
  {
   "cell_type": "code",
   "execution_count": null,
   "metadata": {},
   "outputs": [],
   "source": [
    "def top_n_umaren_ret(race_df, predicted_ranks, target_ranks, N):\n",
    "    prize = extracted_race_df[\"umaren\"].values[0]\n",
    "    prize = int(\"\".join(prize.split(\",\")))\n",
    "    predicted_ranks = extract_race(predicted_ranks_df, race_id)[\"rank\"].values\n",
    "    \n",
    "    top_n_box = TopNBox(predicted_ranks, N)\n",
    "    tickets = top_n_box.output_tickets(\"umaren\")\n",
    "    n, r = return_calculation.umaren(tickets, target_ranks, prize)\n",
    "    return n, r, tickets"
   ]
  },
  {
   "cell_type": "code",
   "execution_count": null,
   "metadata": {},
   "outputs": [],
   "source": [
    "def top_n_umatan_ret(race_df, predicted_ranks, target_ranks, N):\n",
    "    prize = extracted_race_df[\"umatan\"].values[0]\n",
    "    prize = int(\"\".join(prize.split(\",\")))\n",
    "    predicted_ranks = extract_race(predicted_ranks_df, race_id)[\"rank\"].values\n",
    "    \n",
    "    top_n_box = TopNBox(predicted_ranks, N)\n",
    "    tickets = top_n_box.output_tickets(\"umatan\")\n",
    "    n, r = return_calculation.umatan(tickets, target_ranks, prize)\n",
    "    return n, r, tickets"
   ]
  },
  {
   "cell_type": "code",
   "execution_count": null,
   "metadata": {},
   "outputs": [],
   "source": [
    "def top_n_sanrempuku_ret(extracted_race_df, predicted_ranks, target_ranks, N):\n",
    "    prize = extracted_race_df[\"renhuku3\"].values[0]\n",
    "    prize = int(\"\".join(prize.split(\",\")))\n",
    "    predicted_ranks = extract_race(predicted_ranks_df, race_id)[\"rank\"].values\n",
    "    \n",
    "    top_n_box = TopNBox(predicted_ranks, N)\n",
    "    tickets = top_n_box.output_tickets(\"sanrempuku\")\n",
    "    n, r = return_calculation.sanrempuku(tickets, target_ranks, prize)\n",
    "    return n, r, tickets"
   ]
  },
  {
   "cell_type": "code",
   "execution_count": null,
   "metadata": {},
   "outputs": [],
   "source": [
    "def top_n_sanrentan_ret(extracted_race_df, predicted_ranks, target_ranks, N):\n",
    "    prize = extracted_race_df[\"rentan3\"].values[0]\n",
    "    prize = int(\"\".join(prize.split(\",\")))\n",
    "    predicted_ranks = extract_race(predicted_ranks_df, race_id)[\"rank\"].values\n",
    "    \n",
    "    top_n_box = TopNBox(predicted_ranks, N)\n",
    "    tickets = top_n_box.output_tickets(\"sanrentan\")\n",
    "    n, r = return_calculation.sanrentan(tickets, target_ranks, prize)\n",
    "    return n, r, tickets    "
   ]
  },
  {
   "cell_type": "markdown",
   "metadata": {},
   "source": [
    "### Top-N-BoxのN=1~5までの結果をそれぞれ出力"
   ]
  },
  {
   "cell_type": "code",
   "execution_count": null,
   "metadata": {},
   "outputs": [],
   "source": [
    "N = 1\n",
    "\n",
    "print(f\"Top-{N}-Box\")\n",
    "for ticket_type in ticket_types[:2]:\n",
    "    hit_num = 0\n",
    "    ret = []\n",
    "    ret_rates = []\n",
    "    ticket_num = 0\n",
    "    total_pay = 0\n",
    "    print(ticket_type)\n",
    "    for race_id in tqdm(test_race_ids):\n",
    "        extracted_race_df = extract_race(top_n_test_df, race_id)\n",
    "        target_ranks = extracted_race_df[\"label\"].values.astype(int)\n",
    "        if ticket_type == \"tansho\":\n",
    "            n, r, tickets = top_n_tansho_ret(extracted_race_df, predicted_ranks, target_ranks, N)\n",
    "        else: # \"fukusho\"\n",
    "            n, r, ticketsr = top_n_fukusho_ret(extracted_race_df, predicted_ranks, target_ranks, N)\n",
    "        \n",
    "        hit_num += n\n",
    "        ticket_num += len(tickets)\n",
    "        ret.append(r)\n",
    "        pay = ticket_num * PRICE_OF_BETTING_TICKET\n",
    "        total_pay += pay\n",
    "        ret_rates.append(r / pay)\n",
    "    \n",
    "    print(f\"---{ticket_type} resulut---\")\n",
    "    print(\"total tickets:\", ticket_num)\n",
    "    print(\"total pay:\", total_pay)\n",
    "    print(\"total hit:\", hit_num)\n",
    "    print(\"total return:\", np.sum(ret))\n",
    "    print(\"hit rate:\", hit_num/ticket_num)\n",
    "    print(\"total return rate:\", np.sum(ret)/total_pay)\n",
    "    print(\"return rate avg:\", np.mean(ret_rates))\n",
    "    print(\"return rate std:\", np.std(ret_rates, ddof=1))\n",
    "    print()"
   ]
  },
  {
   "cell_type": "code",
   "execution_count": null,
   "metadata": {},
   "outputs": [],
   "source": [
    "N = 2\n",
    "\n",
    "print(f\"Top-{N}-Box\")\n",
    "for ticket_type in ticket_types[:5]:\n",
    "    hit_num = 0\n",
    "    ret = []\n",
    "    ret_rates = []\n",
    "    ticket_num = 0\n",
    "    total_pay = 0\n",
    "    print(ticket_type)\n",
    "    for race_id in tqdm(test_race_ids):\n",
    "        extracted_race_df = extract_race(top_n_test_df, race_id)\n",
    "        target_ranks = extracted_race_df[\"label\"].values.astype(int)\n",
    "        if ticket_type == \"tansho\":\n",
    "            n, r, tickets = top_n_tansho_ret(extracted_race_df, predicted_ranks, target_ranks, N)\n",
    "        elif ticket_type == \"fukusho\":\n",
    "            n, r, tickets = top_n_fukusho_ret(extracted_race_df, predicted_ranks, target_ranks, N)\n",
    "        elif ticket_type == \"wide\":\n",
    "            n, r, tickets = top_n_wide_ret(extracted_race_df, predicted_ranks, target_ranks, N)\n",
    "        elif ticket_type == \"umaren\":\n",
    "            n, r, tickets = top_n_umaren_ret(extracted_race_df, predicted_ranks, target_ranks, N)\n",
    "        elif ticket_type == \"umatan\":\n",
    "            n, r, tickets = top_n_umatan_ret(extracted_race_df, predicted_ranks, target_ranks, N)\n",
    "            \n",
    "        hit_num += n\n",
    "        ticket_num += len(tickets)\n",
    "        ret.append(r)\n",
    "        pay = ticket_num * PRICE_OF_BETTING_TICKET\n",
    "        total_pay += pay\n",
    "        ret_rates.append(r / pay)\n",
    "    \n",
    "    print(f\"---{ticket_type} resulut---\")\n",
    "    print(\"total tickets:\", ticket_num)\n",
    "    print(\"total pay:\", total_pay)\n",
    "    print(\"total hit:\", hit_num)\n",
    "    print(\"total return:\", np.sum(ret))\n",
    "    print(\"hit rate:\", hit_num/ticket_num)\n",
    "    print(\"total return rate:\", np.sum(ret)/total_pay)\n",
    "    print(\"return rate avg:\", np.mean(ret_rates))\n",
    "    print(\"return rate std:\", np.std(ret_rates, ddof=1))\n",
    "    print()"
   ]
  },
  {
   "cell_type": "code",
   "execution_count": null,
   "metadata": {},
   "outputs": [],
   "source": [
    "N = 3\n",
    "\n",
    "print(f\"Top-{N}-Box\")\n",
    "for ticket_type in ticket_types:\n",
    "    hit_num = 0\n",
    "    ret = []\n",
    "    ret_rates = []\n",
    "    ticket_num = 0\n",
    "    total_pay = 0\n",
    "    print(ticket_type)\n",
    "    for race_id in tqdm(test_race_ids):\n",
    "        extracted_race_df = extract_race(top_n_test_df, race_id)\n",
    "        target_ranks = extracted_race_df[\"label\"].values.astype(int)\n",
    "        if ticket_type == \"tansho\":\n",
    "            n, r, tickets = top_n_tansho_ret(extracted_race_df, predicted_ranks, target_ranks, N)\n",
    "        elif ticket_type == \"fukusho\":\n",
    "            n, r, tickets = top_n_fukusho_ret(extracted_race_df, predicted_ranks, target_ranks, N)\n",
    "        elif ticket_type == \"wide\":\n",
    "            n, r, tickets = top_n_wide_ret(extracted_race_df, predicted_ranks, target_ranks, N)\n",
    "        elif ticket_type == \"umaren\":\n",
    "            n, r, tickets = top_n_umaren_ret(extracted_race_df, predicted_ranks, target_ranks, N)\n",
    "        elif ticket_type == \"umatan\":\n",
    "            n, r, tickets = top_n_umatan_ret(extracted_race_df, predicted_ranks, target_ranks, N)\n",
    "        elif ticket_type == \"sanrempuku\":\n",
    "            n, r, tickets = top_n_sanrempuku_ret(extracted_race_df, predicted_ranks, target_ranks, N)\n",
    "        elif ticket_type == \"sanrentan\":\n",
    "            n, r, tickets = top_n_sanrentan_ret(extracted_race_df, predicted_ranks, target_ranks, N)\n",
    "            \n",
    "        hit_num += n\n",
    "        ticket_num += len(tickets)\n",
    "        ret.append(r)\n",
    "        pay = ticket_num * PRICE_OF_BETTING_TICKET\n",
    "        total_pay += pay\n",
    "        ret_rates.append(r / pay)\n",
    "    \n",
    "    print(f\"---{ticket_type} resulut---\")\n",
    "    print(\"total tickets:\", ticket_num)\n",
    "    print(\"total pay:\", total_pay)\n",
    "    print(\"total hit:\", hit_num)\n",
    "    print(\"total return:\", np.sum(ret))\n",
    "    print(\"hit rate:\", hit_num/ticket_num)\n",
    "    print(\"total return rate:\", np.sum(ret)/total_pay)\n",
    "    print(\"return rate avg:\", np.mean(ret_rates))\n",
    "    print(\"return rate std:\", np.std(ret_rates, ddof=1))\n",
    "    print()"
   ]
  },
  {
   "cell_type": "code",
   "execution_count": null,
   "metadata": {},
   "outputs": [],
   "source": [
    "N = 4\n",
    "\n",
    "print(f\"Top-{N}-Box\")\n",
    "for ticket_type in ticket_types:\n",
    "    hit_num = 0\n",
    "    ret = []\n",
    "    ret_rates = []\n",
    "    ticket_num = 0\n",
    "    total_pay = 0\n",
    "    print(ticket_type)\n",
    "    for race_id in tqdm(test_race_ids):\n",
    "        extracted_race_df = extract_race(top_n_test_df, race_id)\n",
    "        target_ranks = extracted_race_df[\"label\"].values.astype(int)\n",
    "        if ticket_type == \"tansho\":\n",
    "            n, r, tickets = top_n_tansho_ret(extracted_race_df, predicted_ranks, target_ranks, N)\n",
    "        elif ticket_type == \"fukusho\":\n",
    "            n, r, tickets = top_n_fukusho_ret(extracted_race_df, predicted_ranks, target_ranks, N)\n",
    "        elif ticket_type == \"wide\":\n",
    "            n, r, tickets = top_n_wide_ret(extracted_race_df, predicted_ranks, target_ranks, N)\n",
    "        elif ticket_type == \"umaren\":\n",
    "            n, r, tickets = top_n_umaren_ret(extracted_race_df, predicted_ranks, target_ranks, N)\n",
    "        elif ticket_type == \"umatan\":\n",
    "            n, r, tickets = top_n_umatan_ret(extracted_race_df, predicted_ranks, target_ranks, N)\n",
    "        elif ticket_type == \"sanrempuku\":\n",
    "            n, r, tickets = top_n_sanrempuku_ret(extracted_race_df, predicted_ranks, target_ranks, N)\n",
    "        elif ticket_type == \"sanrentan\":\n",
    "            n, r, tickets = top_n_sanrentan_ret(extracted_race_df, predicted_ranks, target_ranks, N)\n",
    "            \n",
    "        hit_num += n\n",
    "        ticket_num += len(tickets)\n",
    "        ret.append(r)\n",
    "        pay = ticket_num * PRICE_OF_BETTING_TICKET\n",
    "        total_pay += pay\n",
    "        ret_rates.append(r / pay)\n",
    "    \n",
    "    print(f\"---{ticket_type} resulut---\")\n",
    "    print(\"total tickets:\", ticket_num)\n",
    "    print(\"total pay:\", total_pay)\n",
    "    print(\"total hit:\", hit_num)\n",
    "    print(\"total return:\", np.sum(ret))\n",
    "    print(\"hit rate:\", hit_num/ticket_num)\n",
    "    print(\"total return rate:\", np.sum(ret)/total_pay)\n",
    "    print(\"return rate avg:\", np.mean(ret_rates))\n",
    "    print(\"return rate std:\", np.std(ret_rates, ddof=1))\n",
    "    print()"
   ]
  },
  {
   "cell_type": "code",
   "execution_count": null,
   "metadata": {},
   "outputs": [],
   "source": [
    "N = 5\n",
    "\n",
    "print(f\"Top-{N}-Box\")\n",
    "for ticket_type in ticket_types:\n",
    "    hit_num = 0\n",
    "    ret = []\n",
    "    ret_rates = []\n",
    "    ticket_num = 0\n",
    "    total_pay = 0\n",
    "    print(ticket_type)\n",
    "    for race_id in tqdm(test_race_ids):\n",
    "        extracted_race_df = extract_race(top_n_test_df, race_id)\n",
    "        target_ranks = extracted_race_df[\"label\"].values.astype(int)\n",
    "        if ticket_type == \"tansho\":\n",
    "            n, r, tickets = top_n_tansho_ret(extracted_race_df, predicted_ranks, target_ranks, N)\n",
    "        elif ticket_type == \"fukusho\":\n",
    "            n, r, tickets = top_n_fukusho_ret(extracted_race_df, predicted_ranks, target_ranks, N)\n",
    "        elif ticket_type == \"wide\":\n",
    "            n, r, tickets = top_n_wide_ret(extracted_race_df, predicted_ranks, target_ranks, N)\n",
    "        elif ticket_type == \"umaren\":\n",
    "            n, r, tickets = top_n_umaren_ret(extracted_race_df, predicted_ranks, target_ranks, N)\n",
    "        elif ticket_type == \"umatan\":\n",
    "            n, r, tickets = top_n_umatan_ret(extracted_race_df, predicted_ranks, target_ranks, N)\n",
    "        elif ticket_type == \"sanrempuku\":\n",
    "            n, r, tickets = top_n_sanrempuku_ret(extracted_race_df, predicted_ranks, target_ranks, N)\n",
    "        elif ticket_type == \"sanrentan\":\n",
    "            n, r, tickets = top_n_sanrentan_ret(extracted_race_df, predicted_ranks, target_ranks, N)\n",
    "            \n",
    "        hit_num += n\n",
    "        ticket_num += len(tickets)\n",
    "        ret.append(r)\n",
    "        pay = ticket_num * PRICE_OF_BETTING_TICKET\n",
    "        total_pay += pay\n",
    "        ret_rates.append(r / pay)\n",
    "    \n",
    "    print(f\"---{ticket_type} resulut---\")\n",
    "    print(\"total tickets:\", ticket_num)\n",
    "    print(\"total pay:\", total_pay)\n",
    "    print(\"total hit:\", hit_num)\n",
    "    print(\"total return:\", np.sum(ret))\n",
    "    print(\"hit rate:\", hit_num/ticket_num)\n",
    "    print(\"total return rate:\", np.sum(ret)/total_pay)\n",
    "    print(\"return rate avg:\", np.mean(ret_rates))\n",
    "    print(\"return rate std:\", np.std(ret_rates, ddof=1))\n",
    "    print()"
   ]
  },
  {
   "cell_type": "code",
   "execution_count": null,
   "metadata": {},
   "outputs": [],
   "source": []
  }
 ],
 "metadata": {
  "kernelspec": {
   "display_name": "Python 3",
   "language": "python",
   "name": "python3"
  },
  "language_info": {
   "codemirror_mode": {
    "name": "ipython",
    "version": 3
   },
   "file_extension": ".py",
   "mimetype": "text/x-python",
   "name": "python",
   "nbconvert_exporter": "python",
   "pygments_lexer": "ipython3",
   "version": "3.7.9"
  }
 },
 "nbformat": 4,
 "nbformat_minor": 4
}
